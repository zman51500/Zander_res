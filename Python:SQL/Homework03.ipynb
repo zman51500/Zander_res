{
 "cells": [
  {
   "cell_type": "markdown",
   "metadata": {},
   "source": [
    "Before you turn this homework in, make sure everything runs as expected. First, **restart the kernel** and then **run all cells** (in the menubar, select Kernel$\\rightarrow$Restart \\& Run all). If you get error messages, the grader will get the same errors and won't be able to grade your work. \n",
    "\n",
    "Make sure you fill in any place that says `YOUR CODE HERE` or \"YOUR ANSWER HERE\". You may delete the line(s) that say \"**raise** NotImplementedError()\" and replace them with your actual work. Write all your work in the cells provided in this notebook. **DO NOT** add or delete any cells. \n",
    "\n",
    "Please fill in your name in the cell below."
   ]
  },
  {
   "cell_type": "code",
   "execution_count": 1,
   "metadata": {},
   "outputs": [],
   "source": [
    "NAME = \"Zander Bonnet\""
   ]
  },
  {
   "cell_type": "markdown",
   "metadata": {},
   "source": [
    "---"
   ]
  },
  {
   "cell_type": "markdown",
   "metadata": {
    "deletable": false,
    "editable": false,
    "nbgrader": {
     "cell_type": "markdown",
     "checksum": "098c36b77de8ef1e5216536e42e36b11",
     "grade": false,
     "grade_id": "cell-a6f3f12388a2e526",
     "locked": true,
     "schema_version": 3,
     "solution": false,
     "task": false
    }
   },
   "source": [
    "# Homework 3\n",
    "\n",
    "In all problems below, please comment your code sufficiently well so that the grader can follow what you are doing with ease. For non-coding answers, please make sure to formulate your explanation and answers in the form of complete English sentences. "
   ]
  },
  {
   "cell_type": "markdown",
   "metadata": {
    "deletable": false,
    "editable": false,
    "nbgrader": {
     "cell_type": "markdown",
     "checksum": "c62e56a290237a08cfed9f998fb739be",
     "grade": false,
     "grade_id": "cell-ef495698be86d216",
     "locked": true,
     "schema_version": 3,
     "solution": false,
     "task": false
    }
   },
   "source": [
    "## Problem 1 (a)\n",
    "\n",
    "Use the code given below to create a sequence of n Bernoulli trials with success probabilty p per trial. In a Bernoulli trial, a 1 counts as a success. A string of consecutive successes is known as a success run. Write a function (named \"count_runs\") that takes the sequence of Bernoulli trials as its input and returns the counts for runs of length k for each k observed in a dictionary.\n",
    "\n",
    "Example: n=13 Bernoulli trials [0, 1, 0, 1, 0, 0, 0, 1, 0, 1, 1, 0, 0] were simulated with p=0.5. There are 3 runs of length k=1, and 1 run of length k=2. Hence, your code should return {1:3, 2:1}. Your code should work even if I changed the seed or modified the values of n and/or p. "
   ]
  },
  {
   "cell_type": "code",
   "execution_count": 2,
   "metadata": {
    "deletable": false,
    "nbgrader": {
     "cell_type": "code",
     "checksum": "4e42a67ee6137a0a937cbbb51596835f",
     "grade": true,
     "grade_id": "cell-631ba149fea50a1d",
     "locked": false,
     "points": 3,
     "schema_version": 3,
     "solution": true,
     "task": false
    }
   },
   "outputs": [
    {
     "name": "stdout",
     "output_type": "stream",
     "text": [
      "[0, 1, 0, 1, 0, 0, 0, 1, 0, 1, 1, 0, 0]\n"
     ]
    },
    {
     "data": {
      "text/plain": [
       "{1: 3, 2: 1}"
      ]
     },
     "execution_count": 2,
     "metadata": {},
     "output_type": "execute_result"
    }
   ],
   "source": [
    "import random\n",
    "\n",
    "random.seed(10)\n",
    "n=13\n",
    "p=0.5\n",
    "seq = random.choices([1, 0],[p,1-p],k=n) # create sequence of n Bernoulli trials\n",
    "print(seq)\n",
    "\n",
    "def run_counts(seq):  \n",
    "    length = 0\n",
    "    lengths = []\n",
    "    iteration = 0\n",
    "    while iteration < len(seq):\n",
    "        if (seq[iteration] == 1) & (iteration < len(seq) - 1): #Adds 1 to length if not last in seq and is a 1\n",
    "            length += 1\n",
    "            iteration += 1\n",
    "        elif (seq[iteration] == 1) & (iteration == len(seq) - 1): #Adds 1 to length if it is the last in seq and is a 1\n",
    "            length += 1                                           #Then sets that as final length for that run\n",
    "            lengths.append(length)\n",
    "            iteration += 1\n",
    "        else: \n",
    "            if length > 0: #If this is the end of a run copy the length of the run\n",
    "                lengths.append(length)\n",
    "                length = 0\n",
    "            iteration += 1\n",
    "    lens = set(lengths)\n",
    "    fin = {}\n",
    "    for i in lens: #Creates dict and counts the amount of times a run occred\n",
    "        fin[i] = lengths.count(i)    \n",
    "    return fin\n",
    "            \n",
    "run_counts(seq)"
   ]
  },
  {
   "cell_type": "markdown",
   "metadata": {},
   "source": [
    "## Problem 1 (b)\n",
    "\n",
    "Continuing with the Bernoulli trials from the previous problem. We want to numerically estimate the probability to have at least one run of length 5 or longer for n=100 and p=0.5. Write code to estimate this probability and report your result in form of a print statement. "
   ]
  },
  {
   "cell_type": "code",
   "execution_count": 3,
   "metadata": {
    "deletable": false,
    "nbgrader": {
     "cell_type": "code",
     "checksum": "407480936517661c7dcdf426b73d74a3",
     "grade": true,
     "grade_id": "cell-24926ec4f814a84e",
     "locked": false,
     "points": 2,
     "schema_version": 3,
     "solution": true,
     "task": false
    }
   },
   "outputs": [
    {
     "name": "stdout",
     "output_type": "stream",
     "text": [
      "0.80446\n"
     ]
    }
   ],
   "source": [
    "# YOUR CODE HERE\n",
    "random.seed(10)\n",
    "n=100\n",
    "p=0.5\n",
    "sucess = 0\n",
    "trials = 100000\n",
    "\n",
    "for i in range(trials):\n",
    "    seq = random.choices([1, 0],[p,1-p],k=n) # create sequence of n Bernoulli trials\n",
    "    d = run_counts(seq) # Runs function above\n",
    "    lens = list(d.keys()) #Makes a list of the keys\n",
    "    if lens[-1] >=5: #If the the last key value is 5 or longer then there must be a run of 5 or longer\n",
    "        sucess += 1\n",
    "\n",
    "print(sucess/trials)"
   ]
  },
  {
   "cell_type": "markdown",
   "metadata": {},
   "source": [
    "## Problem 1 (c) \n",
    "\n",
    "What is more likely - to see at least one run of length 5 or longer in 100 trials with p=0.5 or to see at least one run of length 7 or longer in 100 trials with p=0.7? Explain how you come to your conclusion. "
   ]
  },
  {
   "cell_type": "code",
   "execution_count": 4,
   "metadata": {
    "deletable": false,
    "nbgrader": {
     "cell_type": "code",
     "checksum": "74de881dc19949c9c9bc2b18279272ed",
     "grade": true,
     "grade_id": "cell-99194fcbaaef3c27",
     "locked": false,
     "points": 0,
     "schema_version": 3,
     "solution": true,
     "task": false
    }
   },
   "outputs": [
    {
     "name": "stdout",
     "output_type": "stream",
     "text": [
      "0.99941\n"
     ]
    }
   ],
   "source": [
    "# YOUR CODE HERE\n",
    "random.seed(10)\n",
    "n=100\n",
    "p=0.7\n",
    "sucess = 0\n",
    "trials = 100000\n",
    "\n",
    "for i in range(trials):\n",
    "    seq = random.choices([1, 0],[p,1-p],k=n) # create sequence of n Bernoulli trials\n",
    "    d = run_counts(seq) # Runs function above\n",
    "    lens = list(d.keys()) #Makes a list of the keys\n",
    "    if lens[-1] >=5: #If the the last key value is 5 or longer then there must be a run of 5 or longer\n",
    "        sucess += 1\n",
    "\n",
    "print(sucess/trials)"
   ]
  },
  {
   "cell_type": "markdown",
   "metadata": {
    "deletable": false,
    "nbgrader": {
     "cell_type": "markdown",
     "checksum": "335885b3f09c9e33f11a5d56bd805f00",
     "grade": true,
     "grade_id": "cell-2d53817c1f1588a8",
     "locked": false,
     "points": 1,
     "schema_version": 3,
     "solution": true,
     "task": false
    }
   },
   "source": [
    "## Answer 1C\n",
    "You are more likely to see one run of 7 or lonnger with p=0.7 becasue .7^7 is a larger number then .5^5. This means that in the case where p = 0.7 there is a higher probabilty of getting 7 in a row then if p = 0.5 and getting 5 in a row."
   ]
  },
  {
   "cell_type": "markdown",
   "metadata": {},
   "source": [
    "## Problem 2\n",
    "\n",
    "A stick of length 1 is broken randomly along its length into two pieces. This means that the break point is a Uniform(0,1) random variable. What is the probability that the longer piece is more than twice as long as the shorter piece? \n",
    "\n",
    "a) Write a simulation that approximates the answer to this problem. \n",
    "\n",
    "**Note:** you should *not* use your knowledge of the theoretical answer in your simulation. That defies the purpose of a simulation. Simulate a uniform random variable to represent the break-point, instead. And actually compare the length of the \"pieces\" in your code. "
   ]
  },
  {
   "cell_type": "code",
   "execution_count": 5,
   "metadata": {
    "deletable": false,
    "nbgrader": {
     "cell_type": "code",
     "checksum": "2a26662c77d2156cb8c0b346fad36736",
     "grade": true,
     "grade_id": "cell-eedec05f0fd650d1",
     "locked": false,
     "points": 3,
     "schema_version": 3,
     "solution": true,
     "task": false
    }
   },
   "outputs": [
    {
     "name": "stdout",
     "output_type": "stream",
     "text": [
      "0.6667254\n"
     ]
    }
   ],
   "source": [
    "import random\n",
    "\n",
    "random.seed(10)\n",
    "trials = 10000000\n",
    "sucess = 0\n",
    "for i in range(trials):\n",
    "    split_point = random.uniform(0,1) #Gets the split point\n",
    "    if (split_point > 2*(1-split_point)): # Checks if teh split point is bigger than 2twice the other part\n",
    "        sucess += 1\n",
    "    elif (1-split_point > 2*split_point): #Checks if 2 times the split point is smaller than the other half\n",
    "        sucess += 1\n",
    "print(sucess/trials)"
   ]
  },
  {
   "cell_type": "markdown",
   "metadata": {},
   "source": [
    "b) Find the actual theoretical answer (using your Math 161A probability knowledge). Provide a short explanation for how you derive your answer. "
   ]
  },
  {
   "cell_type": "markdown",
   "metadata": {
    "deletable": false,
    "nbgrader": {
     "cell_type": "markdown",
     "checksum": "4f72778b5d34c1d86ae5e27a469c1271",
     "grade": true,
     "grade_id": "cell-b03e8954539eddc8",
     "locked": false,
     "points": 1,
     "schema_version": 3,
     "solution": true,
     "task": false
    }
   },
   "source": [
    "## Answer 2B\n",
    "Becasue we are using a unifrom distribution we know that all values between 0 and 1 have the same probability of being selected. We then know that the area under the curve integrates to 1. Since we know that in order for a broken stick part to be twice as long as the other it must be .66666 or longer. If the break point is less than .333333 we also know that the other stick will be longer than .6666666. Using that information we can do 1-unifCDF(.33,.67) = 1-.3333333 = .66666667"
   ]
  },
  {
   "cell_type": "markdown",
   "metadata": {},
   "source": [
    "## Problem 3\n",
    "\n",
    "Use the random package to simulate rolling five fair, six-sided dice. We'll call the result a \"full house\" if two and three of the dice, respectively show the same face. Example: 2,4,2,4,4 is a full house. 5,5,5,5,5 is not a full house. "
   ]
  },
  {
   "cell_type": "markdown",
   "metadata": {},
   "source": [
    "(a) Using your Math 161A knowledge, find the theoretical probability of obtaining a \"full house\", when rolling five fair, six-sided dice. Show your work in deriving your answer. \n",
    "\n",
    "Hint: Latex notation for combinations is \"\\binom{n}{k}\" to produce $\\binom{n}{k}$. Wrap Latex math code in dollar symbols (\\$) to compile it. "
   ]
  },
  {
   "cell_type": "markdown",
   "metadata": {
    "deletable": false,
    "nbgrader": {
     "cell_type": "markdown",
     "checksum": "d042f94106a51cb2732a7421a35c0a26",
     "grade": true,
     "grade_id": "cell-c185f3c9fb9b3cb9",
     "locked": false,
     "points": 1,
     "schema_version": 3,
     "solution": true,
     "task": false
    }
   },
   "source": [
    "## Answer 3A\n",
    "If we want to find the probabilty of a full we need to know total ways to acomplish a full house and the total ways to roll the 5 dice. We know the total way to roll the 5 dice is $6^5$ = 7776. To find the total amount of ways to get a full house you can do $\\binom{6}{1}$$\\binom{5}{3}$ * $\\binom{5}{1}$$\\binom{2}{2}$ = 300. Then we can do $300/7776$ = .03858"
   ]
  },
  {
   "cell_type": "markdown",
   "metadata": {
    "deletable": false,
    "editable": false,
    "nbgrader": {
     "cell_type": "markdown",
     "checksum": "d4327f90af13ada71714e397c5883b9f",
     "grade": false,
     "grade_id": "cell-55038c0b55e4c0df",
     "locked": true,
     "schema_version": 3,
     "solution": false,
     "task": false
    }
   },
   "source": [
    "(b) Write a function (named \"count_rolls()\") that takes the result of simulating rolling five fair, six-sided dice and returns a dictionary that keeps track of how often each number appeared.\n",
    "\n",
    "Example: If the rolls were 4,3,4,2,5 then your dictionary could be {4: 2, 3: 1, 2: 1, 5: 1}. I do not care about the order in which the keys appear in the dictionary. An equally good answer would be {2:1, 3:1, 4:2, 5:1}, for example."
   ]
  },
  {
   "cell_type": "code",
   "execution_count": 6,
   "metadata": {
    "deletable": false,
    "nbgrader": {
     "cell_type": "code",
     "checksum": "a47001dde5dd1655b3926052c8b44db0",
     "grade": true,
     "grade_id": "cell-358bc28873f8d117",
     "locked": false,
     "points": 3,
     "schema_version": 3,
     "solution": true,
     "task": false
    }
   },
   "outputs": [
    {
     "name": "stdout",
     "output_type": "stream",
     "text": [
      "[4, 3, 4, 2, 5]\n"
     ]
    }
   ],
   "source": [
    "import random \n",
    "random.seed(10)\n",
    "\n",
    "result = random.choices(range(1,7),[1]*6,k=5) # simulate five die rolls\n",
    "print(result)                                 # look at the rolls (feel free to delete later)\n",
    "\n",
    "def count_rolls(result):\n",
    "    d = {} # Makes a dictionary d\n",
    "    keys = set(result) # Gets values for keys\n",
    "    for i in keys: #Creates the dictionary and puts the number of times teh number ocures as the value\n",
    "        d[i] = result.count(i)\n",
    "    return d"
   ]
  },
  {
   "cell_type": "markdown",
   "metadata": {
    "deletable": false,
    "editable": false,
    "nbgrader": {
     "cell_type": "markdown",
     "checksum": "eb042ea898d11edb5379a92295e4716c",
     "grade": false,
     "grade_id": "cell-e9fd447349b1283c",
     "locked": true,
     "schema_version": 3,
     "solution": false,
     "task": false
    }
   },
   "source": [
    "(c) Simulate rolling five fair, six-sided dice n=10,000 times. Use your simulation results to estimate the probability of a full house. "
   ]
  },
  {
   "cell_type": "code",
   "execution_count": 7,
   "metadata": {
    "deletable": false,
    "nbgrader": {
     "cell_type": "code",
     "checksum": "05595adc738739079beb44254c2786fe",
     "grade": true,
     "grade_id": "cell-deb5efb0ac393d4d",
     "locked": false,
     "points": 3,
     "schema_version": 3,
     "solution": true,
     "task": false
    }
   },
   "outputs": [
    {
     "name": "stdout",
     "output_type": "stream",
     "text": [
      "0.0384\n"
     ]
    }
   ],
   "source": [
    "# YOUR CODE HERE\n",
    "import random \n",
    "random.seed(10)\n",
    "n = 10000\n",
    "sucess = 0\n",
    "for i in range(n):\n",
    "    result = random.choices(range(1,7),[1]*6,k=5) # simulate five die rolls\n",
    "    d = count_rolls(result) #Runs the method above to get the dictionary\n",
    "    if(len(d) == 2): #If length is not two it cannot be a full house\n",
    "        if (list(d.values())[0] == 3) | (list(d.values())[0] == 2): #The first value must be a 3 or a 2\n",
    "            sucess += 1\n",
    "print(sucess/n)        "
   ]
  },
  {
   "cell_type": "markdown",
   "metadata": {
    "deletable": false,
    "editable": false,
    "nbgrader": {
     "cell_type": "markdown",
     "checksum": "c08e7f0a78b6789b4adcc2fb687d3a4b",
     "grade": false,
     "grade_id": "cell-e042be5229002282",
     "locked": true,
     "schema_version": 3,
     "solution": false,
     "task": false
    }
   },
   "source": [
    "## Problem 4\n",
    "\n",
    "Recall the first in-class practice problem from 02/07/2022. Take user input of a date in the form xx/xx/xxxx and return a statement that tells the user whether or not that date is a palindrome. \n",
    "\n",
    "Example: 12/02/2021 reads the same forward and backward and is thus a palindrome date. 01/13/1978 is not a palindrome date (since it does not read the same backwards and forwards). \n",
    "\n",
    "The code below does not work as intended (based on the comments). Describe what the code does that is not intended. Find out and explain *why* this code does not work. Be as specific as you can in your explanation. How could the code be minimally modified to make it work? (Minimally modified means that you leave as much as possible of the original code and make the smallest adjustment you can that will make the code run as intended. Rewriting the whole program from scratch is not a minimal modification). "
   ]
  },
  {
   "cell_type": "code",
   "execution_count": 8,
   "metadata": {
    "deletable": false,
    "editable": false,
    "nbgrader": {
     "cell_type": "code",
     "checksum": "b62e4abf0c2ce0444b48e2b7039c2d07",
     "grade": false,
     "grade_id": "cell-df926812685b4223",
     "locked": true,
     "schema_version": 3,
     "solution": false,
     "task": false
    }
   },
   "outputs": [
    {
     "name": "stdout",
     "output_type": "stream",
     "text": [
      "Please enter a date in form xx/xx/xxxx: 12/02/2021\n",
      "your date is not a palindrome\n"
     ]
    }
   ],
   "source": [
    "a = input(\"Please enter a date in form xx/xx/xxxx: \") \n",
    "                          # gather user input of date as string\n",
    "a = a.replace(\"/\",\"\")     # remove slashes from string\n",
    "b=list(a)                 # make string into list and make copy of the list\n",
    "b.reverse()               # reverse the order of elements in list b\n",
    "if (a==b):                # compare lists a and b and print out appropriate statement\n",
    "    print(\"your date is a palindrome\")\n",
    "else:\n",
    "    print(\"your date is not a palindrome\")"
   ]
  },
  {
   "cell_type": "markdown",
   "metadata": {
    "deletable": false,
    "nbgrader": {
     "cell_type": "markdown",
     "checksum": "38d89f8e7570a9afb01d3a8df3bd73bc",
     "grade": true,
     "grade_id": "cell-dd42b7bd4db6d1fa",
     "locked": false,
     "points": 2,
     "schema_version": 3,
     "solution": true,
     "task": false
    }
   },
   "source": [
    "## Answer 4\n",
    "This code does not work becasue we are trying to compare the string form to the reverse list form. a is still the orignial with no slashes string and b is the string reveresed in list form. We could add a = list(a) after the replace statement and the code would work."
   ]
  }
 ],
 "metadata": {
  "kernelspec": {
   "display_name": "Python 3 (ipykernel)",
   "language": "python",
   "name": "python3"
  },
  "language_info": {
   "codemirror_mode": {
    "name": "ipython",
    "version": 3
   },
   "file_extension": ".py",
   "mimetype": "text/x-python",
   "name": "python",
   "nbconvert_exporter": "python",
   "pygments_lexer": "ipython3",
   "version": "3.9.7"
  }
 },
 "nbformat": 4,
 "nbformat_minor": 2
}
