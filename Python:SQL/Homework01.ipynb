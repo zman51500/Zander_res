{
 "cells": [
  {
   "cell_type": "markdown",
   "metadata": {},
   "source": [
    "Before you turn this homework in, make sure everything runs as expected. First, **restart the kernel** and then **run all cells** (in the menubar, select Kernel$\\rightarrow$Restart \\& Run all). If you get error messages, the grader will get the same errors and won't be able to grade your work. \n",
    "\n",
    "Make sure you fill in any place that says `YOUR CODE HERE` or \"YOUR ANSWER HERE\". You may delete the line(s) that say \"**raise** NotImplementedError()\" and replace them with your actual work. Write all your work in the cells provided in this notebook. **DO NOT** add or delete any cells. \n",
    "\n",
    "Please fill in your name in the cell below."
   ]
  },
  {
   "cell_type": "code",
   "execution_count": 1,
   "metadata": {},
   "outputs": [],
   "source": [
    "NAME = \"Zander Bonnet\""
   ]
  },
  {
   "cell_type": "markdown",
   "metadata": {},
   "source": [
    "---"
   ]
  },
  {
   "cell_type": "markdown",
   "metadata": {
    "deletable": false,
    "editable": false,
    "nbgrader": {
     "cell_type": "markdown",
     "checksum": "85f97d44322ffa112115254f82ebff03",
     "grade": false,
     "grade_id": "cell-ef495698be86d216",
     "locked": true,
     "schema_version": 3,
     "solution": false,
     "task": false
    }
   },
   "source": [
    "## Problem 1\n",
    "\n",
    "The file \"Temp.txt\" which you can download from the homework tab on Canvas, contains the monthly high-temperatures (in degrees Celsius) at Heathrow airport for the years 1948 through 2016. Save the file on your computer (in a folder that you can find again). Run the code below, changing the path to the appropriate path on **your** computer. It's ok to use forward slashes in the path name, regardless of whether you're working on Windows or MacOS. "
   ]
  },
  {
   "cell_type": "code",
   "execution_count": 2,
   "metadata": {},
   "outputs": [],
   "source": [
    "temperatures = []\n",
    "\n",
    "from pathlib import Path\n",
    "\n",
    "data_folder = Path('/Users/zanderbonnet/Desktop/Math 167PS/Homework/Data')\n",
    "# make sure to change this path to the actual folder where YOU have saved the data file. \n",
    "\n",
    "file_to_open = data_folder / \"Temp.txt\"\n",
    "\n",
    "file_to_open\n",
    "f = open(file_to_open)\n",
    "\n",
    "for row in f:\n",
    "    temperatures.append(float(row))"
   ]
  },
  {
   "cell_type": "markdown",
   "metadata": {
    "deletable": false,
    "editable": false,
    "nbgrader": {
     "cell_type": "markdown",
     "checksum": "3addfc70b72b05d36342f995d835cd32",
     "grade": false,
     "grade_id": "cell-90600cd732395818",
     "locked": true,
     "schema_version": 3,
     "solution": false,
     "task": false
    }
   },
   "source": [
    "You have now created an object called temperatures. \n",
    "\n",
    "Answer the following questions by inserting your code into the code box (after the \"# your code here\" prompt. Comment out or delete the \"raise NotImplementedError()\") and answering the question in the form of a complete English sentence in the respective Markdown box. \n",
    "\n",
    "a) What kind of object type is \"temperatures\"?"
   ]
  },
  {
   "cell_type": "code",
   "execution_count": 3,
   "metadata": {
    "deletable": false,
    "nbgrader": {
     "cell_type": "code",
     "checksum": "c3f47727e253fd45b2b27e363771f4dd",
     "grade": true,
     "grade_id": "cell-1274844462a16520",
     "locked": false,
     "points": 1,
     "schema_version": 3,
     "solution": true,
     "task": false
    }
   },
   "outputs": [
    {
     "data": {
      "text/plain": [
       "list"
      ]
     },
     "execution_count": 3,
     "metadata": {},
     "output_type": "execute_result"
    }
   ],
   "source": [
    "# YOUR CODE HERE\n",
    "type(temperatures)"
   ]
  },
  {
   "cell_type": "markdown",
   "metadata": {
    "deletable": false,
    "nbgrader": {
     "cell_type": "markdown",
     "checksum": "a60cbb57dff6891a80c6942df500e65f",
     "grade": true,
     "grade_id": "cell-34240bd2605d2f58",
     "locked": false,
     "points": 1,
     "schema_version": 3,
     "solution": true,
     "task": false
    }
   },
   "source": [
    "The object temperatures is a LIST."
   ]
  },
  {
   "cell_type": "markdown",
   "metadata": {},
   "source": [
    "b) Describe what the \"float()\" and \"append()\" commands do, respectively, that have been applied above. Try to leave out the \"float()\" command. What happens then? "
   ]
  },
  {
   "cell_type": "markdown",
   "metadata": {
    "deletable": false,
    "nbgrader": {
     "cell_type": "markdown",
     "checksum": "2653d6fd0d4d164f0fc1c89923901faa",
     "grade": true,
     "grade_id": "cell-500e86f52b100e06",
     "locked": false,
     "points": 2,
     "schema_version": 3,
     "solution": true,
     "task": false
    }
   },
   "source": [
    "float() - This command takes the data input from every row of the .txt file and converts the it to a float. It is done becasue when we read off the file the data is originaly stored as a string.\n",
    "\n",
    "append() - This command takes the the input of a data point read off of the file, after it has been converted to a float, and sticks it on the end of the list temperatures."
   ]
  },
  {
   "cell_type": "markdown",
   "metadata": {
    "deletable": false,
    "editable": false,
    "nbgrader": {
     "cell_type": "markdown",
     "checksum": "ea10dd8b94337c18b98c1262adef51f3",
     "grade": false,
     "grade_id": "cell-1ed6dd0ce4068fd0",
     "locked": true,
     "schema_version": 3,
     "solution": false,
     "task": false
    }
   },
   "source": [
    "c) How many temperatures have been recorded in the file?"
   ]
  },
  {
   "cell_type": "code",
   "execution_count": 4,
   "metadata": {
    "deletable": false,
    "nbgrader": {
     "cell_type": "code",
     "checksum": "dbc06dc4272e2b3a0cd8d01d2ca6858e",
     "grade": true,
     "grade_id": "cell-4102cec12478cb95",
     "locked": false,
     "points": 0.5,
     "schema_version": 3,
     "solution": true,
     "task": false
    }
   },
   "outputs": [
    {
     "data": {
      "text/plain": [
       "828"
      ]
     },
     "execution_count": 4,
     "metadata": {},
     "output_type": "execute_result"
    }
   ],
   "source": [
    "# YOUR CODE HERE\n",
    "len(temperatures)"
   ]
  },
  {
   "cell_type": "markdown",
   "metadata": {
    "deletable": false,
    "nbgrader": {
     "cell_type": "markdown",
     "checksum": "d44ea0463e761488492da1a6a2d5ddb0",
     "grade": true,
     "grade_id": "cell-6ad7e392521a4a0e",
     "locked": false,
     "points": 0.5,
     "schema_version": 3,
     "solution": true,
     "task": false
    }
   },
   "source": [
    "There are 828 temperatures recorded in the file."
   ]
  },
  {
   "cell_type": "markdown",
   "metadata": {
    "deletable": false,
    "editable": false,
    "nbgrader": {
     "cell_type": "markdown",
     "checksum": "f61e1abf01d6a8746451fb557e8da1fa",
     "grade": false,
     "grade_id": "cell-5d583cf14544aa4b",
     "locked": true,
     "schema_version": 3,
     "solution": false,
     "task": false
    }
   },
   "source": [
    "d) What are the highest and lowest temperatures recorded?"
   ]
  },
  {
   "cell_type": "code",
   "execution_count": 5,
   "metadata": {
    "deletable": false,
    "nbgrader": {
     "cell_type": "code",
     "checksum": "5d080e038ed4c41f8f093cadae3129f7",
     "grade": true,
     "grade_id": "cell-31ed00b609d91dea",
     "locked": false,
     "points": 1,
     "schema_version": 3,
     "solution": true,
     "task": false
    }
   },
   "outputs": [
    {
     "name": "stdout",
     "output_type": "stream",
     "text": [
      "0.8\n",
      "28.2\n"
     ]
    }
   ],
   "source": [
    "# YOUR CODE HERE\n",
    "print(min(temperatures))\n",
    "print(max(temperatures))"
   ]
  },
  {
   "cell_type": "markdown",
   "metadata": {
    "deletable": false,
    "nbgrader": {
     "cell_type": "markdown",
     "checksum": "e7b582d3c953ee1738d64a6724411862",
     "grade": true,
     "grade_id": "cell-c0b16d7f7383f06d",
     "locked": false,
     "points": 1,
     "schema_version": 3,
     "solution": true,
     "task": false
    }
   },
   "source": [
    "The highest temperature recorded was 28.2 and the lowest was 0.8."
   ]
  },
  {
   "cell_type": "markdown",
   "metadata": {
    "deletable": false,
    "editable": false,
    "nbgrader": {
     "cell_type": "markdown",
     "checksum": "6a438ef70a0ec091b092c1fe73bdd91f",
     "grade": false,
     "grade_id": "cell-7a234034741311d6",
     "locked": true,
     "schema_version": 3,
     "solution": false,
     "task": false
    }
   },
   "source": [
    "e) The first observation in the `temperatures` object is from a January 1948. Using only the commands you learned from chapter 5 (that is, using base python and no additional python libraries), find the the mean January high temperature at London Heathrow between the years 1948 and 2016. Round your answer to two decimal digits accuracy. "
   ]
  },
  {
   "cell_type": "code",
   "execution_count": 6,
   "metadata": {
    "deletable": false,
    "nbgrader": {
     "cell_type": "code",
     "checksum": "0a5806945131dcdad3fe0413115fc201",
     "grade": true,
     "grade_id": "cell-befa8725c629dacc",
     "locked": false,
     "points": 1,
     "schema_version": 3,
     "solution": true,
     "task": false
    }
   },
   "outputs": [
    {
     "name": "stdout",
     "output_type": "stream",
     "text": [
      "7.56\n"
     ]
    }
   ],
   "source": [
    "# YOUR CODE HERE\n",
    "janTemps = temperatures[::12]\n",
    "mean = sum(janTemps)/len(janTemps)\n",
    "print(round(mean,2))"
   ]
  },
  {
   "cell_type": "markdown",
   "metadata": {
    "deletable": false,
    "nbgrader": {
     "cell_type": "markdown",
     "checksum": "13338e0a285333aed0cac52b6c20c3d3",
     "grade": true,
     "grade_id": "cell-1a00335306f17863",
     "locked": false,
     "points": 1,
     "schema_version": 3,
     "solution": true,
     "task": false
    }
   },
   "source": [
    "The average temperature in January from 1948 to 2016 was 7.56."
   ]
  },
  {
   "cell_type": "markdown",
   "metadata": {
    "deletable": false,
    "editable": false,
    "nbgrader": {
     "cell_type": "markdown",
     "checksum": "192ef2bb11274ebd2ac2e916cd09857b",
     "grade": false,
     "grade_id": "cell-339113f64bcb4534",
     "locked": true,
     "schema_version": 3,
     "solution": false,
     "task": false
    }
   },
   "source": [
    "f) Find the median monthly high temperature (using only the commands you learned from chapter 5 and base python, not using additional modules or libraries). Use Python to round your result to two after-decimal digits. "
   ]
  },
  {
   "cell_type": "code",
   "execution_count": 7,
   "metadata": {
    "deletable": false,
    "nbgrader": {
     "cell_type": "code",
     "checksum": "97288dbeefb3f5b7e5f72f607a3b2dd4",
     "grade": true,
     "grade_id": "cell-559818acd1c52615",
     "locked": false,
     "points": 1,
     "schema_version": 3,
     "solution": true,
     "task": false
    }
   },
   "outputs": [
    {
     "name": "stdout",
     "output_type": "stream",
     "text": [
      "14.7\n"
     ]
    }
   ],
   "source": [
    "# YOUR CODE HERE\n",
    "sortedTemps = sorted(temperatures)\n",
    "#sortedTemps = [1,2,5,7,8,9]\n",
    "mid = len(sortedTemps)/2\n",
    "if (mid%1) == 0:\n",
    "    upper = sortedTemps[int(mid)]\n",
    "    lower = sortedTemps[int(mid - 1)]\n",
    "    print(round((upper + lower)/2,2))\n",
    "else:\n",
    "    print(round(sortedTemps[int(mid)],2))"
   ]
  },
  {
   "cell_type": "markdown",
   "metadata": {
    "deletable": false,
    "nbgrader": {
     "cell_type": "markdown",
     "checksum": "62f3029f7a8a92b456c18fbb2608acaf",
     "grade": true,
     "grade_id": "cell-522e5e9fef2c8465",
     "locked": false,
     "points": 1,
     "schema_version": 3,
     "solution": true,
     "task": false
    }
   },
   "source": [
    "The median monthly high temperature was 14.7."
   ]
  },
  {
   "cell_type": "markdown",
   "metadata": {
    "deletable": false,
    "editable": false,
    "nbgrader": {
     "cell_type": "markdown",
     "checksum": "2e444a1b44623277998c2a79a09b96a6",
     "grade": false,
     "grade_id": "cell-fba2aab074745cee",
     "locked": true,
     "schema_version": 3,
     "solution": false,
     "task": false
    }
   },
   "source": [
    "## Problem 2 \n",
    "\n",
    "Much of data science these days is based on text data. The text to be analyzed may be literature or postings on social media. The tasks to be performed could be sentiment analysis (trying to guess whether the writing is \"pro\" or \"con\" on a certain issue) to automatically detecting postings by Malicious bots. However, before you can perform any kind of machine learning procedure on a text, you have to first learn how to \"clean\" the text. That usually means removing all non-text elements and sometimes also removing filler words such as \"the\", \"it\", \"and\" etc. After that, what is usually analyzed is the frequency with which certain words appear and most often actually not the *order* in which they appear. \n",
    "\n",
    "The text below are the first three paragraphs of Franz Kafka's book \"Metamorphosis\". Our goal is to clean this text passage. "
   ]
  },
  {
   "cell_type": "code",
   "execution_count": 8,
   "metadata": {
    "deletable": false,
    "editable": false,
    "nbgrader": {
     "cell_type": "code",
     "checksum": "f900eb78bb94d97d003d0d1d541cc72f",
     "grade": false,
     "grade_id": "cell-6b3f5de1cf97e9e0",
     "locked": true,
     "schema_version": 3,
     "solution": false,
     "task": false
    }
   },
   "outputs": [],
   "source": [
    "text = \"\"\"One morning, when Gregor Samsa woke from troubled dreams, he found\n",
    "himself transformed in his bed into a horrible vermin.  He lay on\n",
    "his armour-like back, and if he lifted his head a little he could\n",
    "see his brown belly, slightly domed and divided by arches into stiff\n",
    "sections.  The bedding was hardly able to cover it and seemed ready\n",
    "to slide off any moment.  His many legs, pitifully thin compared\n",
    "with the size of the rest of him, waved about helplessly as he\n",
    "looked.\n",
    "\n",
    "\"What's happened to me?\" he thought.  It wasn't a dream.  His room,\n",
    "a proper human room although a little too small, lay peacefully\n",
    "between its four familiar walls.  A collection of textile samples\n",
    "lay spread out on the table - Samsa was a travelling salesman - and\n",
    "above it there hung a picture that he had recently cut out of an\n",
    "illustrated magazine and housed in a nice, gilded frame.  It showed\n",
    "a lady fitted out with a fur hat and fur boa who sat upright,\n",
    "raising a heavy fur muff that covered the whole of her lower arm\n",
    "towards the viewer.\n",
    "\n",
    "Gregor then turned to look out the window at the dull weather.\n",
    "Drops of rain could be heard hitting the pane, which made him feel\n",
    "quite sad.  \"How about if I sleep a little bit longer and forget all\n",
    "this nonsense\", he thought, but that was something he was unable to\n",
    "do because he was used to sleeping on his right, and in his present\n",
    "state couldn't get into that position.  However hard he threw\n",
    "himself onto his right, he always rolled back to where he was.  He\n",
    "must have tried it a hundred times, shut his eyes so that he\n",
    "wouldn't have to look at the floundering legs, and only stopped when\n",
    "he began to feel a mild, dull pain there that he had never felt\n",
    "before.\"\"\""
   ]
  },
  {
   "cell_type": "markdown",
   "metadata": {
    "deletable": false,
    "editable": false,
    "nbgrader": {
     "cell_type": "markdown",
     "checksum": "a4af973a32090ba3056e47cf1667cec7",
     "grade": false,
     "grade_id": "cell-4859f6c152b98634",
     "locked": true,
     "schema_version": 3,
     "solution": false,
     "task": false
    }
   },
   "source": [
    "a) Look at the text. What non-alphabetic character elements do you see in the text?"
   ]
  },
  {
   "cell_type": "markdown",
   "metadata": {
    "deletable": false,
    "nbgrader": {
     "cell_type": "markdown",
     "checksum": "5179b9354da36274477781e343fe5ffc",
     "grade": true,
     "grade_id": "cell-b91c05534addb82e",
     "locked": false,
     "points": 1,
     "schema_version": 3,
     "solution": true,
     "task": false
    }
   },
   "source": [
    "The non-alphabetic characters are [\" , \"  , \" - \" , \" . \" , \" ? \" , \" \" \"  , \" ' \"]"
   ]
  },
  {
   "cell_type": "markdown",
   "metadata": {
    "deletable": false,
    "editable": false,
    "nbgrader": {
     "cell_type": "markdown",
     "checksum": "5502765f8b53ae2a87adfa9ca9f64573",
     "grade": false,
     "grade_id": "cell-48d73327e92845c7",
     "locked": true,
     "schema_version": 3,
     "solution": false,
     "task": false
    }
   },
   "source": [
    "b) Using only the commands covered in class so far (in base python without use of additional libraries), write code to remove all non-alphabetic characters (such as punctuation)."
   ]
  },
  {
   "cell_type": "code",
   "execution_count": 9,
   "metadata": {
    "deletable": false,
    "nbgrader": {
     "cell_type": "code",
     "checksum": "2f81bba2fedd201a489616d7ca8eaf9f",
     "grade": true,
     "grade_id": "cell-4b64fbe18b6c49ed",
     "locked": false,
     "points": 2,
     "schema_version": 3,
     "solution": true,
     "task": false
    }
   },
   "outputs": [
    {
     "name": "stdout",
     "output_type": "stream",
     "text": [
      "One morning when Gregor Samsa woke from troubled dreams he found\n",
      "himself transformed in his bed into a horrible vermin  He lay on\n",
      "his armourlike back and if he lifted his head a little he could\n",
      "see his brown belly slightly domed and divided by arches into stiff\n",
      "sections  The bedding was hardly able to cover it and seemed ready\n",
      "to slide off any moment  His many legs pitifully thin compared\n",
      "with the size of the rest of him waved about helplessly as he\n",
      "looked\n",
      "\n",
      "Whats happened to me he thought  It wasnt a dream  His room\n",
      "a proper human room although a little too small lay peacefully\n",
      "between its four familiar walls  A collection of textile samples\n",
      "lay spread out on the table  Samsa was a travelling salesman  and\n",
      "above it there hung a picture that he had recently cut out of an\n",
      "illustrated magazine and housed in a nice gilded frame  It showed\n",
      "a lady fitted out with a fur hat and fur boa who sat upright\n",
      "raising a heavy fur muff that covered the whole of her lower arm\n",
      "towards the viewer\n",
      "\n",
      "Gregor then turned to look out the window at the dull weather\n",
      "Drops of rain could be heard hitting the pane which made him feel\n",
      "quite sad  How about if I sleep a little bit longer and forget all\n",
      "this nonsense he thought but that was something he was unable to\n",
      "do because he was used to sleeping on his right and in his present\n",
      "state couldnt get into that position  However hard he threw\n",
      "himself onto his right he always rolled back to where he was  He\n",
      "must have tried it a hundred times shut his eyes so that he\n",
      "wouldnt have to look at the floundering legs and only stopped when\n",
      "he began to feel a mild dull pain there that he had never felt\n",
      "before\n"
     ]
    }
   ],
   "source": [
    "# YOUR CODE HERE\n",
    "nonAlph = [\",\",\"-\",\".\",\"'\",\"?\",'\"']\n",
    "for x in nonAlph:\n",
    "    text = text.replace(x,\"\")\n",
    "print(text)"
   ]
  },
  {
   "cell_type": "markdown",
   "metadata": {
    "deletable": false,
    "editable": false,
    "nbgrader": {
     "cell_type": "markdown",
     "checksum": "32207b82a63b01152a56cac936acf742",
     "grade": false,
     "grade_id": "cell-d3b4342173920c17",
     "locked": true,
     "schema_version": 3,
     "solution": false,
     "task": false
    }
   },
   "source": [
    "c) Write code to make everything lower case and convert the text into a list of single words. "
   ]
  },
  {
   "cell_type": "code",
   "execution_count": 10,
   "metadata": {
    "deletable": false,
    "nbgrader": {
     "cell_type": "code",
     "checksum": "29a38852d5f6edf9f02883a477aeba80",
     "grade": true,
     "grade_id": "cell-1f0da4f57b41fe5e",
     "locked": false,
     "points": 2,
     "schema_version": 3,
     "solution": true,
     "task": false
    }
   },
   "outputs": [
    {
     "name": "stdout",
     "output_type": "stream",
     "text": [
      "['one', 'morning', 'when', 'gregor', 'samsa', 'woke', 'from', 'troubled', 'dreams', 'he', 'found', 'himself', 'transformed', 'in', 'his', 'bed', 'into', 'a', 'horrible', 'vermin', 'he', 'lay', 'on', 'his', 'armourlike', 'back', 'and', 'if', 'he', 'lifted', 'his', 'head', 'a', 'little', 'he', 'could', 'see', 'his', 'brown', 'belly', 'slightly', 'domed', 'and', 'divided', 'by', 'arches', 'into', 'stiff', 'sections', 'the', 'bedding', 'was', 'hardly', 'able', 'to', 'cover', 'it', 'and', 'seemed', 'ready', 'to', 'slide', 'off', 'any', 'moment', 'his', 'many', 'legs', 'pitifully', 'thin', 'compared', 'with', 'the', 'size', 'of', 'the', 'rest', 'of', 'him', 'waved', 'about', 'helplessly', 'as', 'he', 'looked', 'whats', 'happened', 'to', 'me', 'he', 'thought', 'it', 'wasnt', 'a', 'dream', 'his', 'room', 'a', 'proper', 'human', 'room', 'although', 'a', 'little', 'too', 'small', 'lay', 'peacefully', 'between', 'its', 'four', 'familiar', 'walls', 'a', 'collection', 'of', 'textile', 'samples', 'lay', 'spread', 'out', 'on', 'the', 'table', 'samsa', 'was', 'a', 'travelling', 'salesman', 'and', 'above', 'it', 'there', 'hung', 'a', 'picture', 'that', 'he', 'had', 'recently', 'cut', 'out', 'of', 'an', 'illustrated', 'magazine', 'and', 'housed', 'in', 'a', 'nice', 'gilded', 'frame', 'it', 'showed', 'a', 'lady', 'fitted', 'out', 'with', 'a', 'fur', 'hat', 'and', 'fur', 'boa', 'who', 'sat', 'upright', 'raising', 'a', 'heavy', 'fur', 'muff', 'that', 'covered', 'the', 'whole', 'of', 'her', 'lower', 'arm', 'towards', 'the', 'viewer', 'gregor', 'then', 'turned', 'to', 'look', 'out', 'the', 'window', 'at', 'the', 'dull', 'weather', 'drops', 'of', 'rain', 'could', 'be', 'heard', 'hitting', 'the', 'pane', 'which', 'made', 'him', 'feel', 'quite', 'sad', 'how', 'about', 'if', 'i', 'sleep', 'a', 'little', 'bit', 'longer', 'and', 'forget', 'all', 'this', 'nonsense', 'he', 'thought', 'but', 'that', 'was', 'something', 'he', 'was', 'unable', 'to', 'do', 'because', 'he', 'was', 'used', 'to', 'sleeping', 'on', 'his', 'right', 'and', 'in', 'his', 'present', 'state', 'couldnt', 'get', 'into', 'that', 'position', 'however', 'hard', 'he', 'threw', 'himself', 'onto', 'his', 'right', 'he', 'always', 'rolled', 'back', 'to', 'where', 'he', 'was', 'he', 'must', 'have', 'tried', 'it', 'a', 'hundred', 'times', 'shut', 'his', 'eyes', 'so', 'that', 'he', 'wouldnt', 'have', 'to', 'look', 'at', 'the', 'floundering', 'legs', 'and', 'only', 'stopped', 'when', 'he', 'began', 'to', 'feel', 'a', 'mild', 'dull', 'pain', 'there', 'that', 'he', 'had', 'never', 'felt', 'before']\n"
     ]
    }
   ],
   "source": [
    "# YOUR CODE HERE\n",
    "wordList = text.split()\n",
    "for i in range(len(wordList)):\n",
    "    wordList[i] = wordList[i].lower()  \n",
    "print(wordList)"
   ]
  },
  {
   "cell_type": "markdown",
   "metadata": {
    "deletable": false,
    "editable": false,
    "nbgrader": {
     "cell_type": "markdown",
     "checksum": "3aedfb091a58018407f7a53e384b2a9f",
     "grade": false,
     "grade_id": "cell-c6d3acee7f698a50",
     "locked": true,
     "schema_version": 3,
     "solution": false,
     "task": false
    }
   },
   "source": [
    "d) How many words are in the list? Count, how often the word \"he\" appears in the three paragraphs. Don't count if \"he\" is part of another word, e.g., \"tHEn\". "
   ]
  },
  {
   "cell_type": "code",
   "execution_count": 11,
   "metadata": {
    "deletable": false,
    "nbgrader": {
     "cell_type": "code",
     "checksum": "5575b4a10677310a03bbaf2c2fd4965e",
     "grade": true,
     "grade_id": "cell-6e885dd0313883a1",
     "locked": false,
     "points": 1,
     "schema_version": 3,
     "solution": true,
     "task": false
    }
   },
   "outputs": [
    {
     "name": "stdout",
     "output_type": "stream",
     "text": [
      "313\n",
      "17\n"
     ]
    }
   ],
   "source": [
    "# YOUR CODE HERE\n",
    "print(len(wordList))\n",
    "print(wordList.count(\"he\"))"
   ]
  },
  {
   "cell_type": "markdown",
   "metadata": {
    "deletable": false,
    "nbgrader": {
     "cell_type": "markdown",
     "checksum": "53b88972cb79abe71d19552c7640315b",
     "grade": true,
     "grade_id": "cell-fabf0ebc115053cf",
     "locked": false,
     "points": 1,
     "schema_version": 3,
     "solution": true,
     "task": false
    }
   },
   "source": [
    "There are 313 words in the list and the word \"he\" appears 17 times."
   ]
  },
  {
   "cell_type": "markdown",
   "metadata": {
    "deletable": false,
    "editable": false,
    "nbgrader": {
     "cell_type": "markdown",
     "checksum": "2c1348e4dd63fa18eff4e5f0478b0f87",
     "grade": false,
     "grade_id": "cell-c0ad33a5db7f9482",
     "locked": true,
     "schema_version": 3,
     "solution": false,
     "task": false
    }
   },
   "source": [
    "e) How many distinct (different) words appear in the first three paragragraphs?"
   ]
  },
  {
   "cell_type": "code",
   "execution_count": 12,
   "metadata": {
    "deletable": false,
    "nbgrader": {
     "cell_type": "code",
     "checksum": "101e34d5cc002ae92867b0775099b32e",
     "grade": true,
     "grade_id": "cell-b7c0416724c28ac2",
     "locked": false,
     "points": 1,
     "schema_version": 3,
     "solution": true,
     "task": false
    }
   },
   "outputs": [
    {
     "name": "stdout",
     "output_type": "stream",
     "text": [
      "194\n",
      "194\n"
     ]
    }
   ],
   "source": [
    "# YOUR CODE HERE\n",
    "uniqueWords = set(wordList)\n",
    "print(len(uniqueWords))\n",
    "\n",
    "\n",
    "#Method 2\n",
    "unWor = list()\n",
    "for i in range(len(wordList)):\n",
    "    if(wordList[i] not in unWor):\n",
    "        unWor.append(wordList[i])\n",
    "print(len(unWor))"
   ]
  },
  {
   "cell_type": "markdown",
   "metadata": {
    "deletable": false,
    "nbgrader": {
     "cell_type": "markdown",
     "checksum": "e3e0b20946d0579d7870ceff6441ed6c",
     "grade": true,
     "grade_id": "cell-7f9326ad65184f44",
     "locked": false,
     "points": 1,
     "schema_version": 3,
     "solution": true,
     "task": false
    }
   },
   "source": [
    "There are 194 different words in the first three paragraphs."
   ]
  }
 ],
 "metadata": {
  "kernelspec": {
   "display_name": "Python 3 (ipykernel)",
   "language": "python",
   "name": "python3"
  },
  "language_info": {
   "codemirror_mode": {
    "name": "ipython",
    "version": 3
   },
   "file_extension": ".py",
   "mimetype": "text/x-python",
   "name": "python",
   "nbconvert_exporter": "python",
   "pygments_lexer": "ipython3",
   "version": "3.9.7"
  }
 },
 "nbformat": 4,
 "nbformat_minor": 2
}
