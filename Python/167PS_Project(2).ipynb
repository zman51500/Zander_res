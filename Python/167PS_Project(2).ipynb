{
 "cells": [
  {
   "cell_type": "code",
   "execution_count": 58,
   "id": "bb81b2ff",
   "metadata": {},
   "outputs": [],
   "source": [
    "import pandas as pd\n",
    "import numpy as np\n",
    "import itertools\n",
    "from sklearn.linear_model import LinearRegression\n",
    "from sklearn.model_selection import train_test_split\n",
    "from sklearn.decomposition import PCA\n",
    "from sklearn.preprocessing import StandardScaler\n",
    "import matplotlib.pyplot as plt\n",
    "import seaborn as sns\n",
    "import math\n",
    "\n",
    "\n",
    "bottle = \"/Users/Nick/Downloads/bottle.csv/bottle.csv\""
   ]
  },
  {
   "cell_type": "code",
   "execution_count": 70,
   "id": "9771446a",
   "metadata": {},
   "outputs": [
    {
     "name": "stderr",
     "output_type": "stream",
     "text": [
      "C:\\Users\\Nick\\anaconda3\\lib\\site-packages\\IPython\\core\\interactiveshell.py:3444: DtypeWarning: Columns (47,73) have mixed types.Specify dtype option on import or set low_memory=False.\n",
      "  exec(code_obj, self.user_global_ns, self.user_ns)\n"
     ]
    },
    {
     "name": "stdout",
     "output_type": "stream",
     "text": [
      "The first four principal components explain 0.9633 of the variance in the data\n",
      "The predicted r^2  is  0.6\n"
     ]
    }
   ],
   "source": [
    "#ChlorA as response variable \n",
    "data = pd.read_csv(bottle)\n",
    "dataSubset=data[[\"ChlorA\",\"O2Sat\",\"Salnty\",\"Phaeop\",\"PO4uM\",\"SiO3uM\",\"NO2uM\",\"NO3uM\",\"NH3uM\"]]\n",
    "yX = dataSubset.dropna()\n",
    "#print(yX.head(10))\n",
    "#print(np.shape(yX))\n",
    "X = yX.drop('ChlorA',axis=1)\n",
    "y=yX[\"ChlorA\"]\n",
    "#print(X)\n",
    "#print(y)\n",
    "\n",
    "pca = PCA(n_components=8)\n",
    "xScaled = StandardScaler().fit_transform(X)\n",
    "PC = pca.fit_transform(xScaled)\n",
    "print('The first four principal components explain', round(pca.explained_variance_ratio_[0:4].sum(),4), 'of the variance in the data')\n",
    "# The first four principal components explain about 96% of the variance, so these will be used to prevent multicollinearity. \n",
    "Xpca = PC[:,0:4]\n",
    "\n",
    "np.random.seed(10)\n",
    "train_x, test_x, train_y, test_y = train_test_split(Xpca, y,test_size=0.2)\n",
    "#print(train_x)\n",
    "#print(train_y)\n",
    "\n",
    "\n",
    "\n",
    "\n",
    "\n",
    "# Below is all variables in the model. We get a r^2 at 0.6\n",
    "LR=LinearRegression()\n",
    "LR.fit(train_x,train_y)\n",
    "prediction_y =  LR.predict(test_x)\n",
    "\n",
    "from sklearn.metrics import r2_score\n",
    "from sklearn.metrics import mean_squared_error\n",
    "# predicting the accuracy score\n",
    "r2=r2_score(test_y,prediction_y)\n",
    "print('The predicted r^2  is ',round(r2,2))\n",
    "#print('mean_sqrd_error is==',mean_squared_error(y_test,y_prediction))\n",
    "#print('root_mean_squared error of is==',np.sqrt(mean_squared_error(y_test,y_prediction)))"
   ]
  }
 ],
 "metadata": {
  "kernelspec": {
   "display_name": "Python 3 (ipykernel)",
   "language": "python",
   "name": "python3"
  },
  "language_info": {
   "codemirror_mode": {
    "name": "ipython",
    "version": 3
   },
   "file_extension": ".py",
   "mimetype": "text/x-python",
   "name": "python",
   "nbconvert_exporter": "python",
   "pygments_lexer": "ipython3",
   "version": "3.9.7"
  }
 },
 "nbformat": 4,
 "nbformat_minor": 5
}
