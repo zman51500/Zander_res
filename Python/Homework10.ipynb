{
 "cells": [
  {
   "cell_type": "markdown",
   "metadata": {},
   "source": [
    "Before you turn this homework in, make sure everything runs as expected. First, **restart the kernel** and then **run all cells** (in the menubar, select Kernel$\\rightarrow$Restart \\& Run all). If you get error messages, the grader will get the same errors and won't be able to grade your work. \n",
    "\n",
    "Make sure you fill in any place that says `YOUR CODE HERE` or \"YOUR ANSWER HERE\". You may delete the line(s) that say \"**raise** NotImplementedError()\" and replace them with your actual work. Write all your work in the cells provided in this notebook. **DO NOT** add or delete any cells. \n",
    "\n",
    "Please fill in your name in the cell below."
   ]
  },
  {
   "cell_type": "code",
   "execution_count": 1,
   "metadata": {},
   "outputs": [],
   "source": [
    "NAME = \"Zander Bonnet\""
   ]
  },
  {
   "cell_type": "markdown",
   "metadata": {},
   "source": [
    "---"
   ]
  },
  {
   "cell_type": "markdown",
   "metadata": {
    "deletable": false,
    "editable": false,
    "nbgrader": {
     "cell_type": "markdown",
     "checksum": "8b977777bf5afc442434565df412f29d",
     "grade": false,
     "grade_id": "cell-13b6f13920352efb",
     "locked": true,
     "schema_version": 3,
     "solution": false,
     "task": false
    },
    "slideshow": {
     "slide_type": "slide"
    }
   },
   "source": [
    "# Homework 10\n",
    "\n",
    "In this assignment, we're working with MySQL. I am assuming that you have successfully installed MySQL and the python module `mysql-connector-python` on your machine. You can find installation instructions for both on Piazza. We'll be working with the SAKILA database. This database contains transactions from a fictional chain of DVD rental stores. You can find the files you need to install the SAKILA database [here](https://dev.mysql.com/doc/index-other.html). Click on the `zip` option for the SAKILA database. Unzip the directory you downloaded and save the files in some folder on your machine. \n",
    "\n",
    "To create the database on the MySQL server on your machine:\n",
    "\n",
    "1. Save the files `sakila-schema.sql` and `sakila-data.sql` from the unzipped directory under some path on your machine, say under \"MyPath/sakila-schema.sql\"\n",
    "2. Log on to MySQL as root and run the following commands (I'm assuming that 'user' is an existing user that you have previously created). \n",
    "\n",
    "```\n",
    "CREATE DATABASE Sakila;\n",
    "GRANT ALL PRIVILEGES ON Sakila.* to 'user'@'localhost';\n",
    "USE Sakila;\n",
    "SOURCE MyPath/sakila-schema.sql;\n",
    "SOURCE MyPath/sakila-data.sql;\n",
    "QUIT;\n",
    "```\n",
    "\n",
    "3. Then log on as the user and change the database to Sakila. \n",
    "\n",
    "```\n",
    "USE Sakila;\n",
    "```\n",
    "\n",
    "You can find an ER-schema of the Sakila database on Canvas. "
   ]
  },
  {
   "cell_type": "markdown",
   "metadata": {
    "deletable": false,
    "editable": false,
    "nbgrader": {
     "cell_type": "markdown",
     "checksum": "2832230d87ac0c2b4d009ff7a997369b",
     "grade": false,
     "grade_id": "cell-5adb555110fcd268",
     "locked": true,
     "schema_version": 3,
     "solution": false,
     "task": false
    }
   },
   "source": [
    "For some of the problems below you are asked to show the SQL code which you would run in order to find the answer to a specific question. You can show both the SQL code and your answer to the question in a Markdown cell. Note, that you should be able to write down the SQL code, even if you were not able to install MySQL or the Sakila database on your machine. You *do not* have to include the output you get from MySQL for these types of questions. \n",
    "\n",
    "**Example Question:** How many different languages can you find in the `language` table? \n",
    "\n",
    "**Example Answer:**\n",
    "\n",
    "SQL code: \n",
    "```SELECT * from language;``` \n",
    "\n",
    "Answer: 6 different languages. \n",
    "\n",
    "For other problems, you will be asked to obtain data and then do something with those data in python. You will only be able to complete these problems, if you were able to install MySQL and download the Sakila database. If you still need help with installing MySQL, ask me as soon as possible. I will not be available for \"tech help\" on the day this homework is due. "
   ]
  },
  {
   "cell_type": "markdown",
   "metadata": {
    "deletable": false,
    "editable": false,
    "nbgrader": {
     "cell_type": "markdown",
     "checksum": "37bb42177da7c6e8349f87b4b8209ec0",
     "grade": false,
     "grade_id": "cell-244d094e3fa3d94c",
     "locked": true,
     "schema_version": 3,
     "solution": false,
     "task": false
    }
   },
   "source": [
    "### Problem 1\n",
    "\n",
    "Describe the `Rental` table. How many columns does that table have? How many entries are in the table? What is the primary key of the `Rental` table? How is it generated? "
   ]
  },
  {
   "cell_type": "markdown",
   "metadata": {
    "deletable": false,
    "nbgrader": {
     "cell_type": "markdown",
     "checksum": "66a026a0ddc18f0d33f5eb9b940c0d86",
     "grade": true,
     "grade_id": "cell-dc0d7817fba267d9",
     "locked": false,
     "points": 3,
     "schema_version": 3,
     "solution": true,
     "task": false
    }
   },
   "source": [
    "-The table has 7 columns\n",
    "\n",
    "-There are 16049 enteries\n",
    "\n",
    "-The primary key of rental is rental_id\n",
    "\n",
    "-rental_id is generated sequentialy staring at 1"
   ]
  },
  {
   "cell_type": "markdown",
   "metadata": {},
   "source": [
    "### Problem 2\n",
    "\n",
    "What are the variable types of the variables `staff_id`, `customer_id`, and `rental_id` in the `Rental` table, respectively? Why is it useful or necessary to use these different variable types for these three variables? Why can't they all be stored as tinyint's for example? "
   ]
  },
  {
   "cell_type": "markdown",
   "metadata": {
    "deletable": false,
    "nbgrader": {
     "cell_type": "markdown",
     "checksum": "c030f7d86d12b9adde8bc2ec32b0a0f2",
     "grade": true,
     "grade_id": "cell-0444b4f6f923a575",
     "locked": false,
     "points": 3,
     "schema_version": 3,
     "solution": true,
     "task": false
    }
   },
   "source": [
    "staff_id = tinyint unsigned, customer_id = smallint unsigned, rental_id = int\n",
    "\n",
    "It is useful to know this becasue that lets you know what kind of data you can input into the table. In this case it is saying how large of a number you can assign to the column. A tiny int can only exist from 0 to 255 while an int can exist in a much larger range. This is done to save memory."
   ]
  },
  {
   "cell_type": "markdown",
   "metadata": {
    "deletable": false,
    "editable": false,
    "nbgrader": {
     "cell_type": "markdown",
     "checksum": "875995c003d32cbeab08ff852595bb6d",
     "grade": false,
     "grade_id": "cell-ce28e85e08ef66db",
     "locked": true,
     "schema_version": 3,
     "solution": false,
     "task": false
    }
   },
   "source": [
    "### Problem 3\n",
    "\n",
    "Provide the SQL code with which you would update the `Actor` table with a new row that has your own first and last name. The command for today's date in SQL is `NOW()`. \n",
    "\n",
    "Then provide the SQL code with which you would remove all rows with your name (first and last) from the actors table. "
   ]
  },
  {
   "cell_type": "markdown",
   "metadata": {
    "deletable": false,
    "nbgrader": {
     "cell_type": "markdown",
     "checksum": "3e1d67dc10ef582e279ac2285b0e92a8",
     "grade": true,
     "grade_id": "cell-4d7778cc0656873e",
     "locked": false,
     "points": 4,
     "schema_version": 3,
     "solution": true,
     "task": false
    }
   },
   "source": [
    "INSERT INTO Actor\n",
    "\n",
    "-> (actor_id,first_name, last_name, last_update)\n",
    "\n",
    "-> VALUES (null,'ZANDER','BONNET', NOW());\n",
    "\n",
    "DELETE FROM Actor \n",
    "\n",
    "-> WHERE first_name= 'ZANDER' AND last_name = 'BONNET';"
   ]
  },
  {
   "cell_type": "markdown",
   "metadata": {
    "deletable": false,
    "editable": false,
    "nbgrader": {
     "cell_type": "markdown",
     "checksum": "9f584b30125caee3fb572c97e6c3958b",
     "grade": false,
     "grade_id": "cell-b98f0f4cdda22109",
     "locked": true,
     "schema_version": 3,
     "solution": false,
     "task": false
    }
   },
   "source": [
    "### Problem 4\n",
    "\n",
    "(a) Use Python to extract the columns `staff_id`, `amount`, and `payment_date` from the `Payment` table. \n",
    "Store these data in a Pandas data frame and display the data frame to the console for the grader to see."
   ]
  },
  {
   "cell_type": "code",
   "execution_count": 2,
   "metadata": {
    "deletable": false,
    "nbgrader": {
     "cell_type": "code",
     "checksum": "22ada3773f0bb95f19209d604eca2520",
     "grade": true,
     "grade_id": "cell-050eafc94bd47578",
     "locked": false,
     "points": 5,
     "schema_version": 3,
     "solution": true,
     "task": false
    }
   },
   "outputs": [
    {
     "data": {
      "text/html": [
       "<div>\n",
       "<style scoped>\n",
       "    .dataframe tbody tr th:only-of-type {\n",
       "        vertical-align: middle;\n",
       "    }\n",
       "\n",
       "    .dataframe tbody tr th {\n",
       "        vertical-align: top;\n",
       "    }\n",
       "\n",
       "    .dataframe thead th {\n",
       "        text-align: right;\n",
       "    }\n",
       "</style>\n",
       "<table border=\"1\" class=\"dataframe\">\n",
       "  <thead>\n",
       "    <tr style=\"text-align: right;\">\n",
       "      <th></th>\n",
       "      <th>staff_id</th>\n",
       "      <th>amount</th>\n",
       "      <th>payment_date</th>\n",
       "    </tr>\n",
       "  </thead>\n",
       "  <tbody>\n",
       "    <tr>\n",
       "      <th>0</th>\n",
       "      <td>1</td>\n",
       "      <td>2.99</td>\n",
       "      <td>2005-05-25 11:30:37</td>\n",
       "    </tr>\n",
       "    <tr>\n",
       "      <th>1</th>\n",
       "      <td>1</td>\n",
       "      <td>0.99</td>\n",
       "      <td>2005-05-28 10:35:23</td>\n",
       "    </tr>\n",
       "    <tr>\n",
       "      <th>2</th>\n",
       "      <td>1</td>\n",
       "      <td>5.99</td>\n",
       "      <td>2005-06-15 00:54:12</td>\n",
       "    </tr>\n",
       "    <tr>\n",
       "      <th>3</th>\n",
       "      <td>2</td>\n",
       "      <td>0.99</td>\n",
       "      <td>2005-06-15 18:02:53</td>\n",
       "    </tr>\n",
       "    <tr>\n",
       "      <th>4</th>\n",
       "      <td>2</td>\n",
       "      <td>9.99</td>\n",
       "      <td>2005-06-15 21:08:46</td>\n",
       "    </tr>\n",
       "    <tr>\n",
       "      <th>...</th>\n",
       "      <td>...</td>\n",
       "      <td>...</td>\n",
       "      <td>...</td>\n",
       "    </tr>\n",
       "    <tr>\n",
       "      <th>16044</th>\n",
       "      <td>1</td>\n",
       "      <td>4.99</td>\n",
       "      <td>2005-08-21 17:43:42</td>\n",
       "    </tr>\n",
       "    <tr>\n",
       "      <th>16045</th>\n",
       "      <td>1</td>\n",
       "      <td>1.99</td>\n",
       "      <td>2005-08-21 21:41:57</td>\n",
       "    </tr>\n",
       "    <tr>\n",
       "      <th>16046</th>\n",
       "      <td>2</td>\n",
       "      <td>8.99</td>\n",
       "      <td>2005-08-23 06:09:44</td>\n",
       "    </tr>\n",
       "    <tr>\n",
       "      <th>16047</th>\n",
       "      <td>2</td>\n",
       "      <td>2.99</td>\n",
       "      <td>2005-08-23 11:08:46</td>\n",
       "    </tr>\n",
       "    <tr>\n",
       "      <th>16048</th>\n",
       "      <td>2</td>\n",
       "      <td>2.99</td>\n",
       "      <td>2005-08-23 11:25:00</td>\n",
       "    </tr>\n",
       "  </tbody>\n",
       "</table>\n",
       "<p>16049 rows × 3 columns</p>\n",
       "</div>"
      ],
      "text/plain": [
       "       staff_id amount        payment_date\n",
       "0             1   2.99 2005-05-25 11:30:37\n",
       "1             1   0.99 2005-05-28 10:35:23\n",
       "2             1   5.99 2005-06-15 00:54:12\n",
       "3             2   0.99 2005-06-15 18:02:53\n",
       "4             2   9.99 2005-06-15 21:08:46\n",
       "...         ...    ...                 ...\n",
       "16044         1   4.99 2005-08-21 17:43:42\n",
       "16045         1   1.99 2005-08-21 21:41:57\n",
       "16046         2   8.99 2005-08-23 06:09:44\n",
       "16047         2   2.99 2005-08-23 11:08:46\n",
       "16048         2   2.99 2005-08-23 11:25:00\n",
       "\n",
       "[16049 rows x 3 columns]"
      ]
     },
     "execution_count": 2,
     "metadata": {},
     "output_type": "execute_result"
    }
   ],
   "source": [
    "import mysql.connector\n",
    "import pandas as pd\n",
    "\n",
    "# YOUR CODE HERE \n",
    "config = {'user': 'Homework', 'auth_plugin' : 'mysql_native_password', 'password': 'password', \n",
    "          'host': 'localhost', 'database': 'Sakila'}\n",
    "cnx = mysql.connector.connect(**config)\n",
    "cursor = cnx.cursor()\n",
    "\n",
    "cursor.execute('SELECT staff_id, amount, payment_date FROM Payment')\n",
    "data = cursor.fetchall()\n",
    "f = pd.DataFrame(data, columns = ['staff_id', 'amount', 'payment_date'])\n",
    "f"
   ]
  },
  {
   "cell_type": "markdown",
   "metadata": {
    "deletable": false,
    "editable": false,
    "nbgrader": {
     "cell_type": "markdown",
     "checksum": "eae68ece9ad060b8c48a02eb16dd0505",
     "grade": false,
     "grade_id": "cell-96f9e625934464af",
     "locked": true,
     "schema_version": 3,
     "solution": false,
     "task": false
    }
   },
   "source": [
    "(b) For the dataframe created in (a), take the date values and use either string formating or the `pd.DatetimeIndex()` method  to extract just the month and the year of the transaction. Store both in separate columns of the data frame. \n",
    "\n",
    "Use groupby to find the total monthly transaction amounts, separately for each employee. \n",
    "\n",
    "Use Matplotlib to create a line-plot that shows the total transaction amount per employee per month as a function of time. Label the x-axis with the appropriate month/year combination and include one line per employee. Include a legend to indicate which line belongs to which employee. You can find an image on Canvas with an example of what your graph should look like. "
   ]
  },
  {
   "cell_type": "code",
   "execution_count": 3,
   "metadata": {
    "deletable": false,
    "nbgrader": {
     "cell_type": "code",
     "checksum": "d969ea7340d16c6a48bc3950bb8258ad",
     "grade": true,
     "grade_id": "cell-853bdbab963973b8",
     "locked": false,
     "points": 5,
     "schema_version": 3,
     "solution": true,
     "task": false
    }
   },
   "outputs": [
    {
     "data": {
      "image/png": "[encoded data removed]",
      "text/plain": [
       "<Figure size 432x288 with 1 Axes>"
      ]
     },
     "metadata": {
      "needs_background": "light"
     },
     "output_type": "display_data"
    }
   ],
   "source": [
    "import matplotlib.pyplot as plt\n",
    "\n",
    "# YOUR CODE HERE\n",
    "dates = pd.DatetimeIndex(f['payment_date']) #Gets dates and times in easy to work with format\n",
    "months = []\n",
    "years = []\n",
    "for i in range(len(dates)):  #Loops over all dates and times \n",
    "    months.append(dates[i].month) # Appends the month number to the month list\n",
    "    years.append(dates[i].year)   #Appends teh year number to the year list\n",
    "f['month'] = months  #Adds months to the data frame in a new column\n",
    "f['year'] = years    #Adds years to the data frame in a new column\n",
    "\n",
    "gr = f.groupby(['staff_id', 'year','month'])['amount'].sum() #Gets the sum of monthly revenue \n",
    "                                                             #per employee by year and month\n",
    "\n",
    "labs = []\n",
    "for i in range(len(list(gr[1].index))): #Loops over unique years and months to create a lable to be used in the graph\n",
    "    labs.append((str(gr[1].index[i][1]) + \"/\" + str(gr[1].index[i][0])))\n",
    "\n",
    "\n",
    "fig, ax = plt.subplots()\n",
    "ax.plot(gr[1].values, label = \"Employee 1\");\n",
    "ax.plot(gr[2].values, label = \"Employee 2\")\n",
    "plt.xticks(range(len(labs)), labs)\n",
    "ax.set_xlabel('Month/Year')\n",
    "ax.set_ylabel(\"Total Amount\")\n",
    "ax.set_title(\"Total Monthly Transaction Amount per Employee\")\n",
    "ax.legend();"
   ]
  }
 ],
 "metadata": {
  "kernelspec": {
   "display_name": "Python 3 (ipykernel)",
   "language": "python",
   "name": "python3"
  },
  "language_info": {
   "codemirror_mode": {
    "name": "ipython",
    "version": 3
   },
   "file_extension": ".py",
   "mimetype": "text/x-python",
   "name": "python",
   "nbconvert_exporter": "python",
   "pygments_lexer": "ipython3",
   "version": "3.9.7"
  }
 },
 "nbformat": 4,
 "nbformat_minor": 2
}
