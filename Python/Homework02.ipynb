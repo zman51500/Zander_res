{
 "cells": [
  {
   "cell_type": "markdown",
   "metadata": {},
   "source": [
    "Before you turn this homework in, make sure everything runs as expected. First, **restart the kernel** and then **run all cells** (in the menubar, select Kernel$\\rightarrow$Restart \\& Run all). If you get error messages, the grader will get the same errors and won't be able to grade your work. \n",
    "\n",
    "Make sure you fill in any place that says `YOUR CODE HERE` or \"YOUR ANSWER HERE\". You may delete the line(s) that say \"**raise** NotImplementedError()\" and replace them with your actual work. Write all your work in the cells provided in this notebook. **DO NOT** add or delete any cells. \n",
    "\n",
    "Please fill in your name in the cell below."
   ]
  },
  {
   "cell_type": "code",
   "execution_count": 1,
   "metadata": {},
   "outputs": [],
   "source": [
    "NAME = \"Zander Bonnet\""
   ]
  },
  {
   "cell_type": "markdown",
   "metadata": {},
   "source": [
    "---"
   ]
  },
  {
   "cell_type": "markdown",
   "metadata": {
    "deletable": false,
    "editable": false,
    "nbgrader": {
     "cell_type": "markdown",
     "checksum": "208e2fd6c51048a82c2d30a16add9427",
     "grade": false,
     "grade_id": "cell-a6f3f12388a2e526",
     "locked": true,
     "schema_version": 3,
     "solution": false,
     "task": false
    }
   },
   "source": [
    "# Homework 2\n",
    "\n",
    "**Remarks:** In some of the problems below, you may want to use if/else statements or for-loops. An if/else statement in Python has the following syntax:\n",
    "\n",
    "```\n",
    "if (Boolean_statement):\n",
    "    code block 1\n",
    "else:\n",
    "    code block 2\n",
    "```\n",
    "\n",
    "If the Boolean statement is True, the Python will execute code block 1. Otherwise code block 2 will be executed. \n",
    "\n",
    "A for loop in Python can have the following syntax:\n",
    "\n",
    "``` \n",
    "for i in range(n):\n",
    "    code\n",
    "```   \n",
    "Where code is executed repeatedly for i=0,...,n-1. \n",
    "\n",
    "In all problems below, please make sure to comment your code sufficiently well so that the grader can follow what you are doing with ease. If you do not know how to code the solution to a problem, you can get partial credit by providing a description of the algorithm you intended to implement in English (in form of an itemized list, for example). "
   ]
  },
  {
   "cell_type": "markdown",
   "metadata": {
    "deletable": false,
    "editable": false,
    "nbgrader": {
     "cell_type": "markdown",
     "checksum": "be86bc8a60e53fc9bbac53a9b93519a8",
     "grade": false,
     "grade_id": "cell-ef495698be86d216",
     "locked": true,
     "schema_version": 3,
     "solution": false,
     "task": false
    }
   },
   "source": [
    "## Problem 1\n",
    "\n",
    "Given a list x of numbers, complete the Python code below so that your code produces the sum of all elements up to the first zero in the list. \n",
    "\n",
    "Example: If the list is x=[2,3,5,1,1,2,0,5,9,0,8,4,3,2] then your code should return 14.\n",
    "Your code should work, even if I change the list x. Obviously, then the code might produce a different answer. "
   ]
  },
  {
   "cell_type": "code",
   "execution_count": 2,
   "metadata": {
    "deletable": false,
    "nbgrader": {
     "cell_type": "code",
     "checksum": "609a8f2f833a6f515214262897a9d66f",
     "grade": true,
     "grade_id": "cell-631ba149fea50a1d",
     "locked": false,
     "points": 2,
     "schema_version": 3,
     "solution": true,
     "task": false
    }
   },
   "outputs": [
    {
     "name": "stdout",
     "output_type": "stream",
     "text": [
      "14\n",
      "14\n",
      "14\n"
     ]
    }
   ],
   "source": [
    "x=[2,3,5,1,1,2,0,5,9,0,8,4,3,2]\n",
    "\n",
    "# YOUR CODE HERE\n",
    "index = 0\n",
    "sm = 0\n",
    "while x[index] != 0:\n",
    "    sm += x[index]\n",
    "    index += 1\n",
    "print(sm)\n",
    "\n",
    "#Method 2\n",
    "sm = 0\n",
    "for i in range(x.index(0)):\n",
    "    sm += x[i]\n",
    "print(sm)\n",
    "\n",
    "#Method 3\n",
    "print(sum(x[i] for i in range(x.index(0))))"
   ]
  },
  {
   "cell_type": "markdown",
   "metadata": {
    "deletable": false,
    "editable": false,
    "nbgrader": {
     "cell_type": "markdown",
     "checksum": "ed8c286faedc20a08e8ff3b7c3a44ebd",
     "grade": false,
     "grade_id": "cell-432173397f4b26ab",
     "locked": true,
     "schema_version": 3,
     "solution": false,
     "task": false
    }
   },
   "source": [
    "## Problem 2\n",
    "\n",
    "Ask the user to input a string. Then swap the cases of the letters in the string. That is, make what's currently lower-case upper-case and vice-versa. Leave non-character elements the same. Print out the case-swapped string. \n",
    "\n",
    "Example: If the input is \"Happy CODING!\" then the output should be \"hAPPY coding!\""
   ]
  },
  {
   "cell_type": "code",
   "execution_count": 3,
   "metadata": {
    "deletable": false,
    "nbgrader": {
     "cell_type": "code",
     "checksum": "ee1d8d434aad407e3035adc635cc2b49",
     "grade": true,
     "grade_id": "cell-bc49b385c82b4c2a",
     "locked": false,
     "points": 4,
     "schema_version": 3,
     "solution": true,
     "task": false
    }
   },
   "outputs": [
    {
     "name": "stdout",
     "output_type": "stream",
     "text": [
      "Enter a phrase: Happy CODING\n",
      "hAPPY coding\n"
     ]
    }
   ],
   "source": [
    "# YOUR CODE HERE\n",
    "phrase = input(\"Enter a phrase: \")\n",
    "lets = list(phrase)\n",
    "for i in range(len(lets)):\n",
    "    if lets[i].islower():\n",
    "        lets[i] = lets[i].upper()\n",
    "    elif lets[i].isupper():\n",
    "        lets[i] = lets[i].lower()\n",
    "    else:\n",
    "        lets[i] = lets[i]\n",
    "print(''.join(lets))"
   ]
  },
  {
   "cell_type": "markdown",
   "metadata": {
    "deletable": false,
    "editable": false,
    "nbgrader": {
     "cell_type": "markdown",
     "checksum": "d945c93868f00fc49bbb5dcd7a67631e",
     "grade": false,
     "grade_id": "cell-7a07a53e4b1ccec4",
     "locked": true,
     "schema_version": 3,
     "solution": false,
     "task": false
    }
   },
   "source": [
    "## Problem 3\n",
    "\n",
    "Ask the user to input two names (using two separate input statements). Write code to print out the letters that appear in both names, capitalized in alphabetical order. If a letter appears twice in each name, it should only be listed once. \n",
    "\n",
    "Example: Entering Lisa and Nina should return AI"
   ]
  },
  {
   "cell_type": "code",
   "execution_count": 4,
   "metadata": {
    "deletable": false,
    "nbgrader": {
     "cell_type": "code",
     "checksum": "859d1a214758ee71f1c305f87d577c0b",
     "grade": true,
     "grade_id": "cell-1c008267775e6d65",
     "locked": false,
     "points": 4,
     "schema_version": 3,
     "solution": true,
     "task": false
    }
   },
   "outputs": [
    {
     "name": "stdout",
     "output_type": "stream",
     "text": [
      "Input name 1: Alexander\n",
      "Input name 2: Sierra\n",
      "The letters AER appear in both names\n"
     ]
    }
   ],
   "source": [
    "# YOUR CODE HERE\n",
    "name1 = input(\"Input name 1: \")\n",
    "name2 = input(\"Input name 2: \")\n",
    "lets = list(name1)\n",
    "common = []\n",
    "final = []\n",
    "[common.append(i.upper()) for i in lets if i.lower() in name2.lower()] #Finds all common letters and capitalizes them\n",
    "[final.append(i) for i in common if i not in final] #Removes any duplicates of letters\n",
    "final.sort()\n",
    "if len(final) > 0:\n",
    "    print(\"The letters\",''.join(final),\"appear in both names\")\n",
    "else:\n",
    "    print(\"There are no letters in common\")"
   ]
  },
  {
   "cell_type": "markdown",
   "metadata": {
    "deletable": false,
    "editable": false,
    "nbgrader": {
     "cell_type": "markdown",
     "checksum": "d6c9b75d1ea75a4c9dc18c5ca7e0b6e1",
     "grade": false,
     "grade_id": "cell-a0600661f6082e7c",
     "locked": true,
     "schema_version": 3,
     "solution": false,
     "task": false
    }
   },
   "source": [
    "## Problem 4\n",
    "\n",
    "A palindrome is a word or a phrase that reads the same forwards as backwards. Ask the user to input a string. Disregard capitalization, punctuation or spaces. Then output a message that tells the user whether or not the string they provided is a palindrome. \n",
    "\n",
    "Examples of palindrome words or phrases: the name \"Otto\", the prase \"Never odd or even\"."
   ]
  },
  {
   "cell_type": "code",
   "execution_count": 5,
   "metadata": {
    "deletable": false,
    "nbgrader": {
     "cell_type": "code",
     "checksum": "2c2aac216c93388592b74bed85653d6c",
     "grade": true,
     "grade_id": "cell-cc4b6a0071177f26",
     "locked": false,
     "points": 4,
     "schema_version": 3,
     "solution": true,
     "task": false
    }
   },
   "outputs": [
    {
     "name": "stdout",
     "output_type": "stream",
     "text": [
      "Input a string to be checked it it is a palindrome: Racecar\n",
      "Racecar is a palindrome!\n"
     ]
    }
   ],
   "source": [
    "# YOUR CODE HERE\n",
    "phrase = input(\"Input a string to be checked it it is a palindrome: \")\n",
    "forward = ''.join(ch for ch in phrase if ch.isalnum()).lower() #Removes all non-alphanumeric characters and makes all letters lowercase\n",
    "if forward == forward[::-1]:\n",
    "    print(phrase,\"is a palindrome!\")\n",
    "else:\n",
    "    print(phrase,\"is not a palindrome!\")"
   ]
  },
  {
   "cell_type": "markdown",
   "metadata": {
    "deletable": false,
    "editable": false,
    "nbgrader": {
     "cell_type": "markdown",
     "checksum": "6ca71153278d1ec76ac386fac5dd7b50",
     "grade": false,
     "grade_id": "cell-cdb4c72e9c1a60da",
     "locked": true,
     "schema_version": 3,
     "solution": false,
     "task": false
    }
   },
   "source": [
    "## Problem 5\n",
    "\n",
    "We want to use random numbers to estimate the value of $\\pi$. Consider a unit circle (that is a circle around the origin of radius 1) and consider the smallest square with sides parallel to the axes that contains that circle. Write code below to generate n random vectors that are uniformly distributed over the area of the square.  \n",
    "\n",
    "Hint: Recall, that a circle of radius $r$ has area $\\pi r^2$. What is the area of the smallest square  with sides parallel to the axes that contains the unit circle? What is the probability that a random variable distributed randomly on this square lands in the unit circle?\n",
    "\n",
    "Use your simulated random vectors to estimate the value of $\\pi$ for different values of n. Explain (in the Form of complete English sentences) how your code works: what are you counting and why is it reasonable to use this count as an estimate for $\\pi$? Make sure to comment your code well enough so that a reader can follow the steps in your description and find each one reflected in the code. \n",
    "\n",
    "Your code should ask the user to input the value of n and output a formatted statement that reads: \n",
    "\"For n=_______ iterations, the estimate of pi is _______\" where both blanks should be filled in with meaningful values derived from your code. \n",
    "\n",
    "Hint: To repeat the same task n times in Python you could use a for-loop. See top for general syntax. \n",
    "\n",
    "Describe your program/algorithm here."
   ]
  },
  {
   "cell_type": "markdown",
   "metadata": {
    "deletable": false,
    "nbgrader": {
     "cell_type": "markdown",
     "checksum": "43894cd2fda4ab72391312c33f9040b8",
     "grade": true,
     "grade_id": "cell-a7e254d6006f7c51",
     "locked": false,
     "points": 3,
     "schema_version": 3,
     "solution": true,
     "task": false
    }
   },
   "source": [
    "Because we know the radius of the unit circle is 1 we know that the area is $\\pi$. We also know that becuase the radius of the circle is 1 the lengths of the sides of the smallest square that encloses the cicle must be 2. Making the area of the square 4. So if we generate many random points in the square we can find the amount of points that fall withing distance 1 of the point (0,0). We will tally up all of the points that have a distance within 1 of (0,0) to find the proportion of points that fall within the circle. By doing this we are only accounting for points that are located in quadrent 1 becasue we are not generating any negative values. So inorder to get the total estimated value of $\\pi$ we must multiply the proportion by 4 to account for all 4 quadrents of the unit cirle. With a large n it is reasonable to use this estimate becasue the proportion will closely follow that of the true area of the unit circle.\n",
    "\n",
    "# Steps #\n",
    "1) Get an input of number of times to iterate\n",
    "\n",
    "2) Generate a random cordinate between 0 and 1 for both x and y\n",
    "\n",
    "3) Calculate the distance from the point (0,0) and the randomly generated point\n",
    "\n",
    "4) If the distance is less than or equal to 1 the point falls within the circle so add 1 to total amount of values that fall within the circle\n",
    "\n",
    "5) Repeate steps 2-4 for the amount of iterations\n",
    "\n",
    "6) After all iterations are finished divide the total amount of points that fell within the circle by the total amount of iterations to find the estimted value of $\\pi$ and then multiply by 4 to get the final answer"
   ]
  },
  {
   "cell_type": "code",
   "execution_count": 6,
   "metadata": {
    "deletable": false,
    "nbgrader": {
     "cell_type": "code",
     "checksum": "1dba8f9c5f67202d6423c4565ca656b2",
     "grade": true,
     "grade_id": "cell-4465b86fd7df34aa",
     "locked": false,
     "points": 3,
     "schema_version": 3,
     "solution": true,
     "task": false
    }
   },
   "outputs": [
    {
     "name": "stdout",
     "output_type": "stream",
     "text": [
      "Input a numerical value for n:1000000\n",
      "for n = 1000000 iterations, the estimate of pi is 3.143592\n"
     ]
    }
   ],
   "source": [
    "# YOUR CODE HERE\n",
    "import random as ran\n",
    "ran.seed(5)\n",
    "iterations = int(input(\"Input a numerical value for n:\"))\n",
    "inCirc = 0\n",
    "for i in range(iterations):\n",
    "    xCor = ran.uniform(0,1) #Generates a random x coordinate \n",
    "    yCor = ran.uniform(0,1) #Generates a random y coordinate \n",
    "    dist = ((xCor**2) + (yCor**2))**.5 #Calculates the distance from (0,0)\n",
    "    if dist <= 1: #If less than one the point is within the circle\n",
    "        inCirc += 1\n",
    "piEst = 4*(inCirc/iterations) #Multiplies the proportion from quadrant 1 by 4 to get for all quadrants\n",
    "print(\"for n =\",iterations,\"iterations, the estimate of pi is\", piEst)"
   ]
  }
 ],
 "metadata": {
  "kernelspec": {
   "display_name": "Python 3 (ipykernel)",
   "language": "python",
   "name": "python3"
  },
  "language_info": {
   "codemirror_mode": {
    "name": "ipython",
    "version": 3
   },
   "file_extension": ".py",
   "mimetype": "text/x-python",
   "name": "python",
   "nbconvert_exporter": "python",
   "pygments_lexer": "ipython3",
   "version": "3.9.7"
  }
 },
 "nbformat": 4,
 "nbformat_minor": 2
}
