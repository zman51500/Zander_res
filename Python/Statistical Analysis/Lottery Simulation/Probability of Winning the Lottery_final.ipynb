{
 "cells": [
  {
   "cell_type": "markdown",
   "id": "1527b22c",
   "metadata": {},
   "source": [
    "# <center>Probability of Winning the Lottery <center>\n",
    "  <center> March 6, 2024 <center>\n",
    "  <center> Zander Bonnet <center>"
   ]
  },
  {
   "cell_type": "markdown",
   "id": "c52db163",
   "metadata": {},
   "source": [
    "# Video Link: \n",
    "https://vimeo.com/920182646/f9b4d8fb0e?share=copy"
   ]
  },
  {
   "cell_type": "markdown",
   "id": "c078c5fd",
   "metadata": {},
   "source": [
    "Consider a state lottery and the probability of winning the grand prize. The game is played by selecting a group of 6 numbers from {1, 2, 3, ..., 51}, and the state selects a group of 6 numbers from the same set. You win the grand prize if all 6 of your numbers match the state's. The probability of winning is so low that some people are trying different ways of increasing their odds.\n",
    "\n"
   ]
  },
  {
   "cell_type": "code",
   "execution_count": 1,
   "id": "8a2fc44a",
   "metadata": {},
   "outputs": [],
   "source": [
    "import math"
   ]
  },
  {
   "cell_type": "markdown",
   "id": "3de0edd1",
   "metadata": {},
   "source": [
    "1) Identify whether the probability of winning is discrete or continuous. Write a Python function that calculates the probability of winning the grand prize for the new game, given that a group of 6 numbers are selected from {1, 2, 3, ..., 51}. "
   ]
  },
  {
   "cell_type": "markdown",
   "id": "6532da59",
   "metadata": {},
   "source": [
    "The probability of winning the lottery is discrete becasue there are a finite sets of outcomes. In our case there are only 51 possible numbers that can be selected.\n",
    "\n",
    "In our lottery there are 51 possible numbers that can be selected and each number can only be selected once. In this case we can use the combinations formula to calculate the total possible combinations ingnoring order and repeats."
   ]
  },
  {
   "cell_type": "code",
   "execution_count": 2,
   "id": "b7367e12",
   "metadata": {},
   "outputs": [],
   "source": [
    "#Takes 2 int values\n",
    "#nums = The number of ints to be drawn\n",
    "#maxnum = The maximum number of numbers to be drawn from\n",
    "#Calculates the probability of winning with those params\n",
    "def problotwin(nums,maxnum):\n",
    "    if not (isinstance(nums, int) & isinstance(maxnum, int)):\n",
    "        raise TypeError('Input is not an int')\n",
    "    if nums > maxnum:\n",
    "        raise TypeError('nums cannot be larger than maxnum')\n",
    "        \n",
    "    return(1/math.comb(maxnum, nums))"
   ]
  },
  {
   "cell_type": "code",
   "execution_count": 3,
   "id": "a7e69679",
   "metadata": {},
   "outputs": [
    {
     "name": "stdout",
     "output_type": "stream",
     "text": [
      "Probability to win with one ticket: 0.0000055526%\n"
     ]
    }
   ],
   "source": [
    "print('Probability to win with one ticket: {:.10f}%'.format(problotwin(6,51)*100))"
   ]
  },
  {
   "cell_type": "markdown",
   "id": "4e180e11",
   "metadata": {},
   "source": [
    "2) Alexandra buys 1 ticket every 24 hours of every 365 days per year for 80 years of her life. Each ticket costs $5 and she selects her numbers independently from one ticket to the next. Write a Python program that calculates the probability of Alexandra winning the lottery at least one time and the amount of money she spends trying."
   ]
  },
  {
   "cell_type": "code",
   "execution_count": 4,
   "id": "37817355",
   "metadata": {},
   "outputs": [],
   "source": [
    "#Takes 3 int values\n",
    "#drawings = the number of drawings you enter\n",
    "#howManyDraw = The number of ints to be drawn\n",
    "#maxNum = The maximum number of numbers to be drawn from\n",
    "#Calculates the probability of winning at least once with those params\n",
    "def winatleastonce(drawings, howManyDraw, maxNum):\n",
    "    if not (isinstance(howManyDraw, int) & isinstance(maxNum, int) & isinstance(drawings, int)):\n",
    "        raise TypeError('Input is not an int')\n",
    "    if howManyDraw > maxNum:\n",
    "        raise TypeError('howManyDraw cannot be larger than maxnum')\n",
    "    return 1 - math.pow(1 - problotwin(howManyDraw, maxNum),drawings)"
   ]
  },
  {
   "cell_type": "markdown",
   "id": "4a7f9937",
   "metadata": {},
   "source": [
    "Assume the drawing is drawn daily."
   ]
  },
  {
   "cell_type": "code",
   "execution_count": 5,
   "id": "384d1a97",
   "metadata": {},
   "outputs": [
    {
     "name": "stdout",
     "output_type": "stream",
     "text": [
      "Probability of winning at least once: 0.1620056437%\n",
      "Total Cost: $146000\n"
     ]
    }
   ],
   "source": [
    "drawings = 365*80\n",
    "cost = 5 * drawings\n",
    "\n",
    "probwin = (winatleastonce(drawings, 6, 51))*100\n",
    "print('Probability of winning at least once: {:.10f}%'.format(probwin))\n",
    "print('Total Cost: ${:}'.format(cost))"
   ]
  },
  {
   "cell_type": "markdown",
   "id": "1c5e0e38",
   "metadata": {},
   "source": [
    "Assume the drawings is weekly"
   ]
  },
  {
   "cell_type": "code",
   "execution_count": 6,
   "id": "e55bbc21",
   "metadata": {},
   "outputs": [
    {
     "name": "stdout",
     "output_type": "stream",
     "text": [
      "Probability of winning at least once: 0.0231573693%\n",
      "Total Cost: $146000\n"
     ]
    }
   ],
   "source": [
    "drawings = (365*80)//7\n",
    "cost = 5 * 365 * 80\n",
    "\n",
    "probwin = (winatleastonce(drawings, 6, 51))*100\n",
    "print('Probability of winning at least once: {:.10f}%'.format(probwin))\n",
    "print('Total Cost: ${:}'.format(cost))"
   ]
  },
  {
   "cell_type": "markdown",
   "id": "47ccde1c",
   "metadata": {},
   "source": [
    "3) Amir decides to increase his chance of winning by organizing N of his friends to buy one ticket each for this week's drawing. Each friend buys a ticket independently, and the minimum value of N (Nmin(epsilon)) to ensure that the probability that there is at least one winner among the group is greater than or equal to epsilon needs to be calculated for various values of epsilon. Write a Python function that calculates the value of Nmin(epsilon) for epsilon = 1e-5, 1e-3, 0.1, and 0.5."
   ]
  },
  {
   "cell_type": "code",
   "execution_count": 7,
   "id": "419d1c63",
   "metadata": {},
   "outputs": [
    {
     "name": "stdout",
     "output_type": "stream",
     "text": [
      "[1e-05, 0.001, 0.1, 0.5]\n",
      "[181, 18019, 1897486, 12483207]\n",
      "[1.0050223358426535e-05, 0.001000029386858281, 0.10000000306185353, 0.5000000258236499]\n"
     ]
    }
   ],
   "source": [
    "#Method 1 - Dr. Ofori\n",
    "eps = [.00001, .001, 0.1, 0.5]\n",
    "probLose = 1- problotwin(6,51)\n",
    "nmins = []\n",
    "for e in eps:\n",
    "    n_min = math.ceil(math.log(1 - e) / math.log(probLose))  # Calculate N_min\n",
    "    nmins.append(n_min)\n",
    "print(eps)\n",
    "print(nmins)\n",
    "probs = [winatleastonce(i, 6, 51) for i in nmins] # Calculates the exact prob of N-min\n",
    "print(probs)"
   ]
  },
  {
   "cell_type": "code",
   "execution_count": 8,
   "id": "22d0371f",
   "metadata": {},
   "outputs": [
    {
     "name": "stdout",
     "output_type": "stream",
     "text": [
      "[1e-05, 0.001, 0.1, 0.5]\n",
      "[181, 18019, 1897486, 12483207]\n",
      "[1.0050223358426535e-05, 0.001000029386858281, 0.10000000306185353, 0.5000000258236499]\n"
     ]
    }
   ],
   "source": [
    "#Method 2\n",
    "eps = [.00001, .001, 0.1, 0.5]\n",
    "nmins = []\n",
    "for e in eps:\n",
    "    mins = 0\n",
    "    while (winatleastonce(mins, 6, 51)) < e: #Calculates the threshold of N-min\n",
    "        mins += 1\n",
    "    nmins.append(mins)\n",
    "print(eps)\n",
    "print(nmins)\n",
    "probs = [winatleastonce(i, 6, 51) for i in nmins] # Calculates the exact prob of N-min\n",
    "print(probs)"
   ]
  },
  {
   "cell_type": "markdown",
   "id": "faffdd4b",
   "metadata": {},
   "source": [
    "4) If Amir has gathered enough friends to win with probability 0.5 using the above strategy, write a Python program that determines a way that they can increase their win probability above 0.5 without adding more people to the group."
   ]
  },
  {
   "cell_type": "markdown",
   "id": "c0a6c147",
   "metadata": {},
   "source": [
    "We can easily imporve the odds of winning the lottery if we make sure that there are no repeates. If we make sure that everyone has a unique set of numbers it will greatly increase their odds of winning."
   ]
  },
  {
   "cell_type": "code",
   "execution_count": 9,
   "id": "607af714",
   "metadata": {},
   "outputs": [
    {
     "name": "stdout",
     "output_type": "stream",
     "text": [
      "[181, 18019, 1897486, 12483207]\n",
      "[1.0050273578441553e-05, 0.0010005297216018692, 0.10536051608432458, 0.6931472126315836]\n",
      "[5.022001501753129e-11, 5.003347435881666e-07, 0.00536051302247105, 0.19314718680793375]\n"
     ]
    }
   ],
   "source": [
    "print(nmins)\n",
    "new = [(problotwin(6,51) * i) for i in nmins] #Calculates the prob if all entries are unique\n",
    "print(new)\n",
    "dif = [(new[i] - probs[i]) for i in range(len(new))] #Calculates the change in probs\n",
    "print(dif)"
   ]
  },
  {
   "cell_type": "code",
   "execution_count": 10,
   "id": "b839bd16",
   "metadata": {},
   "outputs": [
    {
     "name": "stdout",
     "output_type": "stream",
     "text": [
      "Amir increased their odds to 69.31%\n"
     ]
    }
   ],
   "source": [
    "print('Amir increased their odds to {:.2f}%'.format(new[3]*100))"
   ]
  },
  {
   "cell_type": "markdown",
   "id": "8b28d532",
   "metadata": {},
   "source": [
    "5) The state lottery commissioner introduces a consolation prize: If exactly 3 of your 6 numbers match any 3 of the state's, you win a smaller prize. Write a Python program that calculates the probability of winning the consolation prize and the expected value of the consolation prize. Is this consolation prize likely to increase sales?"
   ]
  },
  {
   "cell_type": "markdown",
   "id": "4daa6817",
   "metadata": {},
   "source": [
    "If there can only be EXACTLY 3 numbers correct"
   ]
  },
  {
   "cell_type": "code",
   "execution_count": 11,
   "id": "faff4624",
   "metadata": {},
   "outputs": [],
   "source": [
    "#Takes 3 int values\n",
    "#inCommon = the number of values that will match the winning ticket\n",
    "#nums = The number of ints to be drawn\n",
    "#maxNums = The maximum number of numbers to be drawn from\n",
    "#Calculates the probability of winning with exactly the inCommon number\n",
    "def probtogetx(inCommon, nums, maxNums):\n",
    "    if not (isinstance(nums, int) & isinstance(maxNums, int) & isinstance(inCommon, int)):\n",
    "        raise TypeError('Input is not an int')\n",
    "    if nums > maxNums:\n",
    "        raise TypeError('nums cannot be larger than maxNums')\n",
    "    if inCommon > nums:\n",
    "        raise TypeError('inCommon cannot be greater than nums')\n",
    "        \n",
    "    return ((math.comb(nums,inCommon) #Ways to draw inCommon correct numbers\n",
    "             * math.comb(maxNums - nums, nums-inCommon)) #ways to draw the remaining wrong numbers\n",
    "            /math.comb(maxNums,nums)) #Total number of ways to draw nums from maxNums"
   ]
  },
  {
   "cell_type": "code",
   "execution_count": 12,
   "id": "ceba5805",
   "metadata": {},
   "outputs": [
    {
     "name": "stdout",
     "output_type": "stream",
     "text": [
      "Probability to win the consolation prize: 1.5758384760%\n"
     ]
    }
   ],
   "source": [
    "print('Probability to win the consolation prize: {:.10f}%'.format(probtogetx(3, 6, 51)*100))"
   ]
  },
  {
   "cell_type": "code",
   "execution_count": 13,
   "id": "e849f075",
   "metadata": {},
   "outputs": [
    {
     "data": {
      "text/plain": [
       "(5.552637336155554, 15763.937397345617)"
      ]
     },
     "execution_count": 13,
     "metadata": {},
     "output_type": "execute_result"
    }
   ],
   "source": [
    "PRIZE = 100_000_000\n",
    "\n",
    "preex = (problotwin(6,51) * PRIZE) #ex of just main prize\n",
    "\n",
    "postex = (problotwin(6,51) * PRIZE) + (probtogetx(3, 6, 51) * (PRIZE * .01)) #ex with minor prize\n",
    "\n",
    "preex, postex"
   ]
  },
  {
   "cell_type": "code",
   "execution_count": 14,
   "id": "92d8f009",
   "metadata": {},
   "outputs": [
    {
     "name": "stdout",
     "output_type": "stream",
     "text": [
      "The expected value of the original drawing is 5.553\n",
      "The expected value of the new drawing is 15763.937\n"
     ]
    }
   ],
   "source": [
    "print('The expected value of the original drawing is {:.3f}'.format(preex))\n",
    "print('The expected value of the new drawing is {:.3f}'.format(postex))"
   ]
  },
  {
   "cell_type": "markdown",
   "id": "fdb814f4",
   "metadata": {},
   "source": [
    "We would expect the addition of the consolation prize to increase sales. There is a large increase in expected return with the addition of the consolation prize. It will also feel as if they have a larger chance of winning something."
   ]
  },
  {
   "cell_type": "markdown",
   "id": "1a738c46",
   "metadata": {},
   "source": [
    "If there can be 3 or more numbers correct excluding getting all 6"
   ]
  },
  {
   "cell_type": "code",
   "execution_count": 15,
   "id": "f612092c",
   "metadata": {},
   "outputs": [],
   "source": [
    "#Takes 3 int values\n",
    "#inCommon = the minimum number of values that will match the winning ticket\n",
    "#nums = The number of ints to be drawn\n",
    "#maxNums = The maximum number of numbers to be drawn from\n",
    "#Calculates the probability of winning at least the inCommon number\n",
    "def atleastxsame(inCommon, nums, maxNums):\n",
    "    if not (isinstance(nums, int) & isinstance(maxNums, int) & isinstance(inCommon, int)):\n",
    "        raise TypeError('Input is not an int')\n",
    "    if nums > maxNums:\n",
    "        raise TypeError('nums cannot be larger than maxNums')\n",
    "    if inCommon > nums:\n",
    "        raise TypeError('inCommon cannot be greater than nums')\n",
    "    prob = 0\n",
    "    for x in range(inCommon, nums):\n",
    "        prob += probtogetx(x, nums, maxNums)       \n",
    "    return prob"
   ]
  },
  {
   "cell_type": "code",
   "execution_count": 16,
   "id": "1e7dda75",
   "metadata": {},
   "outputs": [
    {
     "name": "stdout",
     "output_type": "stream",
     "text": [
      "Probability to win the consolation prize: 1.6597943525%\n"
     ]
    }
   ],
   "source": [
    "print('Probability to win the consolation prize: {:.10f}%'.format(atleastxsame(3, 6, 51)*100))"
   ]
  },
  {
   "cell_type": "code",
   "execution_count": 17,
   "id": "3bd697d0",
   "metadata": {},
   "outputs": [
    {
     "data": {
      "text/plain": [
       "(5.552637336155554, 16603.496162572337)"
      ]
     },
     "execution_count": 17,
     "metadata": {},
     "output_type": "execute_result"
    }
   ],
   "source": [
    "PRIZE = 100_000_000\n",
    "\n",
    "preex = (problotwin(6,51) * PRIZE)\n",
    "\n",
    "postex = (problotwin(6,51) * PRIZE) + (atleastxsame(3, 6, 51) * (PRIZE*.01))\n",
    "\n",
    "preex, postex"
   ]
  },
  {
   "cell_type": "code",
   "execution_count": 18,
   "id": "8fba07f5",
   "metadata": {},
   "outputs": [
    {
     "name": "stdout",
     "output_type": "stream",
     "text": [
      "The expected value of the original drawing is 5.553\n",
      "The expected value of the new drawing is 16603.496\n"
     ]
    }
   ],
   "source": [
    "print('The expected value of the original drawing is {:.3f}'.format(preex))\n",
    "print('The expected value of the new drawing is {:.3f}'.format(postex))"
   ]
  },
  {
   "cell_type": "markdown",
   "id": "951717a1",
   "metadata": {},
   "source": [
    "We would expect the addition of the consolation prize to increase sales. There is a large increase in expected return with the addition of the consolation prize. It will also feel as if they have a larger chance of winning something."
   ]
  },
  {
   "cell_type": "markdown",
   "id": "34610576",
   "metadata": {},
   "source": [
    "References:\n",
    "\n",
    "Ofori, E. (2024). Just Give DSC-510 a \"Chance \" Probability Week 3 Topics [Anouncement]. Halo. https://halo.gcu.edu/courses/DSC-510-O500-20240215/announcements\n",
    "\n",
    "Rogel-Salazar, J. (2023). Statistics and Data Visualization with Python. CRC Press.\n"
   ]
  }
 ],
 "metadata": {
  "kernelspec": {
   "display_name": "Python 3 (ipykernel)",
   "language": "python",
   "name": "python3"
  },
  "language_info": {
   "codemirror_mode": {
    "name": "ipython",
    "version": 3
   },
   "file_extension": ".py",
   "mimetype": "text/x-python",
   "name": "python",
   "nbconvert_exporter": "python",
   "pygments_lexer": "ipython3",
   "version": "3.9.7"
  }
 },
 "nbformat": 4,
 "nbformat_minor": 5
}
