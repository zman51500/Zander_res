{
 "cells": [
  {
   "cell_type": "markdown",
   "id": "baed9c47",
   "metadata": {},
   "source": [
    "# <center> Advanced Hypothesis Testing<center>\n",
    "  \n",
    "<center>\n",
    "    Zander Bonnet\n",
    "          \n",
    "<center>\n",
    "    March 27, 2024\n",
    "\n",
    "\n",
    "References:\n",
    "\n",
    "Cardiovascular Disease dataset. (2019). Kaggle [Dataset]. https://www.kaggle.com/datasets/sulianova/cardiovascular-disease-dataset/data.\n",
    "\n",
    "Memory Test on Drugged Islanders Data. (2019). Kaggle [Dataset]. https://www.kaggle.com/datasets/steveahn/memory-test-on-drugged-islanders-data.\n",
    "    \n",
    "Rogel-Salazar, J. (2023). Statistics and Data Visualization with Python. CRC Press."
   ]
  },
  {
   "cell_type": "code",
   "execution_count": 1,
   "id": "41ba0f5a",
   "metadata": {},
   "outputs": [],
   "source": [
    "import pandas as pd\n",
    "import numpy as np\n",
    "import scipy.stats as stats\n",
    "import matplotlib.pyplot as plt\n",
    "import statsmodels.api as sm"
   ]
  },
  {
   "cell_type": "markdown",
   "id": "9fb316e0",
   "metadata": {},
   "source": [
    "# Paired Test\n",
    "\n",
    "Problem: We want to know how anxiety medication effects your memory.\n",
    "\n",
    "Question: What anti-anxiety medication results in the best improvement in the memory score.\n",
    "\n",
    "Data: A collection of memory scores before and after a treatment\n",
    "\n",
    "Test: Paired T-Test\n",
    "\n",
    "I picked this test because we are analying if there is a true change in the same individuals responces.\n",
    "\n",
    "# Video: https://vimeo.com/928168407/11c85eb9d7?share=copy\n",
    "### For All Treatments"
   ]
  },
  {
   "cell_type": "code",
   "execution_count": 2,
   "id": "2d22f1b9",
   "metadata": {},
   "outputs": [
    {
     "data": {
      "text/html": [
       "<div>\n",
       "<style scoped>\n",
       "    .dataframe tbody tr th:only-of-type {\n",
       "        vertical-align: middle;\n",
       "    }\n",
       "\n",
       "    .dataframe tbody tr th {\n",
       "        vertical-align: top;\n",
       "    }\n",
       "\n",
       "    .dataframe thead th {\n",
       "        text-align: right;\n",
       "    }\n",
       "</style>\n",
       "<table border=\"1\" class=\"dataframe\">\n",
       "  <thead>\n",
       "    <tr style=\"text-align: right;\">\n",
       "      <th></th>\n",
       "      <th>first_name</th>\n",
       "      <th>last_name</th>\n",
       "      <th>age</th>\n",
       "      <th>Happy_Sad_group</th>\n",
       "      <th>Dosage</th>\n",
       "      <th>Drug</th>\n",
       "      <th>Mem_Score_Before</th>\n",
       "      <th>Mem_Score_After</th>\n",
       "      <th>Diff</th>\n",
       "    </tr>\n",
       "  </thead>\n",
       "  <tbody>\n",
       "    <tr>\n",
       "      <th>0</th>\n",
       "      <td>Bastian</td>\n",
       "      <td>Carrasco</td>\n",
       "      <td>25</td>\n",
       "      <td>H</td>\n",
       "      <td>1</td>\n",
       "      <td>A</td>\n",
       "      <td>63.5</td>\n",
       "      <td>61.2</td>\n",
       "      <td>-2.3</td>\n",
       "    </tr>\n",
       "    <tr>\n",
       "      <th>1</th>\n",
       "      <td>Evan</td>\n",
       "      <td>Carrasco</td>\n",
       "      <td>52</td>\n",
       "      <td>S</td>\n",
       "      <td>1</td>\n",
       "      <td>A</td>\n",
       "      <td>41.6</td>\n",
       "      <td>40.7</td>\n",
       "      <td>-0.9</td>\n",
       "    </tr>\n",
       "    <tr>\n",
       "      <th>2</th>\n",
       "      <td>Florencia</td>\n",
       "      <td>Carrasco</td>\n",
       "      <td>29</td>\n",
       "      <td>H</td>\n",
       "      <td>1</td>\n",
       "      <td>A</td>\n",
       "      <td>59.7</td>\n",
       "      <td>55.1</td>\n",
       "      <td>-4.6</td>\n",
       "    </tr>\n",
       "    <tr>\n",
       "      <th>3</th>\n",
       "      <td>Holly</td>\n",
       "      <td>Carrasco</td>\n",
       "      <td>50</td>\n",
       "      <td>S</td>\n",
       "      <td>1</td>\n",
       "      <td>A</td>\n",
       "      <td>51.7</td>\n",
       "      <td>51.2</td>\n",
       "      <td>-0.5</td>\n",
       "    </tr>\n",
       "    <tr>\n",
       "      <th>4</th>\n",
       "      <td>Justin</td>\n",
       "      <td>Carrasco</td>\n",
       "      <td>52</td>\n",
       "      <td>H</td>\n",
       "      <td>1</td>\n",
       "      <td>A</td>\n",
       "      <td>47.0</td>\n",
       "      <td>47.1</td>\n",
       "      <td>0.1</td>\n",
       "    </tr>\n",
       "  </tbody>\n",
       "</table>\n",
       "</div>"
      ],
      "text/plain": [
       "  first_name last_name  age Happy_Sad_group  Dosage Drug  Mem_Score_Before  \\\n",
       "0    Bastian  Carrasco   25               H       1    A              63.5   \n",
       "1       Evan  Carrasco   52               S       1    A              41.6   \n",
       "2  Florencia  Carrasco   29               H       1    A              59.7   \n",
       "3      Holly  Carrasco   50               S       1    A              51.7   \n",
       "4     Justin  Carrasco   52               H       1    A              47.0   \n",
       "\n",
       "   Mem_Score_After  Diff  \n",
       "0             61.2  -2.3  \n",
       "1             40.7  -0.9  \n",
       "2             55.1  -4.6  \n",
       "3             51.2  -0.5  \n",
       "4             47.1   0.1  "
      ]
     },
     "execution_count": 2,
     "metadata": {},
     "output_type": "execute_result"
    }
   ],
   "source": [
    "mem = pd.read_csv('/Users/zanderbonnet/Desktop/GCU/DSC_510/DataSets/Islander_data.csv')\n",
    "mem.head()"
   ]
  },
  {
   "cell_type": "code",
   "execution_count": 3,
   "id": "8bf40655",
   "metadata": {},
   "outputs": [
    {
     "name": "stdout",
     "output_type": "stream",
     "text": [
      "ShapiroResult(statistic=0.9610794186592102, pvalue=2.8495958758867346e-05)\n",
      "ShapiroResult(statistic=0.9539175629615784, pvalue=5.08873381477315e-06)\n",
      "LeveneResult(statistic=2.6810213428646015, pvalue=0.10234896676702988)\n"
     ]
    }
   ],
   "source": [
    "#Check if both distrobutions are normal\n",
    "print(stats.shapiro(mem['Mem_Score_Before']))\n",
    "print(stats.shapiro(mem['Mem_Score_After']))\n",
    "#check for difference in varriance\n",
    "print(stats.levene(mem['Mem_Score_Before'],mem['Mem_Score_After']))"
   ]
  },
  {
   "cell_type": "code",
   "execution_count": 4,
   "id": "38e348ef",
   "metadata": {},
   "outputs": [
    {
     "data": {
      "image/png": "[encoded data removed]",
      "text/plain": [
       "<Figure size 720x432 with 2 Axes>"
      ]
     },
     "metadata": {
      "needs_background": "light"
     },
     "output_type": "display_data"
    }
   ],
   "source": [
    "#Visualize normality\n",
    "fig, (ax1,ax2) = plt.subplots(1,2,figsize = (10,6))\n",
    "stats.probplot(mem['Mem_Score_Before'], plot = ax1, fit = True)\n",
    "ax1.title.set_text('Q-Q Plot Before')\n",
    "stats.probplot(mem['Mem_Score_After'], plot = ax2, fit = True)\n",
    "ax2.title.set_text('Q-Q Plot After')\n",
    "plt.show()"
   ]
  },
  {
   "cell_type": "code",
   "execution_count": 5,
   "id": "b43e49a5",
   "metadata": {},
   "outputs": [
    {
     "data": {
      "image/png": "[encoded data removed]",
      "text/plain": [
       "<Figure size 720x432 with 1 Axes>"
      ]
     },
     "metadata": {
      "needs_background": "light"
     },
     "output_type": "display_data"
    }
   ],
   "source": [
    "#see difference\n",
    "plt.figure(figsize = (10,6))\n",
    "plt.boxplot([mem['Mem_Score_Before'], mem['Mem_Score_After']], notch= True, labels=['Before', 'After'])\n",
    "plt.show()"
   ]
  },
  {
   "cell_type": "code",
   "execution_count": 6,
   "id": "0bf9763c",
   "metadata": {},
   "outputs": [
    {
     "data": {
      "text/plain": [
       "Ttest_relResult(statistic=-3.8657067402083998, pvalue=7.517823312147959e-05)"
      ]
     },
     "execution_count": 6,
     "metadata": {},
     "output_type": "execute_result"
    }
   ],
   "source": [
    "#See if treatment improved the score\n",
    "stats.ttest_rel(mem['Mem_Score_Before'], mem['Mem_Score_After'], alternative='less')"
   ]
  },
  {
   "cell_type": "markdown",
   "id": "bfdbae5f",
   "metadata": {},
   "source": [
    "### By Treatment"
   ]
  },
  {
   "cell_type": "code",
   "execution_count": 7,
   "id": "08a01a42",
   "metadata": {},
   "outputs": [
    {
     "data": {
      "image/png": "[encoded data removed]",
      "text/plain": [
       "<Figure size 1440x576 with 3 Axes>"
      ]
     },
     "metadata": {
      "needs_background": "light"
     },
     "output_type": "display_data"
    }
   ],
   "source": [
    "#Visualize the difference by treatment\n",
    "fig, (ax1,ax2,ax3) = plt.subplots(1,3,figsize = (20,8))\n",
    "a = mem[mem['Drug'] == 'A']\n",
    "ax1.boxplot([a['Mem_Score_Before'],a['Mem_Score_After']], labels= ['Before','After'])\n",
    "ax1.title.set_text('A Treatment')\n",
    "\n",
    "s = mem[mem['Drug'] == 'S']\n",
    "ax2.boxplot([s['Mem_Score_Before'],s['Mem_Score_After']], labels= ['Before','After'])\n",
    "ax2.title.set_text('S Treatment')\n",
    "\n",
    "t = mem[mem['Drug'] == 'T']\n",
    "ax3.boxplot([t['Mem_Score_Before'],t['Mem_Score_After']], labels= ['Before','After'])\n",
    "ax3.title.set_text('T Treatment')\n",
    "plt.show()"
   ]
  },
  {
   "cell_type": "code",
   "execution_count": 8,
   "id": "27eb7b63",
   "metadata": {},
   "outputs": [
    {
     "name": "stdout",
     "output_type": "stream",
     "text": [
      "ShapiroResult(statistic=0.9659509062767029, pvalue=0.06324799358844757)\n",
      "ShapiroResult(statistic=0.950230062007904, pvalue=0.009348686784505844)\n",
      "LeveneResult(statistic=5.043152992741923, pvalue=0.02638596122440081)\n"
     ]
    }
   ],
   "source": [
    "#check assumptions for treatment A\n",
    "print(stats.shapiro(a['Mem_Score_Before']))\n",
    "print(stats.shapiro(a['Mem_Score_After']))\n",
    "print(stats.levene(a['Mem_Score_Before'],a['Mem_Score_After']))"
   ]
  },
  {
   "cell_type": "code",
   "execution_count": 9,
   "id": "2c34d28f",
   "metadata": {},
   "outputs": [
    {
     "data": {
      "image/png": "[encoded data removed]",
      "text/plain": [
       "<Figure size 720x432 with 2 Axes>"
      ]
     },
     "metadata": {
      "needs_background": "light"
     },
     "output_type": "display_data"
    }
   ],
   "source": [
    "fig, (ax1,ax2) = plt.subplots(1,2,figsize = (10,6))\n",
    "stats.probplot(a['Mem_Score_Before'], plot = ax1, fit = True)\n",
    "ax1.title.set_text('Treatment A Q-Q Plot Before')\n",
    "stats.probplot(a['Mem_Score_After'], plot = ax2, fit = True)\n",
    "ax2.title.set_text('Treatment A Q-Q Plot After')\n",
    "plt.show()"
   ]
  },
  {
   "cell_type": "code",
   "execution_count": 10,
   "id": "89ebbd53",
   "metadata": {},
   "outputs": [
    {
     "name": "stdout",
     "output_type": "stream",
     "text": [
      "Treatment: A\n",
      "Ttest_relResult(statistic=-5.848567939730842, pvalue=8.449089967649337e-08)\n",
      "Treatment: S\n",
      "Ttest_relResult(statistic=0.18545974088426578, pvalue=0.5732770162332981)\n",
      "Treatment: T\n",
      "Ttest_relResult(statistic=0.6669171283034249, pvalue=0.7463887764378385)\n"
     ]
    }
   ],
   "source": [
    "treatments = list(mem['Drug'].unique())\n",
    "\n",
    "for t in treatments:\n",
    "    d = mem[mem['Drug'] == t]\n",
    "    print('Treatment:',t)\n",
    "    print(stats.ttest_rel(d['Mem_Score_Before'], d['Mem_Score_After'], alternative= 'less'))"
   ]
  },
  {
   "cell_type": "markdown",
   "id": "618f563b",
   "metadata": {},
   "source": [
    "It was found that the most effective treatment in this study was treatment a A.\n",
    "\n",
    "In conducting this test I checked the assumptions that the data follows a normal distrobution, the data points are independent of eachother, and that the varriance is similar between. the variables.\n",
    "\n",
    "If any of these assumptions were to be violated we would not get a reliable result."
   ]
  },
  {
   "cell_type": "markdown",
   "id": "df6b17f8",
   "metadata": {},
   "source": [
    "# Multiple Population Means Analysis\n",
    "\n",
    "Problem: There are many factors that determine weight. We need to find the major dofferences in what cause variation in weight.\n",
    "\n",
    "Question: Is there a significant difference in weight in men and women?\n",
    "\n",
    "Data: A collection of datapoints to help predict heart disease\n",
    "\n",
    "Test: ANOVA/independent t-test\n",
    "\n",
    "These tests were picked becasue they are to analyze the difference in independent samples. ANOVA will work on more than 2 samples, while the t-test will work on only two. They should both similar results in this case.\n",
    "\n",
    "# Video : https://vimeo.com/928169780/01a6ce7b51?share=copy\n"
   ]
  },
  {
   "cell_type": "code",
   "execution_count": 11,
   "id": "afa9eff3",
   "metadata": {},
   "outputs": [
    {
     "data": {
      "text/html": [
       "<div>\n",
       "<style scoped>\n",
       "    .dataframe tbody tr th:only-of-type {\n",
       "        vertical-align: middle;\n",
       "    }\n",
       "\n",
       "    .dataframe tbody tr th {\n",
       "        vertical-align: top;\n",
       "    }\n",
       "\n",
       "    .dataframe thead th {\n",
       "        text-align: right;\n",
       "    }\n",
       "</style>\n",
       "<table border=\"1\" class=\"dataframe\">\n",
       "  <thead>\n",
       "    <tr style=\"text-align: right;\">\n",
       "      <th></th>\n",
       "      <th>id</th>\n",
       "      <th>age</th>\n",
       "      <th>gender</th>\n",
       "      <th>height</th>\n",
       "      <th>weight</th>\n",
       "      <th>ap_hi</th>\n",
       "      <th>ap_lo</th>\n",
       "      <th>cholesterol</th>\n",
       "      <th>gluc</th>\n",
       "      <th>smoke</th>\n",
       "      <th>alco</th>\n",
       "      <th>active</th>\n",
       "      <th>cardio</th>\n",
       "    </tr>\n",
       "  </thead>\n",
       "  <tbody>\n",
       "    <tr>\n",
       "      <th>0</th>\n",
       "      <td>0</td>\n",
       "      <td>18393</td>\n",
       "      <td>2</td>\n",
       "      <td>168</td>\n",
       "      <td>62.0</td>\n",
       "      <td>110</td>\n",
       "      <td>80</td>\n",
       "      <td>1</td>\n",
       "      <td>1</td>\n",
       "      <td>0</td>\n",
       "      <td>0</td>\n",
       "      <td>1</td>\n",
       "      <td>0</td>\n",
       "    </tr>\n",
       "    <tr>\n",
       "      <th>1</th>\n",
       "      <td>1</td>\n",
       "      <td>20228</td>\n",
       "      <td>1</td>\n",
       "      <td>156</td>\n",
       "      <td>85.0</td>\n",
       "      <td>140</td>\n",
       "      <td>90</td>\n",
       "      <td>3</td>\n",
       "      <td>1</td>\n",
       "      <td>0</td>\n",
       "      <td>0</td>\n",
       "      <td>1</td>\n",
       "      <td>1</td>\n",
       "    </tr>\n",
       "    <tr>\n",
       "      <th>2</th>\n",
       "      <td>2</td>\n",
       "      <td>18857</td>\n",
       "      <td>1</td>\n",
       "      <td>165</td>\n",
       "      <td>64.0</td>\n",
       "      <td>130</td>\n",
       "      <td>70</td>\n",
       "      <td>3</td>\n",
       "      <td>1</td>\n",
       "      <td>0</td>\n",
       "      <td>0</td>\n",
       "      <td>0</td>\n",
       "      <td>1</td>\n",
       "    </tr>\n",
       "    <tr>\n",
       "      <th>3</th>\n",
       "      <td>3</td>\n",
       "      <td>17623</td>\n",
       "      <td>2</td>\n",
       "      <td>169</td>\n",
       "      <td>82.0</td>\n",
       "      <td>150</td>\n",
       "      <td>100</td>\n",
       "      <td>1</td>\n",
       "      <td>1</td>\n",
       "      <td>0</td>\n",
       "      <td>0</td>\n",
       "      <td>1</td>\n",
       "      <td>1</td>\n",
       "    </tr>\n",
       "    <tr>\n",
       "      <th>4</th>\n",
       "      <td>4</td>\n",
       "      <td>17474</td>\n",
       "      <td>1</td>\n",
       "      <td>156</td>\n",
       "      <td>56.0</td>\n",
       "      <td>100</td>\n",
       "      <td>60</td>\n",
       "      <td>1</td>\n",
       "      <td>1</td>\n",
       "      <td>0</td>\n",
       "      <td>0</td>\n",
       "      <td>0</td>\n",
       "      <td>0</td>\n",
       "    </tr>\n",
       "  </tbody>\n",
       "</table>\n",
       "</div>"
      ],
      "text/plain": [
       "   id    age  gender  height  weight  ap_hi  ap_lo  cholesterol  gluc  smoke  \\\n",
       "0   0  18393       2     168    62.0    110     80            1     1      0   \n",
       "1   1  20228       1     156    85.0    140     90            3     1      0   \n",
       "2   2  18857       1     165    64.0    130     70            3     1      0   \n",
       "3   3  17623       2     169    82.0    150    100            1     1      0   \n",
       "4   4  17474       1     156    56.0    100     60            1     1      0   \n",
       "\n",
       "   alco  active  cardio  \n",
       "0     0       1       0  \n",
       "1     0       1       1  \n",
       "2     0       0       1  \n",
       "3     0       1       1  \n",
       "4     0       0       0  "
      ]
     },
     "execution_count": 11,
     "metadata": {},
     "output_type": "execute_result"
    }
   ],
   "source": [
    "cardio = pd.read_csv('/Users/zanderbonnet/Desktop/GCU/DSC_510/DataSets/cardio.csv', delimiter= ';')\n",
    "#age in days\n",
    "#height in cm\n",
    "#weight in kg\n",
    "#gender 1 = f, 2 = m\n",
    "cardio.head()"
   ]
  },
  {
   "cell_type": "code",
   "execution_count": 12,
   "id": "89c84e82",
   "metadata": {},
   "outputs": [
    {
     "data": {
      "text/html": [
       "<div>\n",
       "<style scoped>\n",
       "    .dataframe tbody tr th:only-of-type {\n",
       "        vertical-align: middle;\n",
       "    }\n",
       "\n",
       "    .dataframe tbody tr th {\n",
       "        vertical-align: top;\n",
       "    }\n",
       "\n",
       "    .dataframe thead th {\n",
       "        text-align: right;\n",
       "    }\n",
       "</style>\n",
       "<table border=\"1\" class=\"dataframe\">\n",
       "  <thead>\n",
       "    <tr style=\"text-align: right;\">\n",
       "      <th></th>\n",
       "      <th>id</th>\n",
       "      <th>age</th>\n",
       "      <th>gender</th>\n",
       "      <th>height</th>\n",
       "      <th>weight</th>\n",
       "      <th>ap_hi</th>\n",
       "      <th>ap_lo</th>\n",
       "      <th>cholesterol</th>\n",
       "      <th>gluc</th>\n",
       "      <th>smoke</th>\n",
       "      <th>alco</th>\n",
       "      <th>active</th>\n",
       "      <th>cardio</th>\n",
       "    </tr>\n",
       "  </thead>\n",
       "  <tbody>\n",
       "    <tr>\n",
       "      <th>0</th>\n",
       "      <td>0</td>\n",
       "      <td>18393</td>\n",
       "      <td>Male</td>\n",
       "      <td>168</td>\n",
       "      <td>62.0</td>\n",
       "      <td>110</td>\n",
       "      <td>80</td>\n",
       "      <td>1</td>\n",
       "      <td>1</td>\n",
       "      <td>0</td>\n",
       "      <td>0</td>\n",
       "      <td>1</td>\n",
       "      <td>0</td>\n",
       "    </tr>\n",
       "    <tr>\n",
       "      <th>1</th>\n",
       "      <td>1</td>\n",
       "      <td>20228</td>\n",
       "      <td>Female</td>\n",
       "      <td>156</td>\n",
       "      <td>85.0</td>\n",
       "      <td>140</td>\n",
       "      <td>90</td>\n",
       "      <td>3</td>\n",
       "      <td>1</td>\n",
       "      <td>0</td>\n",
       "      <td>0</td>\n",
       "      <td>1</td>\n",
       "      <td>1</td>\n",
       "    </tr>\n",
       "    <tr>\n",
       "      <th>2</th>\n",
       "      <td>2</td>\n",
       "      <td>18857</td>\n",
       "      <td>Female</td>\n",
       "      <td>165</td>\n",
       "      <td>64.0</td>\n",
       "      <td>130</td>\n",
       "      <td>70</td>\n",
       "      <td>3</td>\n",
       "      <td>1</td>\n",
       "      <td>0</td>\n",
       "      <td>0</td>\n",
       "      <td>0</td>\n",
       "      <td>1</td>\n",
       "    </tr>\n",
       "    <tr>\n",
       "      <th>3</th>\n",
       "      <td>3</td>\n",
       "      <td>17623</td>\n",
       "      <td>Male</td>\n",
       "      <td>169</td>\n",
       "      <td>82.0</td>\n",
       "      <td>150</td>\n",
       "      <td>100</td>\n",
       "      <td>1</td>\n",
       "      <td>1</td>\n",
       "      <td>0</td>\n",
       "      <td>0</td>\n",
       "      <td>1</td>\n",
       "      <td>1</td>\n",
       "    </tr>\n",
       "    <tr>\n",
       "      <th>4</th>\n",
       "      <td>4</td>\n",
       "      <td>17474</td>\n",
       "      <td>Female</td>\n",
       "      <td>156</td>\n",
       "      <td>56.0</td>\n",
       "      <td>100</td>\n",
       "      <td>60</td>\n",
       "      <td>1</td>\n",
       "      <td>1</td>\n",
       "      <td>0</td>\n",
       "      <td>0</td>\n",
       "      <td>0</td>\n",
       "      <td>0</td>\n",
       "    </tr>\n",
       "  </tbody>\n",
       "</table>\n",
       "</div>"
      ],
      "text/plain": [
       "   id    age  gender  height  weight  ap_hi  ap_lo  cholesterol  gluc  smoke  \\\n",
       "0   0  18393    Male     168    62.0    110     80            1     1      0   \n",
       "1   1  20228  Female     156    85.0    140     90            3     1      0   \n",
       "2   2  18857  Female     165    64.0    130     70            3     1      0   \n",
       "3   3  17623    Male     169    82.0    150    100            1     1      0   \n",
       "4   4  17474  Female     156    56.0    100     60            1     1      0   \n",
       "\n",
       "   alco  active  cardio  \n",
       "0     0       1       0  \n",
       "1     0       1       1  \n",
       "2     0       0       1  \n",
       "3     0       1       1  \n",
       "4     0       0       0  "
      ]
     },
     "execution_count": 12,
     "metadata": {},
     "output_type": "execute_result"
    }
   ],
   "source": [
    "gender = [] #sets gender to strings\n",
    "for gen in cardio['gender']:\n",
    "    if gen == 1:\n",
    "        gender.append(\"Female\")\n",
    "    elif gen == 2:\n",
    "        gender.append(\"Male\")\n",
    "    else:\n",
    "        gender.append('Missing')\n",
    "cardio['gender'] = gender\n",
    "cardio.head()"
   ]
  },
  {
   "cell_type": "code",
   "execution_count": 27,
   "id": "e048b6ed",
   "metadata": {},
   "outputs": [
    {
     "name": "stdout",
     "output_type": "stream",
     "text": [
      "ShapiroResult(statistic=0.9524598717689514, pvalue=0.0)\n",
      "ShapiroResult(statistic=0.9497232437133789, pvalue=0.0)\n",
      "LeveneResult(statistic=1.0039293043790916, pvalue=0.3163650591010906)\n"
     ]
    }
   ],
   "source": [
    "#Check Assumptions\n",
    "print(stats.shapiro(cardio[cardio['gender'] == 'Male']['weight']))\n",
    "print(stats.shapiro(cardio[cardio['gender'] == 'Female']['weight']))\n",
    "print(stats.levene(cardio[cardio['gender'] == 'Male']['weight'], cardio[cardio['gender'] == 'Female']['weight']))"
   ]
  },
  {
   "cell_type": "code",
   "execution_count": 14,
   "id": "1aecd660",
   "metadata": {},
   "outputs": [
    {
     "data": {
      "image/png": "[encoded data removed]",
      "text/plain": [
       "<Figure size 720x432 with 2 Axes>"
      ]
     },
     "metadata": {
      "needs_background": "light"
     },
     "output_type": "display_data"
    }
   ],
   "source": [
    "#Visulaize Normality\n",
    "fig, (ax1,ax2) = plt.subplots(1,2,figsize = (10,6))\n",
    "zsM = stats.zscore(cardio[cardio['gender'] == 'Male']['weight'])\n",
    "stats.probplot(zsM, plot = ax1, fit = True, dist = 'norm')\n",
    "ax1.title.set_text('Male Q-Q Plot')\n",
    "\n",
    "zsF = stats.zscore(cardio[cardio['gender'] == 'Female']['weight'])\n",
    "stats.probplot(zsF, plot = ax2, fit = True, dist = 'norm')\n",
    "ax2.title.set_text('Female Q-Q Plot')\n",
    "plt.show()"
   ]
  },
  {
   "cell_type": "code",
   "execution_count": 15,
   "id": "e4104dd5",
   "metadata": {},
   "outputs": [
    {
     "data": {
      "image/png": "[encoded data removed]",
      "text/plain": [
       "<Figure size 720x432 with 1 Axes>"
      ]
     },
     "metadata": {
      "needs_background": "light"
     },
     "output_type": "display_data"
    }
   ],
   "source": [
    "#Distrobution\n",
    "plt.figure(figsize = (10,6))\n",
    "plt.boxplot([\n",
    "    cardio[cardio['gender'] == 'Male']['weight'],\n",
    "    cardio[cardio['gender'] == 'Female']['weight']\n",
    "],labels = ['Male','Female']\n",
    ")\n",
    "\n",
    "plt.show()"
   ]
  },
  {
   "cell_type": "code",
   "execution_count": 16,
   "id": "9929faff",
   "metadata": {},
   "outputs": [
    {
     "name": "stdout",
     "output_type": "stream",
     "text": [
      "F_onewayResult(statistic=1732.3535254278527, pvalue=0.0)\n",
      "Ttest_indResult(statistic=41.6215512136182, pvalue=0.0)\n"
     ]
    }
   ],
   "source": [
    "print(stats.f_oneway(cardio[cardio['gender'] == 'Male']['weight'],cardio[cardio['gender'] == 'Female']['weight']))\n",
    "print(stats.ttest_ind(cardio[cardio['gender'] == 'Male']['weight'],cardio[cardio['gender'] == 'Female']['weight']))"
   ]
  },
  {
   "cell_type": "markdown",
   "id": "3a524b64",
   "metadata": {},
   "source": [
    "### Drop Outliers"
   ]
  },
  {
   "cell_type": "code",
   "execution_count": 17,
   "id": "c2c874a7",
   "metadata": {},
   "outputs": [],
   "source": [
    "#Gets trimmed datasets\n",
    "Q3M = np.quantile(cardio[cardio['gender'] == 'Male']['weight'],.75)\n",
    "Q1M = np.quantile(cardio[cardio['gender'] == 'Male']['weight'],.25)\n",
    "IQRM = Q3M - Q1M\n",
    "upthreshM = Q3M + (1.5*IQRM)\n",
    "lowthreshM = Q1M - (1.5*IQRM)\n",
    "trimM = cardio[(cardio['weight'] < upthreshM) & (cardio['weight'] > lowthreshM)].loc[cardio['gender'] == 'Male']\n",
    "\n",
    "Q3F = np.quantile(cardio[cardio['gender'] == 'Female']['weight'],.75)\n",
    "Q1F = np.quantile(cardio[cardio['gender'] == 'Female']['weight'],.25)\n",
    "IQRF = Q3F - Q1F\n",
    "upthreshF = Q3F + (1.5*IQRF)\n",
    "lowthreshF = Q1F - (1.5*IQRF)\n",
    "trimF = cardio[(cardio['weight'] < upthreshF) & (cardio['weight'] > lowthreshF)].loc[cardio['gender'] == 'Female']"
   ]
  },
  {
   "cell_type": "code",
   "execution_count": 26,
   "id": "b1610a2f",
   "metadata": {},
   "outputs": [
    {
     "name": "stdout",
     "output_type": "stream",
     "text": [
      "ShapiroResult(statistic=0.9849572777748108, pvalue=1.2611686178923354e-43)\n",
      "ShapiroResult(statistic=0.9838199019432068, pvalue=0.0)\n",
      "LeveneResult(statistic=6.603992025788873, pvalue=0.010177140236124286)\n"
     ]
    }
   ],
   "source": [
    "#checks assumptions\n",
    "print(stats.shapiro(trimM['weight']))\n",
    "print(stats.shapiro(trimF['weight']))\n",
    "print(stats.levene(trimM['weight'], trimF['weight']))"
   ]
  },
  {
   "cell_type": "code",
   "execution_count": 19,
   "id": "8678e59e",
   "metadata": {},
   "outputs": [
    {
     "data": {
      "image/png": "[encoded data removed]",
      "text/plain": [
       "<Figure size 720x432 with 2 Axes>"
      ]
     },
     "metadata": {
      "needs_background": "light"
     },
     "output_type": "display_data"
    }
   ],
   "source": [
    "#visulaize normality\n",
    "fig, (ax1,ax2) = plt.subplots(1,2,figsize = (10,6))\n",
    "zsMT = stats.zscore(trimM['weight'])\n",
    "stats.probplot(zsMT, plot = ax1, fit = True, dist = 'norm')\n",
    "ax1.title.set_text('Trimmed Male Q-Q Plot')\n",
    "\n",
    "zsFT = stats.zscore(trimF['weight'])\n",
    "stats.probplot(zsFT, plot = ax2, fit = True, dist = 'norm')\n",
    "ax2.title.set_text('Trimmed Female Q-Q Plot')\n",
    "plt.show()"
   ]
  },
  {
   "cell_type": "code",
   "execution_count": 20,
   "id": "94eb4d22",
   "metadata": {},
   "outputs": [
    {
     "data": {
      "image/png": "[encoded data removed]",
      "text/plain": [
       "<Figure size 720x432 with 1 Axes>"
      ]
     },
     "metadata": {
      "needs_background": "light"
     },
     "output_type": "display_data"
    }
   ],
   "source": [
    "#visualize distrobution\n",
    "plt.figure(figsize = (10,6))\n",
    "plt.boxplot([\n",
    "    trimM['weight'],\n",
    "    trimF['weight']\n",
    "],labels = ['Male','Female']\n",
    ")\n",
    "plt.show()"
   ]
  },
  {
   "cell_type": "code",
   "execution_count": 21,
   "id": "36cd8a9f",
   "metadata": {},
   "outputs": [
    {
     "name": "stdout",
     "output_type": "stream",
     "text": [
      "F_onewayResult(statistic=2343.287893190978, pvalue=0.0)\n",
      "Ttest_indResult(statistic=48.407518973719256, pvalue=0.0)\n"
     ]
    }
   ],
   "source": [
    "print(stats.f_oneway(trimM['weight'],trimF['weight']))\n",
    "print(stats.ttest_ind(trimM['weight'],trimF['weight']))"
   ]
  },
  {
   "cell_type": "markdown",
   "id": "0bad7946",
   "metadata": {},
   "source": [
    "It was found that there is a significant difference in the weights of men and women in this dataset.\n",
    "\n",
    "I checked the assumptions of normality, independent observations, and equal variance. The data set contains so many data points that it is hard to check the normality assumption, so I created a QQ plot ot visualze the normality. This resulted in finding a large deviation from normality at the higher weights so I removed the ouliers to combat this. This increased the normality of the data, and allowed for a more accurate test. The test became more powerful after the removal of outliers from both the men and the women."
   ]
  },
  {
   "cell_type": "markdown",
   "id": "63fd2c7c",
   "metadata": {},
   "source": [
    "# Variance Comparison Analysis\n",
    "\n",
    "Problem: We now that there is an increase in responce score, but is there a difference in the distrobution of change.\n",
    "\n",
    "Question: Do the treatments have different variances in the difference in the change before and after treatment?\n",
    "\n",
    "Data: A collection of memory scores before and after a treatment\n",
    "\n",
    "Test: Levene test\n",
    "\n",
    "This test was picked so that we can analyze if the populations that these samples are taken from are statistaclly different. This will show us if there is a difference in the spread of the impact of each medication.\n",
    "\n",
    "# Video : https://vimeo.com/928171231/de998c50d3?share=copy "
   ]
  },
  {
   "cell_type": "code",
   "execution_count": 22,
   "id": "3e2b8f41",
   "metadata": {},
   "outputs": [
    {
     "data": {
      "text/html": [
       "<div>\n",
       "<style scoped>\n",
       "    .dataframe tbody tr th:only-of-type {\n",
       "        vertical-align: middle;\n",
       "    }\n",
       "\n",
       "    .dataframe tbody tr th {\n",
       "        vertical-align: top;\n",
       "    }\n",
       "\n",
       "    .dataframe thead th {\n",
       "        text-align: right;\n",
       "    }\n",
       "</style>\n",
       "<table border=\"1\" class=\"dataframe\">\n",
       "  <thead>\n",
       "    <tr style=\"text-align: right;\">\n",
       "      <th></th>\n",
       "      <th>first_name</th>\n",
       "      <th>last_name</th>\n",
       "      <th>age</th>\n",
       "      <th>Happy_Sad_group</th>\n",
       "      <th>Dosage</th>\n",
       "      <th>Drug</th>\n",
       "      <th>Mem_Score_Before</th>\n",
       "      <th>Mem_Score_After</th>\n",
       "      <th>Diff</th>\n",
       "    </tr>\n",
       "  </thead>\n",
       "  <tbody>\n",
       "    <tr>\n",
       "      <th>0</th>\n",
       "      <td>Bastian</td>\n",
       "      <td>Carrasco</td>\n",
       "      <td>25</td>\n",
       "      <td>H</td>\n",
       "      <td>1</td>\n",
       "      <td>A</td>\n",
       "      <td>63.5</td>\n",
       "      <td>61.2</td>\n",
       "      <td>-2.3</td>\n",
       "    </tr>\n",
       "    <tr>\n",
       "      <th>1</th>\n",
       "      <td>Evan</td>\n",
       "      <td>Carrasco</td>\n",
       "      <td>52</td>\n",
       "      <td>S</td>\n",
       "      <td>1</td>\n",
       "      <td>A</td>\n",
       "      <td>41.6</td>\n",
       "      <td>40.7</td>\n",
       "      <td>-0.9</td>\n",
       "    </tr>\n",
       "    <tr>\n",
       "      <th>2</th>\n",
       "      <td>Florencia</td>\n",
       "      <td>Carrasco</td>\n",
       "      <td>29</td>\n",
       "      <td>H</td>\n",
       "      <td>1</td>\n",
       "      <td>A</td>\n",
       "      <td>59.7</td>\n",
       "      <td>55.1</td>\n",
       "      <td>-4.6</td>\n",
       "    </tr>\n",
       "    <tr>\n",
       "      <th>3</th>\n",
       "      <td>Holly</td>\n",
       "      <td>Carrasco</td>\n",
       "      <td>50</td>\n",
       "      <td>S</td>\n",
       "      <td>1</td>\n",
       "      <td>A</td>\n",
       "      <td>51.7</td>\n",
       "      <td>51.2</td>\n",
       "      <td>-0.5</td>\n",
       "    </tr>\n",
       "    <tr>\n",
       "      <th>4</th>\n",
       "      <td>Justin</td>\n",
       "      <td>Carrasco</td>\n",
       "      <td>52</td>\n",
       "      <td>H</td>\n",
       "      <td>1</td>\n",
       "      <td>A</td>\n",
       "      <td>47.0</td>\n",
       "      <td>47.1</td>\n",
       "      <td>0.1</td>\n",
       "    </tr>\n",
       "  </tbody>\n",
       "</table>\n",
       "</div>"
      ],
      "text/plain": [
       "  first_name last_name  age Happy_Sad_group  Dosage Drug  Mem_Score_Before  \\\n",
       "0    Bastian  Carrasco   25               H       1    A              63.5   \n",
       "1       Evan  Carrasco   52               S       1    A              41.6   \n",
       "2  Florencia  Carrasco   29               H       1    A              59.7   \n",
       "3      Holly  Carrasco   50               S       1    A              51.7   \n",
       "4     Justin  Carrasco   52               H       1    A              47.0   \n",
       "\n",
       "   Mem_Score_After  Diff  \n",
       "0             61.2  -2.3  \n",
       "1             40.7  -0.9  \n",
       "2             55.1  -4.6  \n",
       "3             51.2  -0.5  \n",
       "4             47.1   0.1  "
      ]
     },
     "execution_count": 22,
     "metadata": {},
     "output_type": "execute_result"
    }
   ],
   "source": [
    "mem = pd.read_csv('/Users/zanderbonnet/Desktop/GCU/DSC_510/DataSets/Islander_data.csv')\n",
    "mem.head()"
   ]
  },
  {
   "cell_type": "code",
   "execution_count": 23,
   "id": "b8e3d24e",
   "metadata": {},
   "outputs": [
    {
     "data": {
      "image/png": "[encoded data removed]",
      "text/plain": [
       "<Figure size 1440x576 with 3 Axes>"
      ]
     },
     "metadata": {
      "needs_background": "light"
     },
     "output_type": "display_data"
    }
   ],
   "source": [
    "#Visualize the difference by treatment\n",
    "fig, (ax1,ax2,ax3) = plt.subplots(1,3,figsize = (20,8))\n",
    "a = mem[mem['Drug'] == 'A']\n",
    "ax1.boxplot(a['Diff'], labels = ['Difference'])\n",
    "ax1.title.set_text('A Treatment')\n",
    "\n",
    "s = mem[mem['Drug'] == 'S']\n",
    "ax2.boxplot(s['Diff'], labels = ['Difference'])\n",
    "ax2.title.set_text('S Treatment')\n",
    "\n",
    "t = mem[mem['Drug'] == 'T']\n",
    "ax3.boxplot(t['Diff'], labels = ['Difference'])\n",
    "ax3.title.set_text('T Treatment')\n",
    "plt.show()"
   ]
  },
  {
   "cell_type": "code",
   "execution_count": 24,
   "id": "364b5e09",
   "metadata": {},
   "outputs": [
    {
     "name": "stdout",
     "output_type": "stream",
     "text": [
      "LeveneResult(statistic=19.066413321946992, pvalue=2.7355222091967235e-08)\n"
     ]
    }
   ],
   "source": [
    "print(stats.levene(a['Diff'],s['Diff'],t['Diff']))"
   ]
  },
  {
   "cell_type": "markdown",
   "id": "f972db24",
   "metadata": {},
   "source": [
    "From this we know that there is a wider spread of change in one of the treatments. This could show that there are some people that respond very well to the treatment, and others that respond modertly well. This might lead us to dive deeper into the reasoning behind this.\n",
    "\n",
    "The assumption of this test is that the data is indpendent, and that there are no major outliers. This is not violated becuase all of the groups are seperated.\n",
    "\n",
    "If I were not follow these assuptions it woudl give us a false reading. The outliers one is most important, becasue if one data set has a skewed variance do to an outlier it would casue the test to false positive. In this case the outlier in the S treatment is not leading to a flase positive becasue the A treatment has a different variance."
   ]
  }
 ],
 "metadata": {
  "kernelspec": {
   "display_name": "Python 3 (ipykernel)",
   "language": "python",
   "name": "python3"
  },
  "language_info": {
   "codemirror_mode": {
    "name": "ipython",
    "version": 3
   },
   "file_extension": ".py",
   "mimetype": "text/x-python",
   "name": "python",
   "nbconvert_exporter": "python",
   "pygments_lexer": "ipython3",
   "version": "3.9.7"
  }
 },
 "nbformat": 4,
 "nbformat_minor": 5
}
