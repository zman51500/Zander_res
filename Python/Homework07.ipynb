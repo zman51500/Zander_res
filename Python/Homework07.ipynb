{
 "cells": [
  {
   "cell_type": "markdown",
   "metadata": {},
   "source": [
    "Before you turn this homework in, make sure everything runs as expected. First, **restart the kernel** and then **run all cells** (in the menubar, select Kernel$\\rightarrow$Restart \\& Run all). If you get error messages, the grader will get the same errors and won't be able to grade your work. \n",
    "\n",
    "Make sure you fill in any place that says `YOUR CODE HERE` or \"YOUR ANSWER HERE\". You may delete the line(s) that say \"**raise** NotImplementedError()\" and replace them with your actual work. Write all your work in the cells provided in this notebook. **DO NOT** add or delete any cells. \n",
    "\n",
    "Please fill in your name in the cell below."
   ]
  },
  {
   "cell_type": "code",
   "execution_count": 4,
   "metadata": {},
   "outputs": [],
   "source": [
    "NAME = \"Zander Bonnet\""
   ]
  },
  {
   "cell_type": "markdown",
   "metadata": {},
   "source": [
    "---"
   ]
  },
  {
   "cell_type": "markdown",
   "metadata": {
    "deletable": false,
    "editable": false,
    "nbgrader": {
     "cell_type": "markdown",
     "checksum": "61f484de974d664d8e5af8c078d0bae0",
     "grade": false,
     "grade_id": "cell-13b6f13920352efb",
     "locked": true,
     "schema_version": 3,
     "solution": false,
     "task": false
    }
   },
   "source": [
    "# Homework 7\n",
    "\n",
    "**Disclaimer:** For this assignment, there are some things that you are asked to do that we have not explicitly done in class. \n",
    "For example, you will be asked to modify figures in Matplotlib in new ways. Please use your favorite search engine to look up how to do these things. Realistically, when you use Python in your jobs in the future you will be spending a significant portion of your time to look up new things. And it's never too early to practice that skill. \n",
    "\n",
    "## Problem\n",
    "\n",
    "You can find the data files \"Mouse_metadata.csv\" and \"Study_results.csv\" which you will need for this homework on Canvas. You are being asked to create several graphs in this HW. You can find examples of what your graphs are suppose to look like in the additional graph document you can find on Canvas. \n",
    "\n",
    "In a pharmaceutical study, 249 mice identified with squamous cell carcinoma (skin cancer) tumor growth were treated with a variety of drug regimens. Over the course of 45 days, tumor development was observed and measured. The scientists measured the tumor growth over time (volume in $mm^3$) and the number of metastatic sites. The purpose of the study was to compare the performace of the new drug \"Capomulin\" to several other existing drug regimens. \n",
    "\n",
    "Begin by loading the two data sets into Pandas as data frames. "
   ]
  },
  {
   "cell_type": "code",
   "execution_count": 5,
   "metadata": {
    "deletable": false,
    "nbgrader": {
     "cell_type": "code",
     "checksum": "51e823439f7b5999fd41cfc3aaca9744",
     "grade": true,
     "grade_id": "cell-a0a286a56cdbaeea",
     "locked": false,
     "points": 0,
     "schema_version": 3,
     "solution": true,
     "task": false
    }
   },
   "outputs": [
    {
     "name": "stdout",
     "output_type": "stream",
     "text": [
      "    Mouse ID Drug Regimen     Sex  Age_months  Weight (g)\n",
      "0       s185    Capomulin  Female           3          17\n",
      "1       x401    Capomulin  Female          16          15\n",
      "2       m601    Capomulin    Male          22          17\n",
      "3       f966    Capomulin    Male          16          17\n",
      "4       u364    Capomulin    Male          18          17\n",
      "..       ...          ...     ...         ...         ...\n",
      "244     q633    Zoniferol    Male          12          25\n",
      "245     s337    Zoniferol    Male          14          27\n",
      "246     w140    Zoniferol  Female          19          30\n",
      "247     w575    Zoniferol  Female          16          28\n",
      "248     x613    Zoniferol  Female           2          29\n",
      "\n",
      "[249 rows x 5 columns]\n",
      "     Mouse ID  Timepoint  Tumor Volume (mm3)  Metastatic Sites\n",
      "0        a203          0           45.000000                 0\n",
      "1        a203          5           48.508468                 0\n",
      "2        a203         10           51.852437                 1\n",
      "3        a203         15           52.777870                 1\n",
      "4        a203         20           55.173336                 1\n",
      "...       ...        ...                 ...               ...\n",
      "1882     z969         25           63.145652                 2\n",
      "1883     z969         30           65.841013                 3\n",
      "1884     z969         35           69.176246                 4\n",
      "1885     z969         40           70.314904                 4\n",
      "1886     z969         45           73.867845                 4\n",
      "\n",
      "[1887 rows x 4 columns]\n"
     ]
    }
   ],
   "source": [
    "# YOUR CODE HERE\n",
    "import pandas as pd\n",
    "metaFile = \"/Users/zanderbonnet/Desktop/Math 167PS/Homework/Data/Mouse_metadata.csv\"\n",
    "metaData = pd.read_csv(metaFile)\n",
    "print(metaData)\n",
    "\n",
    "\n",
    "studyFile = \"/Users/zanderbonnet/Desktop/Math 167PS/Homework/Data/Study_results.csv\"\n",
    "studyData = pd.read_csv(studyFile)\n",
    "print(studyData)"
   ]
  },
  {
   "cell_type": "markdown",
   "metadata": {
    "deletable": false,
    "editable": false,
    "nbgrader": {
     "cell_type": "markdown",
     "checksum": "7c62650d25c13bd618a032d02dc71f11",
     "grade": false,
     "grade_id": "cell-256587c1c7a51cbb",
     "locked": true,
     "schema_version": 3,
     "solution": false,
     "task": false
    }
   },
   "source": [
    "(a) Describe the two data files. How many rows and columns are in each file? What variables are in the columns? What is in the rows? What is the Pandas index currently used? Do the two files have any common columns?"
   ]
  },
  {
   "cell_type": "markdown",
   "metadata": {
    "deletable": false,
    "nbgrader": {
     "cell_type": "markdown",
     "checksum": "508c96358887a74ebabac764e167bbb4",
     "grade": true,
     "grade_id": "cell-003dd665be18ca95",
     "locked": false,
     "points": 1,
     "schema_version": 3,
     "solution": true,
     "task": false
    }
   },
   "source": [
    "metaData - This file has 249 rows and 5 colums. The rows are the individual mice. The columns are the mouse id, drug regimine, sex, age in months, and weight. The index is being used as another identifier for the mice.\n",
    "\n",
    "studyData- This file has 1887 rows and 4 columns. The rows are the individual mice at a time point. The columns arethe mouse id, the timepoint they are being weighed at, the volume of teh tumor, and the metastatic sites. The pandas index does not really tell you much in this case as it is identifying both the mouse id and the time points for each mouse.\n",
    "\n",
    "The two data sets share the column mouse ID."
   ]
  },
  {
   "cell_type": "markdown",
   "metadata": {
    "deletable": false,
    "editable": false,
    "nbgrader": {
     "cell_type": "markdown",
     "checksum": "fe1e721463c16f05b3c86dcda2f3b32f",
     "grade": false,
     "grade_id": "cell-58bdc12dfe4d0b35",
     "locked": true,
     "schema_version": 3,
     "solution": false,
     "task": false
    }
   },
   "source": [
    "(b) Write Pandas code to find the number of male and female mice that were subjected to each drug regimen. Save the results as a Pandas data frame with the names of the drugs as the index and two columns (one for male, one for female). The two columns should contain the counts of individuals subjected to each drug regimen. Display your resulting data frame to the console so that the grader can see it. "
   ]
  },
  {
   "cell_type": "code",
   "execution_count": 6,
   "metadata": {
    "deletable": false,
    "nbgrader": {
     "cell_type": "code",
     "checksum": "f5dde786612b72300e2b5ad69cd0ed9c",
     "grade": true,
     "grade_id": "cell-da0e011044c79db0",
     "locked": false,
     "points": 2,
     "schema_version": 3,
     "solution": true,
     "task": false
    }
   },
   "outputs": [
    {
     "name": "stdout",
     "output_type": "stream",
     "text": [
      "              Male Count  Female Count\n",
      "Drug Regimen                          \n",
      "Ceftamin              12            13\n",
      "Placebo               12            13\n",
      "Propriva              13            12\n",
      "Naftisol              12            13\n",
      "Ketapril              16             9\n",
      "Ramicane              16             9\n",
      "Zoniferol             10            15\n",
      "Stelasyn               9            15\n",
      "Capomulin             12            13\n",
      "Infubinol             13            12\n"
     ]
    }
   ],
   "source": [
    "# YOUR CODE HERE\n",
    "metaData.set_index(['Drug Regimen'], inplace = True)\n",
    "maleCount = []\n",
    "femaleCount = []\n",
    "gen = set(metaData[\"Sex\"])\n",
    "drugs = set(metaData.index)\n",
    "for d in drugs:\n",
    "    for g in gen:\n",
    "        if g == \"Male\":\n",
    "            #break\n",
    "            maleCount.append(sum(metaData.loc[d][\"Sex\"] == \"Male\"))\n",
    "        elif g == \"Female\":\n",
    "            femaleCount.append(sum(metaData.loc[d][\"Sex\"] == \"Female\"))\n",
    "metaData = metaData.reset_index()\n",
    "new = pd.DataFrame({\"Drug Regimen\" : list(drugs), \"Male Count\" : maleCount,  \"Female Count\": femaleCount})\n",
    "new = new.set_index([\"Drug Regimen\"])\n",
    "print(new)"
   ]
  },
  {
   "cell_type": "code",
   "execution_count": 11,
   "metadata": {},
   "outputs": [
    {
     "data": {
      "text/html": [
       "<div>\n",
       "<style scoped>\n",
       "    .dataframe tbody tr th:only-of-type {\n",
       "        vertical-align: middle;\n",
       "    }\n",
       "\n",
       "    .dataframe tbody tr th {\n",
       "        vertical-align: top;\n",
       "    }\n",
       "\n",
       "    .dataframe thead th {\n",
       "        text-align: right;\n",
       "    }\n",
       "</style>\n",
       "<table border=\"1\" class=\"dataframe\">\n",
       "  <thead>\n",
       "    <tr style=\"text-align: right;\">\n",
       "      <th>Sex</th>\n",
       "      <th>Female</th>\n",
       "      <th>Male</th>\n",
       "    </tr>\n",
       "    <tr>\n",
       "      <th>Drug Regimen</th>\n",
       "      <th></th>\n",
       "      <th></th>\n",
       "    </tr>\n",
       "  </thead>\n",
       "  <tbody>\n",
       "    <tr>\n",
       "      <th>Capomulin</th>\n",
       "      <td>13</td>\n",
       "      <td>12</td>\n",
       "    </tr>\n",
       "    <tr>\n",
       "      <th>Ceftamin</th>\n",
       "      <td>13</td>\n",
       "      <td>12</td>\n",
       "    </tr>\n",
       "    <tr>\n",
       "      <th>Infubinol</th>\n",
       "      <td>12</td>\n",
       "      <td>13</td>\n",
       "    </tr>\n",
       "    <tr>\n",
       "      <th>Ketapril</th>\n",
       "      <td>9</td>\n",
       "      <td>16</td>\n",
       "    </tr>\n",
       "    <tr>\n",
       "      <th>Naftisol</th>\n",
       "      <td>13</td>\n",
       "      <td>12</td>\n",
       "    </tr>\n",
       "    <tr>\n",
       "      <th>Placebo</th>\n",
       "      <td>13</td>\n",
       "      <td>12</td>\n",
       "    </tr>\n",
       "    <tr>\n",
       "      <th>Propriva</th>\n",
       "      <td>12</td>\n",
       "      <td>13</td>\n",
       "    </tr>\n",
       "    <tr>\n",
       "      <th>Ramicane</th>\n",
       "      <td>9</td>\n",
       "      <td>16</td>\n",
       "    </tr>\n",
       "    <tr>\n",
       "      <th>Stelasyn</th>\n",
       "      <td>15</td>\n",
       "      <td>9</td>\n",
       "    </tr>\n",
       "    <tr>\n",
       "      <th>Zoniferol</th>\n",
       "      <td>15</td>\n",
       "      <td>10</td>\n",
       "    </tr>\n",
       "  </tbody>\n",
       "</table>\n",
       "</div>"
      ],
      "text/plain": [
       "Sex           Female  Male\n",
       "Drug Regimen              \n",
       "Capomulin         13    12\n",
       "Ceftamin          13    12\n",
       "Infubinol         12    13\n",
       "Ketapril           9    16\n",
       "Naftisol          13    12\n",
       "Placebo           13    12\n",
       "Propriva          12    13\n",
       "Ramicane           9    16\n",
       "Stelasyn          15     9\n",
       "Zoniferol         15    10"
      ]
     },
     "execution_count": 11,
     "metadata": {},
     "output_type": "execute_result"
    }
   ],
   "source": [
    "df = metaData.groupby(['Drug Regimen', 'Sex']).size()\n",
    "df = df.unstack()\n",
    "df"
   ]
  },
  {
   "cell_type": "markdown",
   "metadata": {
    "deletable": false,
    "editable": false,
    "nbgrader": {
     "cell_type": "markdown",
     "checksum": "827ee539bf2335e673c323ac71ef6603",
     "grade": false,
     "grade_id": "cell-0c1365ae75cd6a55",
     "locked": true,
     "schema_version": 3,
     "solution": false,
     "task": false
    }
   },
   "source": [
    "(c) Use Matplotlib to create a side-by-side bar plot that shows the numbers of males and females under each drug regimen. Make sure to label your plot (label the bar groups with the names of the drugs, create a legend, label the y-axis and title your plot). Use different colors for males (blue) and females (red). Look up how to rotate axis lables (to make all the drug names readable). "
   ]
  },
  {
   "cell_type": "code",
   "execution_count": 27,
   "metadata": {
    "deletable": false,
    "nbgrader": {
     "cell_type": "code",
     "checksum": "6766c6e525a6e38b408af67e096f1961",
     "grade": true,
     "grade_id": "cell-cad4f3f4e7b29187",
     "locked": false,
     "points": 3,
     "schema_version": 3,
     "solution": true,
     "task": false
    }
   },
   "outputs": [
    {
     "data": {
      "image/png": "[encoded data removed]",
      "text/plain": [
       "<Figure size 720x360 with 1 Axes>"
      ]
     },
     "metadata": {
      "needs_background": "light"
     },
     "output_type": "display_data"
    }
   ],
   "source": [
    "# YOUR CODE HERE\n",
    "import matplotlib.pyplot as plt\n",
    "import numpy as np\n",
    "plt.rcParams['figure.figsize'] = [10, 5]\n",
    "\n",
    "maleData = list(new[\"Male Count\"])\n",
    "femaleData = list(new[\"Female Count\"])\n",
    "xPos = np.arange(len(new.index))\n",
    "\n",
    "plt.bar(xPos, maleData, width  = -.35,  align  = 'edge', color = 'b', label = \"Male\")\n",
    "plt.bar(xPos, femaleData,  width = .35, align = 'edge', color = 'r', label = \"Female\")\n",
    "\n",
    "plt.ylabel('Counts')\n",
    "plt.title('Counts by Drug and Sex')\n",
    "plt.xticks(xPos, list(new.index), rotation = 50)\n",
    "plt.legend();"
   ]
  },
  {
   "cell_type": "markdown",
   "metadata": {
    "deletable": false,
    "editable": false,
    "nbgrader": {
     "cell_type": "markdown",
     "checksum": "1dd4cdadcd7dba398df9edc259f71b2b",
     "grade": false,
     "grade_id": "cell-07a874e8274de0f3",
     "locked": true,
     "schema_version": 3,
     "solution": false,
     "task": false
    }
   },
   "source": [
    "(d) Use Pandas to find the average tumor size for each drug regiment, separately at each time-point. Store your results in a Pandas data frame with time point as the index and ten columns (one column per drug regimen). Display your resulting data frame using a print statement. \n",
    "\n",
    "**Hint:** Recall, that ```unstack()``` is the opposite of the ```melt()``` procedure. Read up on details in either your text or on the Python documentation website. "
   ]
  },
  {
   "cell_type": "code",
   "execution_count": 5,
   "metadata": {
    "deletable": false,
    "nbgrader": {
     "cell_type": "code",
     "checksum": "9fb422294bbd2f8794537467bb8ea82c",
     "grade": true,
     "grade_id": "cell-6d97fc8215a3cbf3",
     "locked": false,
     "points": 2,
     "schema_version": 3,
     "solution": true,
     "task": false
    }
   },
   "outputs": [
    {
     "name": "stdout",
     "output_type": "stream",
     "text": [
      "             Average Tumor Volume                                              \\\n",
      "Drug Regimen            Capomulin   Ceftamin  Infubinol   Ketapril   Naftisol   \n",
      "Timepoint                                                                       \n",
      "0                       45.000000  45.000000  45.000000  45.000000  45.000000   \n",
      "5                       44.266086  46.503051  46.541247  47.389175  46.796098   \n",
      "10                      43.084291  48.285125  49.403909  49.582269  48.694210   \n",
      "15                      42.064317  50.094055  51.296397  52.399974  50.933018   \n",
      "20                      40.716325  52.157049  53.197691  54.920935  53.644087   \n",
      "25                      39.939528  54.287674  55.715252  57.678982  56.731968   \n",
      "30                      38.769339  56.769517  58.299397  60.994507  59.559509   \n",
      "35                      37.816839  58.827548  60.742461  63.371686  62.685087   \n",
      "40                      36.958001  61.467895  63.162824  66.068580  65.600754   \n",
      "45                      36.236114  64.132421  65.755562  70.662958  69.265506   \n",
      "\n",
      "                                                                     \n",
      "Drug Regimen    Placebo   Propriva   Ramicane   Stelasyn  Zoniferol  \n",
      "Timepoint                                                            \n",
      "0             45.000000  45.000000  45.000000  45.000000  45.000000  \n",
      "5             47.125589  47.235574  43.944859  47.470830  46.851818  \n",
      "10            49.423329  49.066132  42.531957  49.335368  48.689881  \n",
      "15            51.359742  51.043900  41.495061  51.448025  50.779059  \n",
      "20            54.364417  53.264805  40.238325  53.970080  53.170334  \n",
      "25            57.482574  55.504138  38.974300  56.172821  55.432935  \n",
      "30            59.809063  58.196374  38.703137  59.870528  57.713531  \n",
      "35            62.420615  60.103457  37.451996  62.432021  60.089372  \n",
      "40            65.052675  63.045537  36.574081  65.356386  62.916692  \n",
      "45            68.084082  66.258529  34.955595  68.438310  65.960888  \n"
     ]
    },
    {
     "name": "stderr",
     "output_type": "stream",
     "text": [
      "/var/folders/fc/97_w0wn53dd0skbf332p6dd00000gn/T/ipykernel_79496/3551954187.py:12: PerformanceWarning: indexing past lexsort depth may impact performance.\n",
      "  vals.append(comb.loc[key,key2][\"Tumor Volume (mm3)\"].mean())\n"
     ]
    }
   ],
   "source": [
    "# YOUR CODE HERE\n",
    "comb = pd.merge(studyData, metaData, on = \"Mouse ID\")\n",
    "comb = comb.set_index(['Drug Regimen', 'Timepoint'])\n",
    "\n",
    "drug = []\n",
    "time = []\n",
    "vals = []\n",
    "for key,val in comb.groupby(level = 0):\n",
    "    for key2,val2 in comb.groupby(level = 1):\n",
    "        drug.append(key)\n",
    "        time.append(key2)\n",
    "        vals.append(comb.loc[key,key2][\"Tumor Volume (mm3)\"].mean())\n",
    "\n",
    "fin = pd.DataFrame({'Drug Regimen':drug, 'Timepoint':time, \"Average Tumor Volume\": vals})\n",
    "fin = fin.set_index(['Drug Regimen','Timepoint'])\n",
    "fin = fin.unstack(level = 0)\n",
    "print(fin)"
   ]
  },
  {
   "cell_type": "code",
   "execution_count": 24,
   "metadata": {},
   "outputs": [
    {
     "data": {
      "text/html": [
       "<div>\n",
       "<style scoped>\n",
       "    .dataframe tbody tr th:only-of-type {\n",
       "        vertical-align: middle;\n",
       "    }\n",
       "\n",
       "    .dataframe tbody tr th {\n",
       "        vertical-align: top;\n",
       "    }\n",
       "\n",
       "    .dataframe thead th {\n",
       "        text-align: right;\n",
       "    }\n",
       "</style>\n",
       "<table border=\"1\" class=\"dataframe\">\n",
       "  <thead>\n",
       "    <tr style=\"text-align: right;\">\n",
       "      <th>Drug Regimen</th>\n",
       "      <th>Capomulin</th>\n",
       "      <th>Ceftamin</th>\n",
       "      <th>Infubinol</th>\n",
       "      <th>Ketapril</th>\n",
       "      <th>Naftisol</th>\n",
       "      <th>Placebo</th>\n",
       "      <th>Propriva</th>\n",
       "      <th>Ramicane</th>\n",
       "      <th>Stelasyn</th>\n",
       "      <th>Zoniferol</th>\n",
       "    </tr>\n",
       "    <tr>\n",
       "      <th>Timepoint</th>\n",
       "      <th></th>\n",
       "      <th></th>\n",
       "      <th></th>\n",
       "      <th></th>\n",
       "      <th></th>\n",
       "      <th></th>\n",
       "      <th></th>\n",
       "      <th></th>\n",
       "      <th></th>\n",
       "      <th></th>\n",
       "    </tr>\n",
       "  </thead>\n",
       "  <tbody>\n",
       "    <tr>\n",
       "      <th>0</th>\n",
       "      <td>45.000000</td>\n",
       "      <td>45.000000</td>\n",
       "      <td>45.000000</td>\n",
       "      <td>45.000000</td>\n",
       "      <td>45.000000</td>\n",
       "      <td>45.000000</td>\n",
       "      <td>45.000000</td>\n",
       "      <td>45.000000</td>\n",
       "      <td>45.000000</td>\n",
       "      <td>45.000000</td>\n",
       "    </tr>\n",
       "    <tr>\n",
       "      <th>5</th>\n",
       "      <td>44.266086</td>\n",
       "      <td>46.503051</td>\n",
       "      <td>46.541247</td>\n",
       "      <td>47.389175</td>\n",
       "      <td>46.796098</td>\n",
       "      <td>47.125589</td>\n",
       "      <td>47.235574</td>\n",
       "      <td>43.944859</td>\n",
       "      <td>47.470830</td>\n",
       "      <td>46.851818</td>\n",
       "    </tr>\n",
       "    <tr>\n",
       "      <th>10</th>\n",
       "      <td>43.084291</td>\n",
       "      <td>48.285125</td>\n",
       "      <td>49.403909</td>\n",
       "      <td>49.582269</td>\n",
       "      <td>48.694210</td>\n",
       "      <td>49.423329</td>\n",
       "      <td>49.066132</td>\n",
       "      <td>42.531957</td>\n",
       "      <td>49.335368</td>\n",
       "      <td>48.689881</td>\n",
       "    </tr>\n",
       "    <tr>\n",
       "      <th>15</th>\n",
       "      <td>42.064317</td>\n",
       "      <td>50.094055</td>\n",
       "      <td>51.296397</td>\n",
       "      <td>52.399974</td>\n",
       "      <td>50.933018</td>\n",
       "      <td>51.359742</td>\n",
       "      <td>51.043900</td>\n",
       "      <td>41.495061</td>\n",
       "      <td>51.448025</td>\n",
       "      <td>50.779059</td>\n",
       "    </tr>\n",
       "    <tr>\n",
       "      <th>20</th>\n",
       "      <td>40.716325</td>\n",
       "      <td>52.157049</td>\n",
       "      <td>53.197691</td>\n",
       "      <td>54.920935</td>\n",
       "      <td>53.644087</td>\n",
       "      <td>54.364417</td>\n",
       "      <td>53.264805</td>\n",
       "      <td>40.238325</td>\n",
       "      <td>53.970080</td>\n",
       "      <td>53.170334</td>\n",
       "    </tr>\n",
       "    <tr>\n",
       "      <th>25</th>\n",
       "      <td>39.939528</td>\n",
       "      <td>54.287674</td>\n",
       "      <td>55.715252</td>\n",
       "      <td>57.678982</td>\n",
       "      <td>56.731968</td>\n",
       "      <td>57.482574</td>\n",
       "      <td>55.504138</td>\n",
       "      <td>38.974300</td>\n",
       "      <td>56.172821</td>\n",
       "      <td>55.432935</td>\n",
       "    </tr>\n",
       "    <tr>\n",
       "      <th>30</th>\n",
       "      <td>38.769339</td>\n",
       "      <td>56.769517</td>\n",
       "      <td>58.299397</td>\n",
       "      <td>60.994507</td>\n",
       "      <td>59.559509</td>\n",
       "      <td>59.809063</td>\n",
       "      <td>58.196374</td>\n",
       "      <td>38.703137</td>\n",
       "      <td>59.870528</td>\n",
       "      <td>57.713531</td>\n",
       "    </tr>\n",
       "    <tr>\n",
       "      <th>35</th>\n",
       "      <td>37.816839</td>\n",
       "      <td>58.827548</td>\n",
       "      <td>60.742461</td>\n",
       "      <td>63.371686</td>\n",
       "      <td>62.685087</td>\n",
       "      <td>62.420615</td>\n",
       "      <td>60.103457</td>\n",
       "      <td>37.451996</td>\n",
       "      <td>62.432021</td>\n",
       "      <td>60.089372</td>\n",
       "    </tr>\n",
       "    <tr>\n",
       "      <th>40</th>\n",
       "      <td>36.958001</td>\n",
       "      <td>61.467895</td>\n",
       "      <td>63.162824</td>\n",
       "      <td>66.068580</td>\n",
       "      <td>65.600754</td>\n",
       "      <td>65.052675</td>\n",
       "      <td>63.045537</td>\n",
       "      <td>36.574081</td>\n",
       "      <td>65.356386</td>\n",
       "      <td>62.916692</td>\n",
       "    </tr>\n",
       "    <tr>\n",
       "      <th>45</th>\n",
       "      <td>36.236114</td>\n",
       "      <td>64.132421</td>\n",
       "      <td>65.755562</td>\n",
       "      <td>70.662958</td>\n",
       "      <td>69.265506</td>\n",
       "      <td>68.084082</td>\n",
       "      <td>66.258529</td>\n",
       "      <td>34.955595</td>\n",
       "      <td>68.438310</td>\n",
       "      <td>65.960888</td>\n",
       "    </tr>\n",
       "  </tbody>\n",
       "</table>\n",
       "</div>"
      ],
      "text/plain": [
       "Drug Regimen  Capomulin   Ceftamin  Infubinol   Ketapril   Naftisol  \\\n",
       "Timepoint                                                             \n",
       "0             45.000000  45.000000  45.000000  45.000000  45.000000   \n",
       "5             44.266086  46.503051  46.541247  47.389175  46.796098   \n",
       "10            43.084291  48.285125  49.403909  49.582269  48.694210   \n",
       "15            42.064317  50.094055  51.296397  52.399974  50.933018   \n",
       "20            40.716325  52.157049  53.197691  54.920935  53.644087   \n",
       "25            39.939528  54.287674  55.715252  57.678982  56.731968   \n",
       "30            38.769339  56.769517  58.299397  60.994507  59.559509   \n",
       "35            37.816839  58.827548  60.742461  63.371686  62.685087   \n",
       "40            36.958001  61.467895  63.162824  66.068580  65.600754   \n",
       "45            36.236114  64.132421  65.755562  70.662958  69.265506   \n",
       "\n",
       "Drug Regimen    Placebo   Propriva   Ramicane   Stelasyn  Zoniferol  \n",
       "Timepoint                                                            \n",
       "0             45.000000  45.000000  45.000000  45.000000  45.000000  \n",
       "5             47.125589  47.235574  43.944859  47.470830  46.851818  \n",
       "10            49.423329  49.066132  42.531957  49.335368  48.689881  \n",
       "15            51.359742  51.043900  41.495061  51.448025  50.779059  \n",
       "20            54.364417  53.264805  40.238325  53.970080  53.170334  \n",
       "25            57.482574  55.504138  38.974300  56.172821  55.432935  \n",
       "30            59.809063  58.196374  38.703137  59.870528  57.713531  \n",
       "35            62.420615  60.103457  37.451996  62.432021  60.089372  \n",
       "40            65.052675  63.045537  36.574081  65.356386  62.916692  \n",
       "45            68.084082  66.258529  34.955595  68.438310  65.960888  "
      ]
     },
     "execution_count": 24,
     "metadata": {},
     "output_type": "execute_result"
    }
   ],
   "source": [
    "combined_data = pd.merge(metaData, studyData, on = \"Mouse ID\")\n",
    "combined_data.head()\n",
    "\n",
    "df2 = combined_data.groupby(['Timepoint', 'Drug Regimen'])['Tumor Volume (mm3)'].mean()\n",
    "df2 = df2.unstack(-1)\n",
    "df2"
   ]
  },
  {
   "cell_type": "markdown",
   "metadata": {
    "deletable": false,
    "editable": false,
    "nbgrader": {
     "cell_type": "markdown",
     "checksum": "899e67da6e36c49a42fb417227ac7f12",
     "grade": false,
     "grade_id": "cell-3eeae9b0741e35e7",
     "locked": true,
     "schema_version": 3,
     "solution": false,
     "task": false
    }
   },
   "source": [
    "(e) Use Matplotlib to create a line-graph of the average tumor size as a function of time for each drug regimen. Include all ten drugs in the same plot and use different colors for different drugs. Make sure to label your plot (include x- and y-axis labels, title, legend for which curve belongs to which drug). Please place the legend outside the plot (you should look up how to do this)."
   ]
  },
  {
   "cell_type": "code",
   "execution_count": 6,
   "metadata": {
    "deletable": false,
    "nbgrader": {
     "cell_type": "code",
     "checksum": "012167ec8f306bea55608405618ca953",
     "grade": true,
     "grade_id": "cell-07af4dc972c475c7",
     "locked": false,
     "points": 2,
     "schema_version": 3,
     "solution": true,
     "task": false
    }
   },
   "outputs": [
    {
     "data": {
      "image/png": "[encoded data removed]",
      "text/plain": [
       "<Figure size 720x360 with 1 Axes>"
      ]
     },
     "metadata": {
      "needs_background": "light"
     },
     "output_type": "display_data"
    }
   ],
   "source": [
    "# YOUR CODE HERE\n",
    "names = fin.columns.get_level_values(1)\n",
    "for i in names:\n",
    "    plt.plot(list(fin.index),fin['Average Tumor Volume'][i], label = i)\n",
    "plt.ylabel('Tumor Volume (mm3)')\n",
    "plt.xlabel(\"Time (Days)\")\n",
    "plt.title('Average Tumor Volume over Time')\n",
    "plt.legend(bbox_to_anchor=(1.2,1), loc=\"upper right\");"
   ]
  },
  {
   "cell_type": "markdown",
   "metadata": {
    "deletable": false,
    "editable": false,
    "nbgrader": {
     "cell_type": "markdown",
     "checksum": "60a2e94af023d30b461c8b9eb97f1e6b",
     "grade": false,
     "grade_id": "cell-f3d9a1a3ad7c7633",
     "locked": true,
     "schema_version": 3,
     "solution": false,
     "task": false
    }
   },
   "source": [
    "(f) Use Pandas to create a Data Frame that has one row per mouse, index values should be Mouse IDs, and has exactly the following columns: \"Weight\" (initial mouse weight in grams), \"Sex\", \"Age\" (of mouse at the beginning of trial in months), \"Tumor\" (tumor volume on day 45 - include only mice who lived until day 45), \"Drug Regimen\". Display your resulting data frame using a print statement. "
   ]
  },
  {
   "cell_type": "code",
   "execution_count": 7,
   "metadata": {
    "deletable": false,
    "nbgrader": {
     "cell_type": "code",
     "checksum": "d67492252af7ebc87b7599365c747d54",
     "grade": true,
     "grade_id": "cell-1dc3caf86d2dba85",
     "locked": false,
     "points": 3,
     "schema_version": 3,
     "solution": true,
     "task": false
    }
   },
   "outputs": [
    {
     "name": "stdout",
     "output_type": "stream",
     "text": [
      "         Weight (g)     Sex  Age_months  Tumor Volume (mm3) at 45 days\n",
      "Mice ID                                                               \n",
      "j365             28    Male          24                      64.294085\n",
      "y865             26    Male          23                      64.729837\n",
      "n304             26    Male           9                      63.586395\n",
      "z578             16    Male          11                      30.638696\n",
      "t198             26    Male          22                      64.911363\n",
      "...             ...     ...         ...                            ...\n",
      "x402             28    Male          21                      61.619606\n",
      "u196             25    Male          18                      40.667713\n",
      "s508             17    Male           1                      30.276232\n",
      "g316             22  Female          22                      40.159220\n",
      "w350             26    Male           7                      64.957562\n",
      "\n",
      "[130 rows x 4 columns]\n"
     ]
    }
   ],
   "source": [
    "# YOUR CODE HERE\n",
    "both = pd.merge(studyData, metaData, on = \"Mouse ID\")\n",
    "both = both.set_index([\"Timepoint\",\"Mouse ID\"])\n",
    "\n",
    "miceID = list(set(both.loc[45].index))\n",
    "w = []\n",
    "s = []\n",
    "a = []\n",
    "t = []\n",
    "treatment = []\n",
    "\n",
    "for m in miceID:\n",
    "    w.append(both.loc[45].loc[m][\"Weight (g)\"])\n",
    "    s.append(both.loc[45].loc[m][\"Sex\"])\n",
    "    a.append(both.loc[45].loc[m][\"Age_months\"])\n",
    "    t.append(both.loc[45].loc[m][\"Tumor Volume (mm3)\"])\n",
    "    treatment.append(both.loc[45].loc[m]['Drug Regimen'])\n",
    "    \n",
    "done = pd.DataFrame({\"Mice ID\" : miceID, \"Weight (g)\" : w, \"Sex\":s, \"Age_months\":a, \"Tumor Volume (mm3) at 45 days\" : t})\n",
    "done = done.set_index(\"Mice ID\")\n",
    "print(done)"
   ]
  },
  {
   "cell_type": "code",
   "execution_count": 25,
   "metadata": {},
   "outputs": [
    {
     "data": {
      "text/html": [
       "<div>\n",
       "<style scoped>\n",
       "    .dataframe tbody tr th:only-of-type {\n",
       "        vertical-align: middle;\n",
       "    }\n",
       "\n",
       "    .dataframe tbody tr th {\n",
       "        vertical-align: top;\n",
       "    }\n",
       "\n",
       "    .dataframe thead th {\n",
       "        text-align: right;\n",
       "    }\n",
       "</style>\n",
       "<table border=\"1\" class=\"dataframe\">\n",
       "  <thead>\n",
       "    <tr style=\"text-align: right;\">\n",
       "      <th></th>\n",
       "      <th>Weight (g)</th>\n",
       "      <th>Sex</th>\n",
       "      <th>Age_months</th>\n",
       "      <th>Tumor Volume (mm3)</th>\n",
       "      <th>Drug Regimen</th>\n",
       "    </tr>\n",
       "    <tr>\n",
       "      <th>Mouse ID</th>\n",
       "      <th></th>\n",
       "      <th></th>\n",
       "      <th></th>\n",
       "      <th></th>\n",
       "      <th></th>\n",
       "    </tr>\n",
       "  </thead>\n",
       "  <tbody>\n",
       "    <tr>\n",
       "      <th>s185</th>\n",
       "      <td>17</td>\n",
       "      <td>Female</td>\n",
       "      <td>3</td>\n",
       "      <td>23.343598</td>\n",
       "      <td>Capomulin</td>\n",
       "    </tr>\n",
       "    <tr>\n",
       "      <th>x401</th>\n",
       "      <td>15</td>\n",
       "      <td>Female</td>\n",
       "      <td>16</td>\n",
       "      <td>28.484033</td>\n",
       "      <td>Capomulin</td>\n",
       "    </tr>\n",
       "    <tr>\n",
       "      <th>m601</th>\n",
       "      <td>17</td>\n",
       "      <td>Male</td>\n",
       "      <td>22</td>\n",
       "      <td>28.430964</td>\n",
       "      <td>Capomulin</td>\n",
       "    </tr>\n",
       "    <tr>\n",
       "      <th>u364</th>\n",
       "      <td>17</td>\n",
       "      <td>Male</td>\n",
       "      <td>18</td>\n",
       "      <td>31.023923</td>\n",
       "      <td>Capomulin</td>\n",
       "    </tr>\n",
       "    <tr>\n",
       "      <th>y793</th>\n",
       "      <td>17</td>\n",
       "      <td>Male</td>\n",
       "      <td>17</td>\n",
       "      <td>31.896238</td>\n",
       "      <td>Capomulin</td>\n",
       "    </tr>\n",
       "    <tr>\n",
       "      <th>...</th>\n",
       "      <td>...</td>\n",
       "      <td>...</td>\n",
       "      <td>...</td>\n",
       "      <td>...</td>\n",
       "      <td>...</td>\n",
       "    </tr>\n",
       "    <tr>\n",
       "      <th>p136</th>\n",
       "      <td>28</td>\n",
       "      <td>Female</td>\n",
       "      <td>5</td>\n",
       "      <td>63.488697</td>\n",
       "      <td>Zoniferol</td>\n",
       "    </tr>\n",
       "    <tr>\n",
       "      <th>q511</th>\n",
       "      <td>28</td>\n",
       "      <td>Female</td>\n",
       "      <td>2</td>\n",
       "      <td>68.611061</td>\n",
       "      <td>Zoniferol</td>\n",
       "    </tr>\n",
       "    <tr>\n",
       "      <th>q633</th>\n",
       "      <td>25</td>\n",
       "      <td>Male</td>\n",
       "      <td>12</td>\n",
       "      <td>70.827796</td>\n",
       "      <td>Zoniferol</td>\n",
       "    </tr>\n",
       "    <tr>\n",
       "      <th>s337</th>\n",
       "      <td>27</td>\n",
       "      <td>Male</td>\n",
       "      <td>14</td>\n",
       "      <td>62.109651</td>\n",
       "      <td>Zoniferol</td>\n",
       "    </tr>\n",
       "    <tr>\n",
       "      <th>w575</th>\n",
       "      <td>28</td>\n",
       "      <td>Female</td>\n",
       "      <td>16</td>\n",
       "      <td>68.401286</td>\n",
       "      <td>Zoniferol</td>\n",
       "    </tr>\n",
       "  </tbody>\n",
       "</table>\n",
       "<p>130 rows × 5 columns</p>\n",
       "</div>"
      ],
      "text/plain": [
       "          Weight (g)     Sex  Age_months  Tumor Volume (mm3) Drug Regimen\n",
       "Mouse ID                                                                 \n",
       "s185              17  Female           3           23.343598    Capomulin\n",
       "x401              15  Female          16           28.484033    Capomulin\n",
       "m601              17    Male          22           28.430964    Capomulin\n",
       "u364              17    Male          18           31.023923    Capomulin\n",
       "y793              17    Male          17           31.896238    Capomulin\n",
       "...              ...     ...         ...                 ...          ...\n",
       "p136              28  Female           5           63.488697    Zoniferol\n",
       "q511              28  Female           2           68.611061    Zoniferol\n",
       "q633              25    Male          12           70.827796    Zoniferol\n",
       "s337              27    Male          14           62.109651    Zoniferol\n",
       "w575              28  Female          16           68.401286    Zoniferol\n",
       "\n",
       "[130 rows x 5 columns]"
      ]
     },
     "execution_count": 25,
     "metadata": {},
     "output_type": "execute_result"
    }
   ],
   "source": [
    "df3 = combined_data[combined_data.Timepoint==0]\n",
    "del df3['Metastatic Sites']\n",
    "del df3['Timepoint']\n",
    "del df3['Tumor Volume (mm3)']\n",
    "\n",
    "final_data = combined_data[combined_data.Timepoint == 45]\n",
    "final_size = final_data[['Mouse ID', 'Tumor Volume (mm3)']]\n",
    "\n",
    "df4 = pd.merge(final_size, df3, on = 'Mouse ID')\n",
    "df4.set_index(['Mouse ID'], inplace = True)\n",
    "df4 = df4[['Weight (g)', 'Sex', 'Age_months','Tumor Volume (mm3)','Drug Regimen']]\n",
    "df4"
   ]
  },
  {
   "cell_type": "markdown",
   "metadata": {
    "deletable": false,
    "editable": false,
    "nbgrader": {
     "cell_type": "markdown",
     "checksum": "ab9c224414bb91105c8cd63e87330c36",
     "grade": false,
     "grade_id": "cell-fc14ac6ce0c63059",
     "locked": true,
     "schema_version": 3,
     "solution": false,
     "task": false
    }
   },
   "source": [
    "(g) Use Matplotlib to create a scatterplot of final tumor size on day 45 against initial mouse weight for the mice who survived until day 45. Use different colors for different drug treatments. Make sure to label your plot (include x- and y-axis labels, title, and a legend for which color belongs to which drug). Please place the legend outside the plot. "
   ]
  },
  {
   "cell_type": "code",
   "execution_count": 8,
   "metadata": {
    "deletable": false,
    "nbgrader": {
     "cell_type": "code",
     "checksum": "e0a5e825f6104a3c40952bd850f417f2",
     "grade": true,
     "grade_id": "cell-455b0cfddd312c83",
     "locked": false,
     "points": 3,
     "schema_version": 3,
     "solution": true,
     "task": false
    }
   },
   "outputs": [
    {
     "name": "stderr",
     "output_type": "stream",
     "text": [
      "No handles with labels found to put in legend.\n"
     ]
    },
    {
     "data": {
      "image/png": "[encoded data removed]",
      "text/plain": [
       "<Figure size 720x360 with 1 Axes>"
      ]
     },
     "metadata": {
      "needs_background": "light"
     },
     "output_type": "display_data"
    }
   ],
   "source": [
    "# YOUR CODE HERE\n",
    "done['Drug Regimen'] = treatment\n",
    "plt.scatter(list(done[\"Weight (g)\"]),list(done[\"Tumor Volume (mm3) at 45 days\"]))\n",
    "plt.legend();\n"
   ]
  },
  {
   "cell_type": "code",
   "execution_count": 28,
   "metadata": {},
   "outputs": [
    {
     "data": {
      "image/png": "[encoded data removed]",
      "text/plain": [
       "<Figure size 720x360 with 1 Axes>"
      ]
     },
     "metadata": {
      "needs_background": "light"
     },
     "output_type": "display_data"
    }
   ],
   "source": [
    "#fig = plt.figure()\n",
    "\n",
    "for drug in list(set(df4['Drug Regimen'])):\n",
    "    temp_df = df4[df4['Drug Regimen']== drug]\n",
    "    plt.scatter(temp_df['Weight (g)'], temp_df['Tumor Volume (mm3)'], alpha=0.5, label = drug)  \n",
    "\n",
    "plt.ylabel('Tumor Volume (in mm3)')\n",
    "plt.xlabel('Weight (in g)')\n",
    "plt.title('Tumor Volume by initial mouse weight and Drug Regimen')\n",
    "plt.legend(loc='upper left', bbox_to_anchor=(1.05, 1.));\n",
    "\n",
    "#fig.savefig(\"HW7_Scatterplot.png\", bbox_inches = 'tight'"
   ]
  },
  {
   "cell_type": "markdown",
   "metadata": {
    "deletable": false,
    "editable": false,
    "nbgrader": {
     "cell_type": "markdown",
     "checksum": "7420d544610c2b2a4b391b0d03c6a9e2",
     "grade": false,
     "grade_id": "cell-b30ee8f87c13fe1b",
     "locked": true,
     "schema_version": 3,
     "solution": false,
     "task": false
    }
   },
   "source": [
    "(h) Comment on what you see in the plot you just created. Do the mice seem to have been randomly assigned to the treatments? "
   ]
  },
  {
   "cell_type": "markdown",
   "metadata": {
    "deletable": false,
    "nbgrader": {
     "cell_type": "markdown",
     "checksum": "23ef42fe0758288017d0e4b58b5dcc8d",
     "grade": true,
     "grade_id": "cell-cf8aa5dcb55383cc",
     "locked": false,
     "points": 1,
     "schema_version": 3,
     "solution": true,
     "task": false
    }
   },
   "source": [
    "***Using the Example graph as I did not get the color coding to work***\n",
    "\n",
    "It appears that the mice were not randomly assigned to the groups. We can see this becasue like colors are grouped close to each other. This makes it seem like groups were assigned by weight."
   ]
  },
  {
   "cell_type": "markdown",
   "metadata": {
    "deletable": false,
    "editable": false,
    "nbgrader": {
     "cell_type": "markdown",
     "checksum": "532eb9c02a571aefde861f68eeec4e2a",
     "grade": false,
     "grade_id": "cell-ad1810f77b3e351f",
     "locked": true,
     "schema_version": 3,
     "solution": false,
     "task": false
    }
   },
   "source": [
    "(i) Create a side-by-side boxplot for initial mouse weight across drug regimens. Order the drugs, so that the boxplots for the drugs \"Capomulin\" and \"Ramicane\" appear on the left. \n",
    "\n",
    "**Note:** Look at the [matplotlib gallery](https://matplotlib.org/stable/gallery/index.html) and scroll down to the \"Statistics\" section to understand how to create a side-by-side boxplot. \n",
    "\n",
    "**Hint:** start with a list of lists of values you want to plot. "
   ]
  },
  {
   "cell_type": "code",
   "execution_count": 9,
   "metadata": {
    "deletable": false,
    "nbgrader": {
     "cell_type": "code",
     "checksum": "61b5948e8a82d204c7cc52232b86d449",
     "grade": true,
     "grade_id": "cell-e52f32eb9f1cc065",
     "locked": false,
     "points": 3,
     "schema_version": 3,
     "solution": true,
     "task": false
    }
   },
   "outputs": [
    {
     "ename": "NotImplementedError",
     "evalue": "",
     "output_type": "error",
     "traceback": [
      "\u001b[0;31m---------------------------------------------------------------------------\u001b[0m",
      "\u001b[0;31mNotImplementedError\u001b[0m                       Traceback (most recent call last)",
      "\u001b[0;32m/var/folders/fc/97_w0wn53dd0skbf332p6dd00000gn/T/ipykernel_79496/1067236896.py\u001b[0m in \u001b[0;36m<module>\u001b[0;34m\u001b[0m\n\u001b[1;32m      1\u001b[0m \u001b[0;31m# YOUR CODE HERE\u001b[0m\u001b[0;34m\u001b[0m\u001b[0;34m\u001b[0m\u001b[0m\n\u001b[0;32m----> 2\u001b[0;31m \u001b[0;32mraise\u001b[0m \u001b[0mNotImplementedError\u001b[0m\u001b[0;34m(\u001b[0m\u001b[0;34m)\u001b[0m\u001b[0;34m\u001b[0m\u001b[0;34m\u001b[0m\u001b[0m\n\u001b[0m",
      "\u001b[0;31mNotImplementedError\u001b[0m: "
     ]
    }
   ],
   "source": [
    "# YOUR CODE HERE\n",
    "raise NotImplementedError()"
   ]
  },
  {
   "cell_type": "code",
   "execution_count": 35,
   "metadata": {},
   "outputs": [
    {
     "data": {
      "image/png": "[encoded data removed]",
      "text/plain": [
       "<Figure size 720x360 with 1 Axes>"
      ]
     },
     "metadata": {
      "needs_background": "light"
     },
     "output_type": "display_data"
    }
   ],
   "source": [
    "# we want data in form of a list of lists (one list for each drug)! \n",
    "# Note, that the lists are not of the same size, so stacking them into one data frame is not a good idea. \n",
    "\n",
    "df5 = combined_data[combined_data.Timepoint==0]\n",
    "#print(df5)\n",
    "data = []\n",
    "data.append(list(df5[df5['Drug Regimen']=='Capomulin']['Weight (g)']))\n",
    "data.append(list(df5[df5['Drug Regimen']=='Ramicane']['Weight (g)']))\n",
    "#print(data)\n",
    "for drug in list(set(df5['Drug Regimen'])^{'Capomulin', 'Ramicane'}):\n",
    "    data.append(list(df5[df5['Drug Regimen']==drug]['Weight (g)']))\n",
    "#print(list(set(df5['Drug Regimen'])^{'Capomulin', 'Ramicane'}))\n",
    "#fig = plt.figure()\n",
    "    \n",
    "plt.boxplot(data)\n",
    "plt.xticks(range(1,11), ['Capomulin', 'Ramicane']+list(set(df5['Drug Regimen'])^{'Capomulin', 'Ramicane'}), rotation = 90);\n",
    "\n",
    "#fig.savefig(\"HW7_Boxplot.png\", bbox_inches = 'tight')"
   ]
  }
 ],
 "metadata": {
  "kernelspec": {
   "display_name": "Python 3 (ipykernel)",
   "language": "python",
   "name": "python3"
  },
  "language_info": {
   "codemirror_mode": {
    "name": "ipython",
    "version": 3
   },
   "file_extension": ".py",
   "mimetype": "text/x-python",
   "name": "python",
   "nbconvert_exporter": "python",
   "pygments_lexer": "ipython3",
   "version": "3.9.7"
  }
 },
 "nbformat": 4,
 "nbformat_minor": 2
}
