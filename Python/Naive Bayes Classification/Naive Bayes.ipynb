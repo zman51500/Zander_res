{
 "cells": [
  {
   "cell_type": "markdown",
   "id": "0aace6ca",
   "metadata": {},
   "source": [
    "## <Center> Classification with Naive Bayes\n",
    "    \n",
    "<Center><author> Zander Bonnet\n",
    "    \n",
    "<center><Date> Aug 21, 2024"
   ]
  },
  {
   "cell_type": "markdown",
   "id": "0462a9b0",
   "metadata": {},
   "source": [
    "I selected the Recipe Reviews and User Feedback dataset from the UCI machine learning repository. This dataset is a repository of user responses to recipes. It is ethically sourced as all the data comes from voluntary responses.\n",
    "\n",
    "The data set contains a variety of factors, but we will only use two for this project. The two that we will use are the number of stars a recipe is given, and the text review that they leave.\n",
    "\n",
    "By applying Naive Bayes I hope to use the verbiage of one's review to predict the number of stars that they gave the recipe. The algorithm can do this by taking the unique words in all of the responses and calculating the probability that the word will show up in a specific category of reviews. The algorithm can then calculate the probability that a specific response is in one group or another and choose the most probable outcome. The major fault of this algorithm is that it assumes that all the input values are independent, when in reality that is probably not the case."
   ]
  },
  {
   "cell_type": "code",
   "execution_count": 1,
   "id": "10bbbfb1",
   "metadata": {},
   "outputs": [],
   "source": [
    "import pandas as pd\n",
    "import numpy as np\n",
    "import matplotlib.pyplot as plt\n",
    "import seaborn as sns\n",
    "\n",
    "from sklearn.model_selection import train_test_split, KFold, StratifiedKFold, cross_val_score\n",
    "from sklearn.naive_bayes import GaussianNB, BernoulliNB, MultinomialNB\n",
    "from sklearn.metrics import ConfusionMatrixDisplay, confusion_matrix, accuracy_score, roc_curve, auc\n",
    "from sklearn.pipeline import make_pipeline\n",
    "from sklearn.feature_extraction import text\n",
    "\n",
    "import nltk\n",
    "from nltk.stem.porter import *\n",
    "from nltk.corpus import stopwords\n",
    "\n",
    "import warnings\n",
    "warnings.filterwarnings('ignore')"
   ]
  },
  {
   "cell_type": "code",
   "execution_count": 2,
   "id": "8407403d",
   "metadata": {},
   "outputs": [
    {
     "name": "stdout",
     "output_type": "stream",
     "text": [
      "{'uci_id': 911, 'name': 'Recipe Reviews and User Feedback', 'repository_url': 'https://archive.ics.uci.edu/dataset/911/recipe+reviews+and+user+feedback+dataset', 'data_url': 'https://archive.ics.uci.edu/static/public/911/data.csv', 'abstract': 'The \"Recipe Reviews and User Feedback Dataset\" is a comprehensive repository of data encompassing various aspects of recipe reviews and user interactions. It includes essential information such as the recipe name, its ranking on the top 100 recipes list, a unique recipe code, and user details like user ID, user name, and an internal user reputation score.\\n\\nEach review comment is uniquely identified with a comment ID and comes with additional attributes, including the creation timestamp, reply count, and the number of up-votes and down-votes received. Users\\' sentiment towards recipes is quantified on a 1 to 5 star rating scale, with a score of 0 denoting an absence of rating.\\n\\nThis dataset is a valuable resource for researchers and data scientists, facilitating endeavors in sentiment analysis, user behavior analysis, recipe recommendation systems, and more. It offers a window into the dynamics of recipe reviews and user feedback within the culinary website domain.', 'area': 'Computer Science', 'tasks': ['Classification', 'Other'], 'characteristics': ['Tabular', 'Other'], 'num_instances': 18182, 'num_features': 15, 'feature_types': ['Real', 'Categorical', 'Integer'], 'demographics': [], 'target_col': None, 'index_col': None, 'has_missing_values': 'yes', 'missing_values_symbol': 'NaN', 'year_of_dataset_creation': 2023, 'last_updated': 'Fri Mar 08 2024', 'dataset_doi': '10.24432/C5FG95', 'creators': ['Amir Ali', 'Stanislaw  Matuszewski', 'Jacek Czupyt'], 'intro_paper': {'title': 'Textual Taste Buds: A Profound Exploration of Emotion Identification in Food Recipes through BERT and AttBiRNN Models', 'authors': 'Amir Ali, Stanislaw Matuszewski, Jacek Czupyt, Usman Ahmad', 'published_in': 'International Journal of Novel Research and Development', 'year': 2023, 'url': 'https://www.ijnrd.org/papers/IJNRD2310077.pdf', 'doi': None}, 'additional_info': {'summary': None, 'purpose': None, 'funded_by': None, 'instances_represent': None, 'recommended_data_splits': None, 'sensitive_data': None, 'preprocessing_description': None, 'variable_info': '1. recipe name: {name of the recipe the comment was posted on}\\n2. recipe number: {placement of the recipe on the top 100 recipes list}\\n3. recipe code: {unique id of the recipe used by the site}\\n4. comment id: {unique id of the comment}\\n5. user id: {unique id of the user who left the comment}\\n6. user name: {name of the user}\\n7. user reputation: {internal score of the site, roughly quantifying the past behavior of the user}\\n8. create at: {time at which the comment was posted as a Unix timestamp}\\n9. reply count: {number of replies to the comment}\\n10. thumbs up: {number of up-votes the comment has received}\\n11. thumbs down: {number of down-votes the comment has received}\\n12. stars: {the score on a 1 to 5 scale that the user gave to the recipe. A score of 0 means that no score was given}\\n13. best score: {score of the comment, likely used by the site the help determine the order in the comments that appear in}\\n14. text: {the text content of the comment}\\n', 'citation': 'Amir Ali, Stanisław Matuszewski, Jacek Czupyt, Usman Ahmad. (2023). Textual Taste Buds: A Profound Exploration of Emotion Identification in Food Recipes through BERT and AttBiRNN Models. International Journal of Novel Research and Development. Volume 8. ISSN: 2456-4184.'}}\n",
      "               name     role         type demographic  \\\n",
      "0       num_records  Feature      Integer        None   \n",
      "1     recipe_number  Feature      Integer        None   \n",
      "2       recipe_code  Feature      Integer        None   \n",
      "3       recipe_name  Feature  Categorical        None   \n",
      "4        comment_id  Feature  Categorical        None   \n",
      "5           user_id  Feature  Categorical        None   \n",
      "6         user_name  Feature  Categorical        None   \n",
      "7   user_reputation  Feature      Integer        None   \n",
      "8        created_at  Feature      Integer        None   \n",
      "9       reply_count  Feature      Integer        None   \n",
      "10        thumbs_up  Feature      Integer        None   \n",
      "11      thumbs_down  Feature      Integer        None   \n",
      "12            stars  Feature      Integer        None   \n",
      "13       best_score  Feature      Integer        None   \n",
      "14             text  Feature  Categorical        None   \n",
      "\n",
      "                                          description units missing_values  \n",
      "0                                   number of records  None             no  \n",
      "1   placement of the recipe on\\nthe top 100 recipe...  None             no  \n",
      "2           unique id of the recipe used\\nby the site  None             no  \n",
      "3        name of the recipe the comment was posted on  None             no  \n",
      "4                            unique id of the comment  None             no  \n",
      "5          unique id of the user who left\\nhe comment  None             no  \n",
      "6                                    name of the user  None             no  \n",
      "7   internal score of the site,\\nroughly roughly q...  None             no  \n",
      "8   time at which the comment\\nwas posted as unix ...  None             no  \n",
      "9                    number of replies to the comment  None             no  \n",
      "10        number of up-votes the comment has received  None             no  \n",
      "11   number of down-votes the\\ncomment has received\\n  None             no  \n",
      "12  he score on a 1 to 5 scale that\\nthe user gave...  None             no  \n",
      "13  score of the comment, likely\\nused by the site...  None             no  \n",
      "14                    the text content of the comment  None            yes  \n"
     ]
    }
   ],
   "source": [
    "from ucimlrepo import fetch_ucirepo \n",
    "  \n",
    "# fetch dataset \n",
    "recipe_reviews_and_user_feedback = fetch_ucirepo(id=911) \n",
    "  \n",
    "# data (as pandas dataframes) \n",
    "X = recipe_reviews_and_user_feedback.data.features \n",
    "y = recipe_reviews_and_user_feedback.data.targets \n",
    "  \n",
    "# metadata \n",
    "print(recipe_reviews_and_user_feedback.metadata) \n",
    "  \n",
    "# variable information \n",
    "print(recipe_reviews_and_user_feedback.variables) "
   ]
  },
  {
   "cell_type": "code",
   "execution_count": 3,
   "id": "9efef561",
   "metadata": {},
   "outputs": [
    {
     "data": {
      "text/plain": [
       "num_records        0\n",
       "recipe_number      0\n",
       "recipe_code        0\n",
       "recipe_name        0\n",
       "comment_id         0\n",
       "user_id            0\n",
       "user_name          0\n",
       "user_reputation    0\n",
       "created_at         0\n",
       "reply_count        0\n",
       "thumbs_up          0\n",
       "thumbs_down        0\n",
       "stars              0\n",
       "best_score         0\n",
       "text               2\n",
       "dtype: int64"
      ]
     },
     "execution_count": 3,
     "metadata": {},
     "output_type": "execute_result"
    }
   ],
   "source": [
    "X.isna().sum()"
   ]
  },
  {
   "cell_type": "code",
   "execution_count": 4,
   "id": "f8e115e0",
   "metadata": {},
   "outputs": [],
   "source": [
    "#drop missing values\n",
    "X = X.dropna()\n",
    "X = X.reset_index(drop = True)\n",
    "\n",
    "#extract relevant columns\n",
    "reviews = X[['stars', 'text']]"
   ]
  },
  {
   "cell_type": "code",
   "execution_count": 5,
   "id": "14ac771a",
   "metadata": {},
   "outputs": [
    {
     "data": {
      "image/png": "[encoded data removed]",
      "text/plain": [
       "<Figure size 432x288 with 1 Axes>"
      ]
     },
     "metadata": {
      "needs_background": "light"
     },
     "output_type": "display_data"
    }
   ],
   "source": [
    "#show distrobution of reviews\n",
    "sns.countplot(x = reviews['stars'])\n",
    "plt.show()"
   ]
  },
  {
   "cell_type": "code",
   "execution_count": 6,
   "id": "9ef41a1f",
   "metadata": {},
   "outputs": [],
   "source": [
    "#convert to 1 being a perfect recipe or 0 being less then that\n",
    "reviews.loc[:,'stars'] = reviews['stars'].apply(lambda x: 1 if x > 4 else 0)"
   ]
  },
  {
   "cell_type": "code",
   "execution_count": 7,
   "id": "92f9bdc6",
   "metadata": {},
   "outputs": [
    {
     "data": {
      "image/png": "[encoded data removed]",
      "text/plain": [
       "<Figure size 432x288 with 1 Axes>"
      ]
     },
     "metadata": {
      "needs_background": "light"
     },
     "output_type": "display_data"
    }
   ],
   "source": [
    "sns.countplot(x = reviews['stars'])\n",
    "plt.show()"
   ]
  },
  {
   "cell_type": "code",
   "execution_count": 8,
   "id": "3547d388",
   "metadata": {},
   "outputs": [
    {
     "name": "stdout",
     "output_type": "stream",
     "text": [
      "Proportion of low ratings: 23.94%\n"
     ]
    }
   ],
   "source": [
    "print(f\"Proportion of low ratings: {'{:.2f}%'.format(sum(reviews['stars'] == 0)/len(reviews['stars'])*100)}\")"
   ]
  },
  {
   "cell_type": "markdown",
   "id": "9b988d88",
   "metadata": {},
   "source": [
    "I removed the missing data as there were only two missing points. When looking at the data there is an extreme difference in size of the groups. To combat this I chose to split the data into perfect ratings, and then less favorable ratings. This will help close the gap, but we still might face problems with the model favoring the dominant group.\n",
    "\n",
    "How accurately can we predict if a user gave a perfect rating, based on their typed response?\n",
    "\n",
    "Will the discrepancy in the size of the classes cause the model to favor the more common group?"
   ]
  },
  {
   "cell_type": "code",
   "execution_count": 9,
   "id": "d374fc08",
   "metadata": {},
   "outputs": [],
   "source": [
    "#Clean the text\n",
    "stop = stopwords.words('english')\n",
    "\n",
    "# Tokenize\n",
    "reviews.loc[:,'tokens'] = reviews.apply(lambda x: nltk.word_tokenize(x['text']), axis = 1)\n",
    "\n",
    "# Remove stop words\n",
    "reviews.loc[:,'tokens'] = reviews['tokens'].apply(lambda x: [item for item in x if item not in stop])\n",
    "\n",
    "# Apply Porter stemming\n",
    "stemmer = PorterStemmer()\n",
    "reviews.loc[:,'tokens'] = reviews['tokens'].apply(lambda x: [stemmer.stem(item) for item in x])"
   ]
  },
  {
   "cell_type": "code",
   "execution_count": 10,
   "id": "9c002ce7",
   "metadata": {},
   "outputs": [],
   "source": [
    "# Unify the strings once again\n",
    "reviews.loc[:,'tokens'] = reviews['tokens'].apply(lambda x: ' '.join(x))\n",
    "\n",
    "X = reviews['tokens']\n",
    "y = reviews['stars']\n",
    "\n",
    "# Make split\n",
    "X_train, X_test, y_train, y_test = train_test_split(X, y,test_size= 0.2,random_state= 2000)\n",
    "# Create vectorizer\n",
    "vectorizer = text.CountVectorizer(strip_accents = 'ascii', lowercase = True)\n",
    "\n",
    "# Fit vectorizer & transform it\n",
    "vectorizer_fit = vectorizer.fit(X_train)\n",
    "X_train_transformed = vectorizer_fit.transform(X_train)\n",
    "X_test_transformed = vectorizer_fit.transform(X_test)"
   ]
  },
  {
   "cell_type": "code",
   "execution_count": 11,
   "id": "2363c80d",
   "metadata": {},
   "outputs": [
    {
     "data": {
      "text/plain": [
       "MultinomialNB()"
      ]
     },
     "execution_count": 11,
     "metadata": {},
     "output_type": "execute_result"
    }
   ],
   "source": [
    "# Train the model\n",
    "nb = MultinomialNB()\n",
    "nb.fit(X_train_transformed, y_train)"
   ]
  },
  {
   "cell_type": "code",
   "execution_count": 12,
   "id": "d8fcfad3",
   "metadata": {},
   "outputs": [],
   "source": [
    "pred = nb.predict(X_train_transformed)"
   ]
  },
  {
   "cell_type": "code",
   "execution_count": 13,
   "id": "59f75dc8",
   "metadata": {},
   "outputs": [
    {
     "data": {
      "text/plain": [
       "0.8479785478547854"
      ]
     },
     "execution_count": 13,
     "metadata": {},
     "output_type": "execute_result"
    }
   ],
   "source": [
    "accuracy_score(y_train,pred)"
   ]
  },
  {
   "cell_type": "code",
   "execution_count": 14,
   "id": "77a87e53",
   "metadata": {},
   "outputs": [
    {
     "data": {
      "image/png": "[encoded data removed]",
      "text/plain": [
       "<Figure size 432x288 with 2 Axes>"
      ]
     },
     "metadata": {
      "needs_background": "light"
     },
     "output_type": "display_data"
    }
   ],
   "source": [
    "cm = confusion_matrix(y_train, pred)\n",
    "ConfusionMatrixDisplay(confusion_matrix = cm).plot()\n",
    "plt.show()"
   ]
  },
  {
   "cell_type": "code",
   "execution_count": 15,
   "id": "b5d6632a",
   "metadata": {},
   "outputs": [],
   "source": [
    "pred = nb.predict(X_test_transformed)"
   ]
  },
  {
   "cell_type": "code",
   "execution_count": 16,
   "id": "9ba26d60",
   "metadata": {},
   "outputs": [
    {
     "data": {
      "text/plain": [
       "0.812981298129813"
      ]
     },
     "execution_count": 16,
     "metadata": {},
     "output_type": "execute_result"
    }
   ],
   "source": [
    "accuracy_score(y_test,pred)"
   ]
  },
  {
   "cell_type": "code",
   "execution_count": 17,
   "id": "6a5cf8e1",
   "metadata": {},
   "outputs": [
    {
     "data": {
      "image/png": "[encoded data removed]",
      "text/plain": [
       "<Figure size 432x288 with 2 Axes>"
      ]
     },
     "metadata": {
      "needs_background": "light"
     },
     "output_type": "display_data"
    }
   ],
   "source": [
    "cm = confusion_matrix(y_test, pred)\n",
    "ConfusionMatrixDisplay(confusion_matrix = cm).plot()\n",
    "plt.show()"
   ]
  },
  {
   "cell_type": "markdown",
   "id": "585c78ea",
   "metadata": {},
   "source": [
    "The model accuracy shows that it is about 81% accurate in predicting if the user will rate a recipe a perfect 5 stars or not. We can also see in the confusion matrix for both the training data and the testing data that the model does tend to favor the 5-star classification. We can see this as the number of false positives is much higher than the number of false negatives."
   ]
  },
  {
   "cell_type": "code",
   "execution_count": 18,
   "id": "5daa7fa6",
   "metadata": {},
   "outputs": [
    {
     "data": {
      "image/png": "[encoded data removed]",
      "text/plain": [
       "<Figure size 432x288 with 1 Axes>"
      ]
     },
     "metadata": {
      "needs_background": "light"
     },
     "output_type": "display_data"
    }
   ],
   "source": [
    "fpr, tpr, thresholds = roc_curve(y_test, pred)\n",
    "roc_auc = auc(fpr, tpr)\n",
    "\n",
    "\n",
    "plt.figure()  \n",
    "plt.plot(fpr, tpr, label='ROC curve (area = %0.2f)' % roc_auc)\n",
    "plt.plot([0, 1], [0, 1], 'k--', label='Random')\n",
    "plt.xlim([0.0, 1.0])\n",
    "plt.ylim([0.0, 1.05])\n",
    "plt.xlabel('False Positive Rate')\n",
    "plt.ylabel('True Positive Rate')\n",
    "plt.title('ROC Curve for Classification')\n",
    "plt.legend()\n",
    "plt.show()"
   ]
  },
  {
   "cell_type": "markdown",
   "id": "72c7f7ee",
   "metadata": {},
   "source": [
    "The ROC-AUC curve shows that the model requires a very high false positive rate to obtain a good true positive rate. The AUC of .68 means that the model is only a little better than randomly assigning the data to a group."
   ]
  },
  {
   "cell_type": "code",
   "execution_count": 19,
   "id": "8a6280a1",
   "metadata": {},
   "outputs": [
    {
     "name": "stdout",
     "output_type": "stream",
     "text": [
      "Scores for each fold are: [0.80405638 0.80336886 0.80199381 0.79718116 0.81189821]\n",
      "Average score: 0.80\n"
     ]
    }
   ],
   "source": [
    "kf = StratifiedKFold(n_splits=5, shuffle=True, random_state=2000)\n",
    "score = cross_val_score(MultinomialNB(),\n",
    "                        X_train_transformed, y_train, cv = kf, scoring=\"accuracy\")\n",
    "print(f'Scores for each fold are: {score}')\n",
    "print(f'Average score: {\"{:.2f}\".format(score.mean())}')"
   ]
  },
  {
   "cell_type": "code",
   "execution_count": 20,
   "id": "26bfa8c2",
   "metadata": {},
   "outputs": [
    {
     "name": "stdout",
     "output_type": "stream",
     "text": [
      "Scores for each fold are: [0.80302509 0.80990031 0.81230663 0.79064971 0.80639615]\n",
      "Average score: 0.80\n"
     ]
    }
   ],
   "source": [
    "kf = KFold(n_splits=5, shuffle=True, random_state=2000)\n",
    "score = cross_val_score(MultinomialNB(),\n",
    "                        X_train_transformed, y_train, cv= kf, scoring=\"accuracy\")\n",
    "print(f'Scores for each fold are: {score}')\n",
    "print(f'Average score: {\"{:.2f}\".format(score.mean())}')"
   ]
  },
  {
   "cell_type": "markdown",
   "id": "85081327",
   "metadata": {},
   "source": [
    "When looking at the Kfold cross-validation scores both stratified and standard kfold result in a similar accuracy score of 80%. This means that even when we ensure that there is some data from the below 5 stars group, the 5 stars group dominates the results. \n",
    "\n",
    "Overall the does not perform very well, as it is overfit towards the 5-star reviews. The data needs to be more robust to make accurate models on overall ratings.\n",
    "\n",
    "In the future, I might have chosen a different way to split the training and testing data. I might have chosen to train the data on an equal proportion between the two groups. This possibly would have removed some of the bias towards the larger class."
   ]
  },
  {
   "cell_type": "markdown",
   "id": "9a489071",
   "metadata": {},
   "source": [
    "## <center> Reference\n",
    "Ali,Amir, Matuszewski,Stanislaw , and Czupyt,Jacek. (2023). Recipe Reviews and User Feedback. UCI Machine Learning Repository. https://doi.org/10.24432/C5FG95.\n",
    "    \n",
    "Jauregui, A. F. (2022, August 16). Naive Bayes in python. https://anderfernandez.com/en/blog/naive-bayes-in-python/ "
   ]
  }
 ],
 "metadata": {
  "kernelspec": {
   "display_name": "Python 3 (ipykernel)",
   "language": "python",
   "name": "python3"
  },
  "language_info": {
   "codemirror_mode": {
    "name": "ipython",
    "version": 3
   },
   "file_extension": ".py",
   "mimetype": "text/x-python",
   "name": "python",
   "nbconvert_exporter": "python",
   "pygments_lexer": "ipython3",
   "version": "3.9.7"
  }
 },
 "nbformat": 4,
 "nbformat_minor": 5
}
