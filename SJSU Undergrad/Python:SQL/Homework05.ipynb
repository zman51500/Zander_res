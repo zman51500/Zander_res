{
 "cells": [
  {
   "cell_type": "markdown",
   "metadata": {},
   "source": [
    "Before you turn this homework in, make sure everything runs as expected. First, **restart the kernel** and then **run all cells** (in the menubar, select Kernel$\\rightarrow$Restart \\& Run all). If you get error messages, the grader will get the same errors and won't be able to grade your work. \n",
    "\n",
    "Make sure you fill in any place that says `YOUR CODE HERE` or \"YOUR ANSWER HERE\". You may delete the line(s) that say \"**raise** NotImplementedError()\" and replace them with your actual work. Write all your work in the cells provided in this notebook. **DO NOT** add or delete any cells. \n",
    "\n",
    "Please fill in your name in the cell below."
   ]
  },
  {
   "cell_type": "code",
   "execution_count": 1,
   "metadata": {},
   "outputs": [],
   "source": [
    "NAME = \"Zander Bonnet\""
   ]
  },
  {
   "cell_type": "markdown",
   "metadata": {},
   "source": [
    "---"
   ]
  },
  {
   "cell_type": "markdown",
   "metadata": {
    "deletable": false,
    "editable": false,
    "nbgrader": {
     "cell_type": "markdown",
     "checksum": "14dca6b286e1119dbd8bfa6307e2703d",
     "grade": false,
     "grade_id": "cell-d52a593a8c020deb",
     "locked": true,
     "schema_version": 3,
     "solution": false,
     "task": false
    }
   },
   "source": [
    "# Homework 5\n",
    "\n",
    "In all problems below, please comment your code sufficiently well so that the grader can follow what you are doing with ease. For non-coding answers, please make sure to formulate your explanation and answers in the form of complete English sentences. It is not sufficient to just leave comments in the code (without full sentence explanations in problems that ask for those) or vice versa (to leave full sentence explanations but not code comments). You will need both to get full credit. "
   ]
  },
  {
   "cell_type": "markdown",
   "metadata": {
    "deletable": false,
    "editable": false,
    "nbgrader": {
     "cell_type": "markdown",
     "checksum": "36cef98c7a8e7317764c2ab279f80e5d",
     "grade": false,
     "grade_id": "cell-e67ddc33ea17b2b2",
     "locked": true,
     "schema_version": 3,
     "solution": false,
     "task": false
    }
   },
   "source": [
    "## Problem 1\n",
    "\n",
    "The code given below (don't change the seed, please) generates n=10,000 IID random samples from Student's t-distribution with degree of freedom $\\nu = 5$. Let $X \\sim t(\\nu=5)$ be a random variable with a $t_5$ distribution. For each of the following quantities, find their values using the methods your have learned in Math 161A. You can find a t-table on Canvas under Modules. State your answer together with a short description of how you find it. Also find the best estimate of each quantity you can produce based on the 10,000 generated random numbers."
   ]
  },
  {
   "cell_type": "code",
   "execution_count": 2,
   "metadata": {
    "deletable": false,
    "editable": false,
    "nbgrader": {
     "cell_type": "code",
     "checksum": "36ddd18f9e7367120b77bcea768303ac",
     "grade": false,
     "grade_id": "cell-c81db99b9f1b3232",
     "locked": true,
     "schema_version": 3,
     "solution": false,
     "task": false
    }
   },
   "outputs": [],
   "source": [
    "from scipy import stats\n",
    "import numpy as np\n",
    "\n",
    "np.random.seed(10)\n",
    "Data = np.array(stats.t.rvs(df=5,size=10000))"
   ]
  },
  {
   "cell_type": "markdown",
   "metadata": {
    "deletable": false,
    "editable": false,
    "nbgrader": {
     "cell_type": "markdown",
     "checksum": "9c4b6d11b1c3dae3121a3d36bb56bc71",
     "grade": false,
     "grade_id": "cell-65151cb57cd799bb",
     "locked": true,
     "schema_version": 3,
     "solution": false,
     "task": false
    }
   },
   "source": [
    "(a) (2 points) $P(-1 \\le X < 2)$"
   ]
  },
  {
   "cell_type": "code",
   "execution_count": 3,
   "metadata": {
    "deletable": false,
    "nbgrader": {
     "cell_type": "code",
     "checksum": "23b90b5f17e1e83982558dbf1b93f0a7",
     "grade": true,
     "grade_id": "cell-d6643eff340ddd97",
     "locked": false,
     "points": 1,
     "schema_version": 3,
     "solution": true,
     "task": false
    }
   },
   "outputs": [
    {
     "name": "stdout",
     "output_type": "stream",
     "text": [
      "0.7648\n"
     ]
    }
   ],
   "source": [
    "# YOUR CODE HERE\n",
    "count = 0\n",
    "for i in Data:\n",
    "    if(i >= -1) & (i <2):\n",
    "        count += 1\n",
    "print(count/len(Data))"
   ]
  },
  {
   "cell_type": "markdown",
   "metadata": {
    "deletable": false,
    "nbgrader": {
     "cell_type": "markdown",
     "checksum": "e552cec95cf325d8495570b4934e8872",
     "grade": true,
     "grade_id": "cell-6272dd2b27a72a88",
     "locked": false,
     "points": 1,
     "schema_version": 3,
     "solution": true,
     "task": false
    }
   },
   "source": [
    "You can find the cdf of -1 and subtract that from the cdf of 2 and get .7674"
   ]
  },
  {
   "cell_type": "markdown",
   "metadata": {
    "deletable": false,
    "editable": false,
    "nbgrader": {
     "cell_type": "markdown",
     "checksum": "e816a56874cc56032afacdf7ad90dea8",
     "grade": false,
     "grade_id": "cell-35eaff812d6c1eb4",
     "locked": true,
     "schema_version": 3,
     "solution": false,
     "task": false
    }
   },
   "source": [
    "(b) (2 points) The $77^{th}$ percentile of $X$."
   ]
  },
  {
   "cell_type": "code",
   "execution_count": 4,
   "metadata": {
    "deletable": false,
    "nbgrader": {
     "cell_type": "code",
     "checksum": "5516e4daecd6fc690995a50ae0e81a6a",
     "grade": true,
     "grade_id": "cell-0437f43f4bcf6b6b",
     "locked": false,
     "points": 1,
     "schema_version": 3,
     "solution": true,
     "task": false
    }
   },
   "outputs": [
    {
     "data": {
      "text/plain": [
       "0.7963330894742617"
      ]
     },
     "execution_count": 4,
     "metadata": {},
     "output_type": "execute_result"
    }
   ],
   "source": [
    "# YOUR CODE HERE\n",
    "np.percentile(Data, 77)"
   ]
  },
  {
   "cell_type": "markdown",
   "metadata": {
    "deletable": false,
    "nbgrader": {
     "cell_type": "markdown",
     "checksum": "9bdc02adc08ce1295ab101be3b50df64",
     "grade": true,
     "grade_id": "cell-1e1f309c4198b7f1",
     "locked": false,
     "points": 1,
     "schema_version": 3,
     "solution": true,
     "task": false
    }
   },
   "source": [
    "Becasue the t table gives you right tail probabilities and the distribution is symetric you can do 1-.77 to get .23(This is the right tail probability) and then find to the value of t you look at the $\\nu = 5$ column and see that .23 coresponds to .8"
   ]
  },
  {
   "cell_type": "markdown",
   "metadata": {
    "deletable": false,
    "editable": false,
    "nbgrader": {
     "cell_type": "markdown",
     "checksum": "c84808388f9909d7a3a63284759d6fbd",
     "grade": false,
     "grade_id": "cell-e01b5e902d4d0d70",
     "locked": true,
     "schema_version": 3,
     "solution": false,
     "task": false
    }
   },
   "source": [
    "(c) (2 points) Var($X$) (that is the sample variance of $X$)"
   ]
  },
  {
   "cell_type": "code",
   "execution_count": 5,
   "metadata": {
    "deletable": false,
    "nbgrader": {
     "cell_type": "code",
     "checksum": "0e7365cb71b9bbd857ebb4f031603dd1",
     "grade": true,
     "grade_id": "cell-d7e3d031114e94c3",
     "locked": false,
     "points": 1,
     "schema_version": 3,
     "solution": true,
     "task": false
    }
   },
   "outputs": [
    {
     "name": "stdout",
     "output_type": "stream",
     "text": [
      "1.649798379710413\n"
     ]
    }
   ],
   "source": [
    "# YOUR CODE HERE\n",
    "print(np.var(Data))"
   ]
  },
  {
   "cell_type": "markdown",
   "metadata": {
    "deletable": false,
    "nbgrader": {
     "cell_type": "markdown",
     "checksum": "4550505cdd83090958d5aa6fd90d7ff9",
     "grade": true,
     "grade_id": "cell-c41b4d4b92fff5d4",
     "locked": false,
     "points": 1,
     "schema_version": 3,
     "solution": true,
     "task": false
    }
   },
   "source": [
    "Variance of the t distribution is $\\nu / \\nu - 2$ so the estimated variance would be 5/3 = 1.67"
   ]
  },
  {
   "cell_type": "markdown",
   "metadata": {
    "deletable": false,
    "editable": false,
    "nbgrader": {
     "cell_type": "markdown",
     "checksum": "c4e7120ae6107091a52a28bd812c2fc9",
     "grade": false,
     "grade_id": "cell-08e2c1b9a5e96a6c",
     "locked": true,
     "schema_version": 3,
     "solution": false,
     "task": false
    }
   },
   "source": [
    "## Problem 2 \n",
    "\n",
    "(3 points) The code below generates a random sample from a Poisson distribution. Run the cell to create sample X. "
   ]
  },
  {
   "cell_type": "code",
   "execution_count": 6,
   "metadata": {
    "deletable": false,
    "editable": false,
    "nbgrader": {
     "cell_type": "code",
     "checksum": "2b1537d8e1a47752cbb62bbe41498ad7",
     "grade": false,
     "grade_id": "cell-46f9dd140cecd2c9",
     "locked": true,
     "schema_version": 3,
     "solution": false,
     "task": false
    }
   },
   "outputs": [],
   "source": [
    "import numpy as np\n",
    "from scipy import stats\n",
    "\n",
    "np.random.seed(13)\n",
    "X = stats.poisson(7).rvs(925)"
   ]
  },
  {
   "cell_type": "markdown",
   "metadata": {
    "deletable": false,
    "editable": false,
    "nbgrader": {
     "cell_type": "markdown",
     "checksum": "c1774b0d1a645052e594053833193235",
     "grade": false,
     "grade_id": "cell-3d27aeddf95e1359",
     "locked": true,
     "schema_version": 3,
     "solution": false,
     "task": false
    }
   },
   "source": [
    "Write code to produce a 95\\% bootstrap confidence interval for the mean of that sample. Report your result as a print statement with two after-decimal digit accuracy. Describe your procedure (in English in the Markdown box below) and justify all the choices you make in your code. "
   ]
  },
  {
   "cell_type": "code",
   "execution_count": 7,
   "metadata": {
    "deletable": false,
    "nbgrader": {
     "cell_type": "code",
     "checksum": "9f62b4d268201052681ed60cf8fc59e4",
     "grade": true,
     "grade_id": "cell-14c45308c44c0c69",
     "locked": false,
     "points": 2,
     "schema_version": 3,
     "solution": true,
     "task": false
    }
   },
   "outputs": [
    {
     "name": "stdout",
     "output_type": "stream",
     "text": [
      "6.5\n",
      "7.54\n"
     ]
    }
   ],
   "source": [
    "# YOUR CODE HERE\n",
    "np.random.seed(13)\n",
    "bootMeans = [] #The list of means per sample\n",
    "for i in range(1000): #Creates 1000 samples\n",
    "    samp = np.random.choice(X,size = 100) #The sample of size 100 from X\n",
    "    bootMeans.append(np.mean(samp)) #Adds to list\n",
    "print(round(np.percentile(bootMeans, 2.5),2)) #Gets lower bound of confidence interval\n",
    "print(round(np.percentile(bootMeans, 97.5),2)) #Gets upper bound of confidince interval"
   ]
  },
  {
   "cell_type": "markdown",
   "metadata": {
    "deletable": false,
    "nbgrader": {
     "cell_type": "markdown",
     "checksum": "3bfff8f2879b2e77a14c4c109849f119",
     "grade": true,
     "grade_id": "cell-0a4447350367e6ba",
     "locked": false,
     "points": 1,
     "schema_version": 3,
     "solution": true,
     "task": false
    }
   },
   "source": [
    "I created 1000 samples of size 100 and appended them to a list. I then found the 2.5 percentile, as that is the lower bound of a 95% CI, and then I found the 97.5 percetile for the upper bound of the CI."
   ]
  },
  {
   "cell_type": "markdown",
   "metadata": {
    "deletable": false,
    "editable": false,
    "nbgrader": {
     "cell_type": "markdown",
     "checksum": "e0f9081e2349a9cc987963446b24be80",
     "grade": false,
     "grade_id": "cell-5001ea8e93e8e42d",
     "locked": true,
     "schema_version": 3,
     "solution": false,
     "task": false
    }
   },
   "source": [
    "## Problem 3\n",
    "\n",
    "Conway's [game of life](https://en.wikipedia.org/wiki/Conway%27s_Game_of_Life) is a cellular automaton. There aren't any actual players in this \"game\". Instead the game board evolves according to some specific rules. In this problem, we will simlulate a game board for the game-of-life and study its evolution. \n",
    "\n",
    "Consider a two-dimensional $m \\times n$ grid (think two-dimensional NumPy array). Each entry in the array is either 1 (represents a \"live\" cell) or 0 (represents a dead cell). Time is discrete. That is, we consider time points $t_1, t_2 \\ldots$. \n",
    "\n",
    "Here are the rules for evolution from some time point $t_n$ to the next $t_{n+1}$:\n",
    "\n",
    "- Any live cell with fewer than two live neighbours dies, as if by underpopulation.\n",
    "- Any live cell with two or three live neighbours lives on to the next generation.\n",
    "- Any live cell with more than three live neighbours dies, as if by overpopulation.\n",
    "- Any dead cell with exactly three live neighbours becomes a live cell, as if by reproduction.\n",
    "\n",
    "Please note, that changes are only implemented in the next time-step. That means for each cell in the array, we will apply the above rules to decide whether it will live or die and then implement the changed board for the next time step after evaluating all cells. We will assume that the board has a torus structure. That means cells in the upper-most row are assumed to neighbor the cells in the lower-most row and similarly, the cells in the left-most column are assumed to neighbor the cells in the right-most column.\n",
    "\n",
    "**Example**: each cell on the board has eight neighbors. The four cells to the top, bottom, left, and right as well as the four diagonally bordering cells. In the $5 \\times 5$ example shown below, the eight neighbors of the black cell at (0,0) are shown in red. Execute the code below to see the image. "
   ]
  },
  {
   "cell_type": "code",
   "execution_count": 8,
   "metadata": {
    "deletable": false,
    "editable": false,
    "nbgrader": {
     "cell_type": "code",
     "checksum": "49d9ac7ce4f42d7d01bc52b8d3d59003",
     "grade": false,
     "grade_id": "cell-250e77f28885f4b8",
     "locked": true,
     "schema_version": 3,
     "solution": false,
     "task": false
    }
   },
   "outputs": [
    {
     "data": {
      "image/png": "[encoded data removed]",
      "text/plain": [
       "<Figure size 432x288 with 1 Axes>"
      ]
     },
     "metadata": {
      "needs_background": "light"
     },
     "output_type": "display_data"
    }
   ],
   "source": [
    "import numpy as np\n",
    "import matplotlib.pyplot as plt\n",
    "\n",
    "a = 2*np.ones((5, 5), int) # make numpy array with data\n",
    "a[0,0] = 0                 # black cell\n",
    "a[0,1] = a[1,0] = a[1,1] = a[4,4] = a[4,0] = a[4,1] = a[0,4] = a[1,4] = 1 # red cells\n",
    "plt.imshow(a, cmap='hot');            # create heatmap 0 is black, 1 is red, 2 is white\n",
    "                                      # don't worry - you don't have to understand the plot commands, yet. "
   ]
  },
  {
   "cell_type": "markdown",
   "metadata": {
    "deletable": false,
    "editable": false,
    "nbgrader": {
     "cell_type": "markdown",
     "checksum": "e26ad6ce7bd7ea64ebf0660468a7cfe4",
     "grade": false,
     "grade_id": "cell-71ba0963ca8206d3",
     "locked": true,
     "schema_version": 3,
     "solution": false,
     "task": false
    }
   },
   "source": [
    "(a) (2 points) Write a function called `valid_board()` that determines whether a $m\\times n$ numpy array is a valid game-of-life board. That means that your function should return the boolean value `True` if every entry in the array is either 0 or 1 and otherwise should return `False`. "
   ]
  },
  {
   "cell_type": "code",
   "execution_count": 9,
   "metadata": {
    "deletable": false,
    "nbgrader": {
     "cell_type": "code",
     "checksum": "401361f363248b2ef3a2ed0895669ee9",
     "grade": true,
     "grade_id": "cell-df1254b47a71068d",
     "locked": false,
     "points": 0,
     "schema_version": 3,
     "solution": true,
     "task": false
    }
   },
   "outputs": [],
   "source": [
    "def valid_board(array):\n",
    "    \"\"\"checks whether NumPy array is valid game board for game-of-life\"\"\"\n",
    "    # YOUR CODE HERE\n",
    "    for row in range(np.size(array,0)): #For rows\n",
    "        for col in range(np.size(array,1)): #For cols\n",
    "            if(array[row,col]  != 1) & (array[row,col] != 0): #If not a 1 or 0 return false\n",
    "                return(False)\n",
    "    return(True)"
   ]
  },
  {
   "cell_type": "code",
   "execution_count": 10,
   "metadata": {
    "deletable": false,
    "editable": false,
    "nbgrader": {
     "cell_type": "code",
     "checksum": "c8e64bf9556b2da03a94cbd24aaff1ee",
     "grade": true,
     "grade_id": "cell-44ded26717289dfd",
     "locked": true,
     "points": 2,
     "schema_version": 3,
     "solution": false,
     "task": false
    }
   },
   "outputs": [
    {
     "data": {
      "text/plain": [
       "True"
      ]
     },
     "execution_count": 10,
     "metadata": {},
     "output_type": "execute_result"
    }
   ],
   "source": [
    "# Check that your function works as it is supposed to \n",
    "valid_board(np.array([[0,1,0],[1,1,0]]))==True\n",
    "valid_board(np.array([[0,3,0],[-1,1,0]]))==False\n"
   ]
  },
  {
   "cell_type": "markdown",
   "metadata": {
    "deletable": false,
    "editable": false,
    "nbgrader": {
     "cell_type": "markdown",
     "checksum": "424b63990ccd546247a42ab530a69c87",
     "grade": false,
     "grade_id": "cell-e9b7de9967373330",
     "locked": true,
     "schema_version": 3,
     "solution": false,
     "task": false
    }
   },
   "source": [
    "(b) (5 points) Write a function called `evolution()` that takes as its input a two-dimendional Numpy array. Check, whether the array is a valid game-of-life board. If it is, return the board at the next evolution time step (that is apply the above rules to every cell and return a game board with live or dead cells one time step later). If the board is not valid, return the print statement \"your board is not valid\". \n",
    "\n",
    "Don't forget to comment your code!"
   ]
  },
  {
   "cell_type": "code",
   "execution_count": 11,
   "metadata": {
    "deletable": false,
    "nbgrader": {
     "cell_type": "code",
     "checksum": "a09c2892e02bfe031fcad44f344d2f21",
     "grade": true,
     "grade_id": "cell-913c67203c7a5103",
     "locked": false,
     "points": 0,
     "schema_version": 3,
     "solution": true,
     "task": false
    }
   },
   "outputs": [],
   "source": [
    "def find_neighbors(A,x,y):\n",
    "    \"\"\" find neightbors of cell A[x,y] in A\"\"\" \n",
    "    m,n = A.shape\n",
    "    left = A[:,0] # replicate left-most and right-most column\n",
    "    right = A[:,n-1] \n",
    "    new_A = np.concatenate((right[:, np.newaxis],A, left[:,np.newaxis]), axis = 1) # glue on right,left\n",
    "    top = new_A[0,:] # replicate top and bottom row (already includes \"corners\") \n",
    "    bottom = new_A[m-1,:]\n",
    "    new_A = np.concatenate((bottom[np.newaxis,:],new_A, top[np.newaxis,:]), axis = 0) # glue on top, bottom\n",
    "    return new_A[x:x+3, y:y+3]\n",
    "\n",
    "def evolution(array):\n",
    "    \"\"\"evolves game board for game-of-life for one time-step\"\"\"\n",
    "    if(valid_board(array) == False):\n",
    "        return(print(\"your board is not valid\"))\n",
    "    new_board = array.copy() # Makes the next generations board\n",
    "    for row in range(np.size(array,0)): #For all row values\n",
    "        for col in range(np.size(array,1)): #For all column values\n",
    "            area = find_neighbors(array,row,col) #Gets all the neighbors\n",
    "            ones = np.sum(area) #Counts the live neighbors (if the center point is also 1 the count will be 1 higher)\n",
    "            if(ones < 3) & (array[row,col]==1): #If less than 2 live neighbors it dies\n",
    "                new_board[row,col] = 0\n",
    "            elif(array[row,col]==1) & ((ones == 3) | (ones == 4)): #If 2 or 3 neighbors lives\n",
    "                new_board[row,col] = 1\n",
    "            elif(array[row,col] == 1) &(ones > 4): #If more than 3 neighbors dies\n",
    "                new_board[row,col] == 0\n",
    "            elif(array[row,col] == 0)&(ones == 3): # If 3 neighbors and not alive born\n",
    "                new_board[row,col] = 1\n",
    "    return(new_board)\n",
    "    "
   ]
  },
  {
   "cell_type": "markdown",
   "metadata": {
    "deletable": false,
    "editable": false,
    "nbgrader": {
     "cell_type": "markdown",
     "checksum": "aaabfc7dc0a399816439066c1ad0533a",
     "grade": false,
     "grade_id": "cell-d1f88e07e1278b59",
     "locked": true,
     "schema_version": 3,
     "solution": false,
     "task": false
    }
   },
   "source": [
    "**Optional:** If you are not able to implement the `evolution()` function above, provide a written description of your algorithm here instead for potential partial credit. "
   ]
  },
  {
   "cell_type": "markdown",
   "metadata": {
    "deletable": false,
    "nbgrader": {
     "cell_type": "markdown",
     "checksum": "50cd10396fb7512327148cbd9bb24e68",
     "grade": true,
     "grade_id": "cell-5c9b5e32ba2fbf53",
     "locked": false,
     "points": 0,
     "schema_version": 3,
     "solution": true,
     "task": false
    }
   },
   "source": [
    "YOUR ANSWER HERE"
   ]
  },
  {
   "cell_type": "code",
   "execution_count": 12,
   "metadata": {
    "deletable": false,
    "editable": false,
    "nbgrader": {
     "cell_type": "code",
     "checksum": "ea7713237c5d6852430d17051ef15635",
     "grade": true,
     "grade_id": "cell-93251a291726e494",
     "locked": true,
     "points": 5,
     "schema_version": 3,
     "solution": false,
     "task": false
    }
   },
   "outputs": [
    {
     "data": {
      "text/plain": [
       "array([[ True,  True,  True,  True,  True],\n",
       "       [ True,  True,  True,  True,  True],\n",
       "       [ True,  True,  True,  True,  True],\n",
       "       [ True,  True,  True,  True,  True],\n",
       "       [ True,  True,  True,  True,  True]])"
      ]
     },
     "execution_count": 12,
     "metadata": {},
     "output_type": "execute_result"
    }
   ],
   "source": [
    "# Check your evolution function \n",
    "\n",
    "evolution(np.array([[1, 0, 0, 1, 0],\n",
    "       [0, 0, 1, 0, 0],\n",
    "       [0, 1, 0, 0, 1],\n",
    "       [0, 1, 0, 1, 1],\n",
    "       [0, 0, 0, 0, 0]]))==np.array([[0., 0., 0., 0., 0.],\n",
    "       [1., 1., 1., 1., 1.],\n",
    "       [0., 1., 0., 0., 1.],\n",
    "       [0., 0., 1., 1., 1.],\n",
    "       [1., 0., 1., 1., 0.]])\n"
   ]
  },
  {
   "cell_type": "markdown",
   "metadata": {
    "deletable": false,
    "editable": false,
    "nbgrader": {
     "cell_type": "markdown",
     "checksum": "e0a32e57bb55c42741038069945aa003",
     "grade": false,
     "grade_id": "cell-4990640d655a5eaa",
     "locked": true,
     "schema_version": 3,
     "solution": false,
     "task": false
    }
   },
   "source": [
    "**Remark:** The function `print_board()` defined below takes a $m \\times n$ NumPy array as its input and returns a printed image of the live (black) and dead (white) cells. Execute the code below to define the function. "
   ]
  },
  {
   "cell_type": "code",
   "execution_count": 13,
   "metadata": {
    "deletable": false,
    "editable": false,
    "nbgrader": {
     "cell_type": "code",
     "checksum": "660d418144d4dad73e7bf3af4b8820b0",
     "grade": false,
     "grade_id": "cell-ff6a95c41f5f4046",
     "locked": true,
     "schema_version": 3,
     "solution": false,
     "task": false
    }
   },
   "outputs": [],
   "source": [
    "import numpy as np\n",
    "import matplotlib.pyplot as plt\n",
    "\n",
    "def print_board(array):\n",
    "    \"\"\"visualizes game board for game of life\"\"\"\n",
    "    plt.imshow(array, cmap = 'binary');"
   ]
  },
  {
   "cell_type": "markdown",
   "metadata": {
    "deletable": false,
    "editable": false,
    "nbgrader": {
     "cell_type": "markdown",
     "checksum": "5479e20bd5da867cf019f1e851037907",
     "grade": false,
     "grade_id": "cell-d4f40477e9d9e311",
     "locked": true,
     "schema_version": 3,
     "solution": false,
     "task": false
    }
   },
   "source": [
    "(c) (4 points) Use either NumPy or Scipy to generate a game-of-life board of size $10 \\times 10$ in which each cell is a Bernoulli(p) random variable. That is, assume that cells are independent and that each value is 1 with probability p or otherwise 0. Start with p=0.5. Look at your initial board (you don't have to show the image). Show the visualization of the board after 100 steps of evolution. Repeat this process for a number of different random seeds (at least 10 different seeds). You do not have to show us your plots (you can only show one plot at a time per Juypter Notebook cell with the `print_board()` function). What happens if you start with a different (larger, smaller) value of p? Please describe what you observe. "
   ]
  },
  {
   "cell_type": "code",
   "execution_count": 14,
   "metadata": {
    "deletable": false,
    "nbgrader": {
     "cell_type": "code",
     "checksum": "986e6ba1d33391ced6ba9444d24304ec",
     "grade": true,
     "grade_id": "cell-c31ce8e6272572e0",
     "locked": false,
     "points": 2,
     "schema_version": 3,
     "solution": true,
     "task": false
    }
   },
   "outputs": [
    {
     "data": {
      "image/png": "[encoded data removed]",
      "text/plain": [
       "<Figure size 432x288 with 1 Axes>"
      ]
     },
     "metadata": {
      "needs_background": "light"
     },
     "output_type": "display_data"
    }
   ],
   "source": [
    "# YOUR CODE HERE\n",
    "np.random.seed(10)\n",
    "sample = np.array(stats.bernoulli(.7).rvs(100)).reshape(10,10) # generate 100 RVs from a bernoulli distribution\n",
    "for i in range(100):\n",
    "    sample = evolution(sample)\n",
    "print_board(sample)"
   ]
  },
  {
   "cell_type": "markdown",
   "metadata": {
    "deletable": false,
    "nbgrader": {
     "cell_type": "markdown",
     "checksum": "ee3fe807dd374d058a4b7d787f023712",
     "grade": true,
     "grade_id": "cell-4ddc784173123670",
     "locked": false,
     "points": 2,
     "schema_version": 3,
     "solution": true,
     "task": false
    }
   },
   "source": [
    "If you start with a smaller value of p the population of black squares after 100 steps has a chance of going extinct. If it does survive though the population tends to be smaller than if you started with a higher value of p. After runing the simulation many times with large p I have not seen a case where the population went extinct."
   ]
  }
 ],
 "metadata": {
  "kernelspec": {
   "display_name": "Python 3 (ipykernel)",
   "language": "python",
   "name": "python3"
  },
  "language_info": {
   "codemirror_mode": {
    "name": "ipython",
    "version": 3
   },
   "file_extension": ".py",
   "mimetype": "text/x-python",
   "name": "python",
   "nbconvert_exporter": "python",
   "pygments_lexer": "ipython3",
   "version": "3.9.7"
  }
 },
 "nbformat": 4,
 "nbformat_minor": 2
}
